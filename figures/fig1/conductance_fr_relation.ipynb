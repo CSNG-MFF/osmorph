{
 "cells": [
  {
   "cell_type": "code",
   "execution_count": 1,
   "id": "b7d1c77f",
   "metadata": {},
   "outputs": [],
   "source": [
    "import os\n",
    "os.chdir('/home/david/Projects/optogenetic_whole_cell_activation/morph_impact_on_opt_stim')\n",
    "import numpy as np\n",
    "import pandas as pd\n",
    "from neuron import h\n",
    "from neurostim.cell import Cell\n",
    "from neurostim.light_classes import LightSource, LightStimulation\n",
    "from neurostim.utils import convert_polar_to_cartesian_xz, interpolate\n",
    "from neurostim.polarmaps import get_AP_times\n",
    "import matplotlib.pyplot as plt\n",
    "from matplotlib.colors import LogNorm\n",
    "import seaborn as sns\n",
    "from matplotlib import rc\n",
    "rc('font',**{'family':'sans-serif','sans-serif':['Arial']})"
   ]
  },
  {
   "cell_type": "code",
   "execution_count": 2,
   "id": "ddd1fde8-add8-4165-b164-65664d2675dd",
   "metadata": {},
   "outputs": [],
   "source": [
    "# format\n",
    "# dimensions (A4:  8.27 x 11.69 inches)\n",
    "text_frac = 0.8\n",
    "abs_pw = 8.27 # pagewidth\n",
    "abs_pl = 11.69 # pagelength\n",
    "pw = text_frac * abs_pw\n",
    "pl = text_frac * abs_pl\n",
    "# others\n",
    "dpi=600"
   ]
  },
  {
   "cell_type": "code",
   "execution_count": 3,
   "id": "e6a01313-edb2-408c-8d7d-ef4ac78bc69a",
   "metadata": {},
   "outputs": [],
   "source": [
    "# simulate conductances in L5 cell for selected light powers\n",
    "hoc_file = 'L5'\n",
    "plot_path = 'paper/NEW_FIGURES/FIG1/plots/'+hoc_file+'_'\n",
    "\n",
    "#light_powers = [5e-5, 1e-4, 5e-4, 1e-3, 5e-3]\n",
    "light_powers = np.exp(np.linspace(np.log(1e-4), np.log(1e-2),10))\n",
    "light_powers = np.linspace(1e-5, 1e-2,200)"
   ]
  },
  {
   "cell_type": "code",
   "execution_count": 4,
   "id": "81cb1a86",
   "metadata": {},
   "outputs": [
    {
     "name": "stdout",
     "output_type": "stream",
     "text": [
      "\t1 \n",
      "\t1 \n",
      "\t1 \n",
      "\t1 \n"
     ]
    }
   ],
   "source": [
    "# model config 1 ---- *** DO NOT RERUN ***\n",
    "# NEURON simulator setup is corrupted if reinitialized in a running kernel, rerun complete notebook\n",
    "\n",
    "# cortical depth of neuron models\n",
    "cortical_depth = {'L23': 400, 'L5': 1170} #um\n",
    "\n",
    "# ChR2 expression distribution and level\n",
    "chanrhod_distribution = 'uniform' \n",
    "chanrhod_soma_density = 13e9\n",
    "\n",
    "# NEURON setup\n",
    "h.load_file(\"stdrun.hoc\")\n",
    "h.cvode_active(1)\n",
    "# load cell and create stimulation object\n",
    "cell = Cell(\n",
    "    hoc_file=\"simneurostim/model/hoc/\" + str(hoc_file) + \".hoc\",\n",
    "    cortical_depth=cortical_depth,\n",
    "    ChR_soma_density=chanrhod_soma_density,\n",
    "    ChR_distribution=str(chanrhod_distribution),\n",
    "    delete_all_secs_except_soma=True\n",
    ")"
   ]
  },
  {
   "cell_type": "code",
   "execution_count": 5,
   "id": "66ed0695",
   "metadata": {},
   "outputs": [],
   "source": [
    "# model config 2 (can be adapted and rerun without restarting notebook kernel)\n",
    "\n",
    "# light source model and params\n",
    "light_model = 'foutz_et_al2012'\n",
    "fiber_diameter = 200 #um\n",
    "fiber_NA = 0.22\n",
    "# stimulation duration\n",
    "light_duration = 200 # ms\n",
    "# other params\n",
    "light_delay = 1 #ms\n",
    "tot_rec_time = light_delay + light_duration + 10\n",
    "AP_threshold = 0 # mV\n",
    "interpol_dt = 0.1 # ms\n",
    "\n",
    "def setup_stimulation(radius, angle, light_power, \n",
    "                      light_delay=light_delay, light_duration=light_duration, light_model=light_model, \n",
    "                      fiber_diameter=fiber_diameter, fiber_NA=fiber_NA, cell=cell): \n",
    "    # light source initialization\n",
    "    light_x, light_y = convert_polar_to_cartesian_xz(radius, angle)\n",
    "    light_z = 0  # cortical surface\n",
    "    light_pos = (light_x, light_y, light_z)\n",
    "    light_source = LightSource(\n",
    "        model=str(light_model),\n",
    "        position=(light_x, light_y, light_z),\n",
    "        width=float(fiber_diameter),\n",
    "        NA=float(fiber_NA)\n",
    "    )\n",
    "    # stimulation object initialization\n",
    "    light_stim = LightStimulation(\n",
    "        cell=cell,\n",
    "        light_source=light_source,\n",
    "        delay=float(light_delay),\n",
    "        duration=float(light_duration),\n",
    "        light_power=float(light_power),\n",
    "        record_all_segments=False,\n",
    "    )\n",
    "    return light_source, light_stim\n",
    "\n",
    "def stimulate_and_measure(radius, angle, light_power, rec_vars):\n",
    "    # initialize light source and stim with standard params\n",
    "    light_source, light_stim = setup_stimulation(radius, angle, light_power)\n",
    "    # simulate\n",
    "    measurement = pd.DataFrame(\n",
    "        light_stim.simulate_and_measure(\n",
    "            tot_rec_time=float(tot_rec_time),\n",
    "            extra_rec_var_names=rec_vars[0],\n",
    "            extra_rec_var_pointers=[eval(item) for item in rec_vars[1]],\n",
    "        )\n",
    "    )\n",
    "    # dealing with drop full row duplicates\n",
    "    # drop completely redundant duplicates\n",
    "    measurement = measurement.drop_duplicates()\n",
    "    # add 1e-12 ms to 2nd entry time point of duplicate entries with the same time but different (e.g. Vm) values\n",
    "    measurement.loc[measurement[\"time [ms]\"].diff() == 0, \"time [ms]\"] += 1e-12\n",
    "    # extract spike times\n",
    "    AP_times = get_AP_times(\n",
    "        df=measurement,\n",
    "        interpol_dt=float(interpol_dt),\n",
    "        t_on=float(light_delay),\n",
    "        AP_threshold=AP_threshold\n",
    "    )\n",
    "    # interpolate simulation results\n",
    "    measurement = interpolate(\n",
    "        df=measurement, interpolation_dt=float(interpol_dt)\n",
    "    )\n",
    "    return measurement, len(AP_times)\n",
    "\n",
    "# define measurement variables\n",
    "segs = [seg for sec in h.allsec() for seg in sec][:-1] # exclude last seg as it is the light source\n",
    "segcatpointernames = [str(seg) for seg in segs]\n",
    "segcatpointers = ['h.'+str(seg)+'._ref_gcat_chanrhod' for seg in segs]\n",
    "\n",
    "radius = 0\n",
    "angle = 0\n",
    "\n",
    "res = []\n",
    "for light_power in light_powers:\n",
    "    #print(\"simulated 1 lp step\")\n",
    "    measurement, APC = stimulate_and_measure(radius, angle, light_power, rec_vars=[segcatpointernames,segcatpointers])\n",
    "    # convert density conductance into real conductance for each segment\n",
    "    for seg, seg_gcat in zip(segs, segcatpointernames):\n",
    "        measurement[seg_gcat] *= eval('h.'+str(seg)+'.area()') * 1e-8 # eval area of segment and convert from um2 to cm2\n",
    "    t_sec_g = pd.melt(measurement, id_vars=['time [ms]'], value_vars=segcatpointernames).set_index(['variable', 'time [ms]'])\n",
    "    total_g = dict(g=t_sec_g.mean().values[0])\n",
    "    #total_sec_g['g_normalized'] = total_sec_g / total_sec_g.sum()\n",
    "    total_g['light_power'] = light_power\n",
    "    total_g['APC'] = APC\n",
    "    res.append(total_g)\n",
    "total_g = pd.DataFrame(res)\n",
    "#total_sec_g['r_xy']= np.sqrt(np.array([eval('h.'+seg+'.x_chanrhod') for seg in total_sec_g.variable])**2 + np.array([eval('h.'+seg+'.y_chanrhod') for seg in total_sec_g.variable])**2)\n",
    "#total_sec_g['z'] = [eval('h.'+seg+'.z_chanrhod') for seg in total_sec_g.variable]\n",
    "#total_sec_g['g_normalized_times_z'] = total_sec_g.g_normalized * total_sec_g.z\n",
    "#total_sec_g['g_normalized_times_r_xy'] = total_sec_g.g_normalized * total_sec_g.r_xy"
   ]
  },
  {
   "cell_type": "code",
   "execution_count": 6,
   "id": "268a19be-b5d7-487c-adf8-ff08ef7d973c",
   "metadata": {},
   "outputs": [
    {
     "data": {
      "text/html": [
       "<div>\n",
       "<style scoped>\n",
       "    .dataframe tbody tr th:only-of-type {\n",
       "        vertical-align: middle;\n",
       "    }\n",
       "\n",
       "    .dataframe tbody tr th {\n",
       "        vertical-align: top;\n",
       "    }\n",
       "\n",
       "    .dataframe thead th {\n",
       "        text-align: right;\n",
       "    }\n",
       "</style>\n",
       "<table border=\"1\" class=\"dataframe\">\n",
       "  <thead>\n",
       "    <tr style=\"text-align: right;\">\n",
       "      <th></th>\n",
       "      <th></th>\n",
       "      <th>value</th>\n",
       "    </tr>\n",
       "    <tr>\n",
       "      <th>variable</th>\n",
       "      <th>time [ms]</th>\n",
       "      <th></th>\n",
       "    </tr>\n",
       "  </thead>\n",
       "  <tbody>\n",
       "    <tr>\n",
       "      <th rowspan=\"5\" valign=\"top\">soma(0.05)</th>\n",
       "      <th>0.0</th>\n",
       "      <td>0.000000e+00</td>\n",
       "    </tr>\n",
       "    <tr>\n",
       "      <th>0.1</th>\n",
       "      <td>0.000000e+00</td>\n",
       "    </tr>\n",
       "    <tr>\n",
       "      <th>0.2</th>\n",
       "      <td>0.000000e+00</td>\n",
       "    </tr>\n",
       "    <tr>\n",
       "      <th>0.3</th>\n",
       "      <td>0.000000e+00</td>\n",
       "    </tr>\n",
       "    <tr>\n",
       "      <th>0.4</th>\n",
       "      <td>0.000000e+00</td>\n",
       "    </tr>\n",
       "    <tr>\n",
       "      <th>...</th>\n",
       "      <th>...</th>\n",
       "      <td>...</td>\n",
       "    </tr>\n",
       "    <tr>\n",
       "      <th rowspan=\"5\" valign=\"top\">soma(0.85)</th>\n",
       "      <th>210.5</th>\n",
       "      <td>5.468494e-11</td>\n",
       "    </tr>\n",
       "    <tr>\n",
       "      <th>210.6</th>\n",
       "      <td>5.419249e-11</td>\n",
       "    </tr>\n",
       "    <tr>\n",
       "      <th>210.7</th>\n",
       "      <td>5.370004e-11</td>\n",
       "    </tr>\n",
       "    <tr>\n",
       "      <th>210.8</th>\n",
       "      <td>5.320759e-11</td>\n",
       "    </tr>\n",
       "    <tr>\n",
       "      <th>210.9</th>\n",
       "      <td>5.271514e-11</td>\n",
       "    </tr>\n",
       "  </tbody>\n",
       "</table>\n",
       "<p>18990 rows × 1 columns</p>\n",
       "</div>"
      ],
      "text/plain": [
       "                             value\n",
       "variable   time [ms]              \n",
       "soma(0.05) 0.0        0.000000e+00\n",
       "           0.1        0.000000e+00\n",
       "           0.2        0.000000e+00\n",
       "           0.3        0.000000e+00\n",
       "           0.4        0.000000e+00\n",
       "...                            ...\n",
       "soma(0.85) 210.5      5.468494e-11\n",
       "           210.6      5.419249e-11\n",
       "           210.7      5.370004e-11\n",
       "           210.8      5.320759e-11\n",
       "           210.9      5.271514e-11\n",
       "\n",
       "[18990 rows x 1 columns]"
      ]
     },
     "execution_count": 6,
     "metadata": {},
     "output_type": "execute_result"
    }
   ],
   "source": [
    "t_sec_g"
   ]
  },
  {
   "cell_type": "code",
   "execution_count": 7,
   "id": "3e2e4cb2-8c2f-4e65-99de-92fa1865e6d9",
   "metadata": {},
   "outputs": [
    {
     "data": {
      "text/plain": [
       "80.0"
      ]
     },
     "execution_count": 7,
     "metadata": {},
     "output_type": "execute_result"
    }
   ],
   "source": [
    "S"
   ]
  },
  {
   "cell_type": "code",
   "execution_count": 10,
   "id": "2a87fd6a-861d-45d6-ab5f-2840016e772f",
   "metadata": {},
   "outputs": [
    {
     "data": {
      "image/png": "[encoded data removed]",
      "text/plain": [
       "<Figure size 95.2704x95.2704 with 1 Axes>"
      ]
     },
     "metadata": {
      "needs_background": "light"
     },
     "output_type": "display_data"
    }
   ],
   "source": [
    "fig, ax = plt.subplots(figsize=(pw/5,pw/5))\n",
    "\n",
    "ax.plot(total_g.light_power, total_g.g, lw=1, c='black')\n",
    "ax.spines['top'].set_visible(False)\n",
    "ax.spines['right'].set_visible(False)\n",
    "ax.set_xlim(0,0.01)\n",
    "ax.set_xticks([0, 0.01])\n",
    "# light intensity in mW/mm2 -> lp (W) / (diam(um)/2)**2 / np.pi * 1e3 * 1e-6\n",
    "ax.set_xticklabels([str(np.round(tick*1000/0.2**2/np.pi,0)) for tick in [0.,0.01]])\n",
    "ax.set_xticks([0.005], minor=True)\n",
    "ax.set_ylim(0,2e-10)\n",
    "ax.set_yticks([0, 2e-10])\n",
    "ax.set_yticklabels([str(tick*1e9) for tick in [0, 2e-10]])\n",
    "ax.set_yticks([1e-10], minor=True)\n",
    "fig.savefig('paper/NEW_FIGURES/FIG1/plots/light_power_vs_conductance.png', dpi=dpi, \n",
    "                facecolor=None, edgecolor=None, \n",
    "                bbox_inches='tight')"
   ]
  },
  {
   "cell_type": "code",
   "execution_count": null,
   "id": "2431a4a5-beab-48f5-9973-a0066b493ff1",
   "metadata": {},
   "outputs": [],
   "source": [
    "fig, ax = plt.subplots(figsize=(pw/5,pw/5))\n",
    "\n",
    "ax.plot(total_g.light_power.values[:-1], np.diff(total_g.g.values), lw=1, c='black')\n",
    "ax.spines['top'].set_visible(False)\n",
    "ax.spines['right'].set_visible(False)\n",
    "fig.savefig('paper/NEW_FIGURES/FIG1/plots/light_power_vs_conductance.png', dpi=dpi, \n",
    "                facecolor=None, edgecolor=None, \n",
    "                bbox_inches='tight')"
   ]
  },
  {
   "cell_type": "code",
   "execution_count": 11,
   "id": "70639d1a-fb22-435a-af9c-417b1f1948aa",
   "metadata": {},
   "outputs": [
    {
     "data": {
      "image/png": "[encoded data removed]",
      "text/plain": [
       "<Figure size 95.2704x95.2704 with 1 Axes>"
      ]
     },
     "metadata": {
      "needs_background": "light"
     },
     "output_type": "display_data"
    }
   ],
   "source": [
    "fig, ax = plt.subplots(figsize=(pw/5,pw/5))\n",
    "plt.plot(total_g.g, total_g.APC, lw=1, c='black')\n",
    "ax.spines['top'].set_visible(False)\n",
    "ax.spines['right'].set_visible(False)\n",
    "ax.set_ylim(0,15)\n",
    "ax.set_yticks([0, 10])\n",
    "ax.set_yticks([5, 15], minor=True)\n",
    "ax.set_xlim(0,2e-10)\n",
    "ax.set_xticks([0, 2e-10])\n",
    "ax.set_xticklabels([str(tick*1e9) for tick in [0, 2e-10]])\n",
    "ax.set_xticks([1e-10], minor=True)\n",
    "fig.savefig('paper/NEW_FIGURES/FIG1/plots/conductance_vs_spikes.png', dpi=dpi, \n",
    "                facecolor=None, edgecolor=None, \n",
    "                bbox_inches='tight')"
   ]
  },
  {
   "cell_type": "code",
   "execution_count": null,
   "id": "2f62151d-2b82-4c19-8303-2f6b586a3460",
   "metadata": {},
   "outputs": [],
   "source": [
    "# fl A 1       fl  2\n",
    "A = 1\n",
    "B = 2\n",
    "\n",
    "gA = 3\n",
    "gB = 1\n",
    "\n",
    "gA*A-gB*B"
   ]
  },
  {
   "cell_type": "code",
   "execution_count": null,
   "id": "2acc6f34-a9f3-4b62-ad03-a87c0b7f38c7",
   "metadata": {},
   "outputs": [],
   "source": [
    "gA+=0.1\n",
    "gB+=0.2\n",
    "gA*A-gB*B"
   ]
  }
 ],
 "metadata": {
  "kernelspec": {
   "display_name": "Python 3",
   "language": "python",
   "name": "python3"
  },
  "language_info": {
   "codemirror_mode": {
    "name": "ipython",
    "version": 3
   },
   "file_extension": ".py",
   "mimetype": "text/x-python",
   "name": "python",
   "nbconvert_exporter": "python",
   "pygments_lexer": "ipython3",
   "version": "3.6.13"
  }
 },
 "nbformat": 4,
 "nbformat_minor": 5
}
