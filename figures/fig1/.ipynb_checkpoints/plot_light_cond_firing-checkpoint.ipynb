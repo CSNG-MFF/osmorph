{
 "cells": [
  {
   "cell_type": "code",
   "execution_count": 1,
   "id": "b7d1c77f",
   "metadata": {},
   "outputs": [],
   "source": [
    "# cd to base directory of this repository to enable the loading of NEURON simulations\n",
    "import os\n",
    "os.chdir('/home/david/Projects/optogenetic_whole_cell_activation/morph_impact_on_opt_stim')\n",
    "import numpy as np\n",
    "import pandas as pd\n",
    "from neuron import h\n",
    "from neurostim.cell import Cell\n",
    "from neurostim.light_classes import LightSource, LightStimulation\n",
    "from neurostim.utils import convert_polar_to_cartesian_xz, interpolate\n",
    "from neurostim.polarmaps import get_AP_times\n",
    "import matplotlib.pyplot as plt\n",
    "from matplotlib import rc\n",
    "rc('font',**{'family':'sans-serif','sans-serif':['Arial'],'size':8})"
   ]
  },
  {
   "cell_type": "markdown",
   "id": "dae151f5",
   "metadata": {},
   "source": [
    "### Model Configuration\n",
    "* cell type (loaded from \".hoc\" file)\n",
    "    * L5: 'L5.hoc' or L23: 'L23.hoc'\n",
    "* ChR2 distribution inside cell\n",
    "    * uniform: 'uniform'\n",
    "    * soft soma targeting: 'shemesh_supfig9b_exp_yoff'\n",
    "    * strict soma targeting: 'shemesh_supfig9b_exp_lin_yoff'\n",
    "* ChR2 expression level (number ChR2 molecules in neuron's membrane)\n",
    "    * typical number for L5 size (Foutz et al 2012): 10354945, is automatically scaled if 'L23.hoc' is selected\n",
    "* cell depth in cortex (distance cortical surface - soma), [um]\n",
    "    * {'L23': 400, 'L5': 1170}\n",
    "* light model\n",
    "    * currently only feasible model is for optical fiber [Foutz et al 2012]: 'foutz_et_al2012'\n",
    "* optical fiber diameter\n",
    "    * e.g. 25, 50, 100, 200, 400, um\n",
    "* numerical aperture of fiber (changes beam divergence)\n",
    "    * e.g. 0.1, 0.22, 0.39, 0.5\n",
    "* light power [mW]\n",
    "    * e.g. 1e-5 to 1e-2\n",
    "* light duration [ms]\n",
    "    * e.g. 30ms or 200ms\n",
    "* position of light source on the cortical surface relative to soma of the neuron\n",
    "    * radial distance: radius [um]\n",
    "    * angle\n",
    "\n",
    "## other parameters (meta params for simulation, analysis params etc.)\n",
    "* total recording time of simulation\n",
    "* AP threshold: threshold defining an action potential: 0mV\n",
    "* light delay: 1ms (stim onset after simulation start)\n",
    "* interpol_dt: 0.1ms (interpolation time for simulation results as simulation has adaptive steps)"
   ]
  },
  {
   "cell_type": "code",
   "execution_count": 2,
   "id": "81cb1a86",
   "metadata": {},
   "outputs": [
    {
     "name": "stdout",
     "output_type": "stream",
     "text": [
      "\t1 \n",
      "\t1 \n",
      "\t1 \n",
      "\t1 \n",
      "loaded simneurostim/model/hoc/L5.hoc\n",
      "rotate cell by 1.5707963267948966 around y\n"
     ]
    }
   ],
   "source": [
    "# model config 1 ---- *** DO NOT RERUN ***\n",
    "# NEURON simulator setup is corrupted if reinitialized in a running kernel, rerun complete notebook\n",
    "\n",
    "# neuron model\n",
    "hoc_file = 'L5'\n",
    "# cortical depth of neuron models\n",
    "cortical_depth = {'L23': 400, 'L5': 1170} #um\n",
    "\n",
    "# ChR2 expression distribution and level\n",
    "chanrhod_distribution = 'uniform' \n",
    "chanrhod_soma_density = 13e9 # 1/cm2\n",
    "\n",
    "# NEURON setup\n",
    "h.load_file(\"stdrun.hoc\")\n",
    "h.cvode_active(1)\n",
    "# load cell and create stimulation object\n",
    "cell = Cell(\n",
    "    hoc_file=\"simneurostim/model/hoc/\" + str(hoc_file) + \".hoc\",\n",
    "    cortical_depth=cortical_depth,\n",
    "    ChR_soma_density=float(chanrhod_soma_density),\n",
    "    ChR_distribution=str(chanrhod_distribution),\n",
    "    rm_mech_from_secs=None,\n",
    "    delete_all_secs_except_soma=False)"
   ]
  },
  {
   "cell_type": "code",
   "execution_count": 3,
   "id": "01330134",
   "metadata": {},
   "outputs": [
    {
     "name": "stdout",
     "output_type": "stream",
     "text": [
      "Stimulation intensity at simulator surface: 9.54929658551372 mW/mm2\n",
      "light intensity [W/cm2]\n",
      "-----------------------\n",
      "soma: 1000 µm:  45.978\n",
      "apical 100 µm:  2661.307\n",
      "average at fiber output:  0.954929658551372\n"
     ]
    }
   ],
   "source": [
    "# model config 2 (can be adapted and rerun without restarting notebook kernel)\n",
    "\n",
    "# light source model and params\n",
    "light_model = 'foutz_et_al2012'\n",
    "fiber_diameter = 200 #um\n",
    "fiber_NA = 0.22\n",
    "\n",
    "# stimulation power and duration\n",
    "light_power = 3e-4 #W\n",
    "light_duration = 200 # ms\n",
    "print(\"Stimulation intensity at simulator surface: \"+str(light_power/(0.5**2*(fiber_diameter*1e-3)**2*np.pi)*1e3)+' mW/mm2')\n",
    "# position of light source\n",
    "radius = 0 #um\n",
    "angle = 0 # rad\n",
    "\n",
    "# other params\n",
    "light_delay = 10 #ms\n",
    "tot_rec_time = light_delay + light_duration + 30\n",
    "AP_threshold = 0 # mV\n",
    "interpol_dt = 0.1 # ms\n",
    "\n",
    "# light source initialization\n",
    "light_x, light_y = convert_polar_to_cartesian_xz(radius, angle)\n",
    "light_z = 0  # cortical surface\n",
    "light_pos = (light_x, light_y, light_z)\n",
    "light_source = LightSource(\n",
    "    model=str(light_model),\n",
    "    position=(light_x, light_y, light_z),\n",
    "    width=float(fiber_diameter),\n",
    "    NA=float(fiber_NA)\n",
    ")\n",
    "# stimulation object initialization\n",
    "light_stim = LightStimulation(\n",
    "    cell=cell,\n",
    "    light_source=light_source,\n",
    "    delay=float(light_delay),\n",
    "    duration=float(light_duration),\n",
    "    light_power=float(light_power),\n",
    "    record_all_segments=False,\n",
    ")\n",
    "# set up recording variables to record irradiance and chanrod current in all sections \n",
    "seg_name = []\n",
    "irr_pointer = []\n",
    "gchr_pointer = []\n",
    "ichr_pointer = []\n",
    "sections_wo_light_source = list(h.allsec())[:-1]\n",
    "for sec in sections_wo_light_source:\n",
    "    for seg in sec:\n",
    "        seg_name.append(str(seg))\n",
    "        irr_pointer.append(seg._ref_irradiance_chanrhod)  # W/cm2\n",
    "        ichr_pointer.append(seg._ref_i_chanrhod_chanrhod) #\n",
    "        gchr_pointer.append(seg._ref_gcat_chanrhod) # S/cm2\n",
    "irr_names = [seg+'_irr' for seg in seg_name]\n",
    "ichr_names = [seg+'_ichr' for seg in seg_name]\n",
    "gchr_names = [seg+'_gchr' for seg in seg_name]\n",
    "\n",
    "# simulate\n",
    "measurement = pd.DataFrame(\n",
    "    light_stim.simulate_and_measure(\n",
    "        tot_rec_time=float(tot_rec_time),\n",
    "        extra_rec_var_names= irr_names + ichr_names + gchr_names,\n",
    "        extra_rec_var_pointers=irr_pointer + ichr_pointer + gchr_pointer\n",
    "    )\n",
    ")\n",
    "# dealing with drop full row duplicates\n",
    "# drop completely redundant duplicates\n",
    "measurement = measurement.drop_duplicates()\n",
    "# add 1e-12 ms to 2nd entry time point of duplicate entries with the same time but different (e.g. Vm) values\n",
    "measurement.loc[measurement[\"time [ms]\"].diff() == 0, \"time [ms]\"] += 1e-12\n",
    "# interpolate simulation results\n",
    "measurement = interpolate(\n",
    "    df=measurement, interpolation_dt=float(interpol_dt)\n",
    ")\n",
    "# extract spike times\n",
    "AP_times = get_AP_times(\n",
    "    df=measurement,\n",
    "    interpol_dt=float(interpol_dt),\n",
    "    t_on=float(light_delay),\n",
    "    AP_threshold=AP_threshold\n",
    ")\n",
    "# light power at position in W/cm2\n",
    "print('light intensity [W/cm2]')\n",
    "print('-----------------------')\n",
    "print('soma: 1000 µm: ' ,np.round(light_source.calculate_Tx_at_pos([h.soma(0.5).x_chanrhod, h.soma(0.5).y_chanrhod, h.soma(0.5).z_chanrhod]),3))\n",
    "\n",
    "print('apical 100 µm: ' ,np.round(light_source.calculate_Tx_at_pos([h.soma(0.5).x_chanrhod, h.soma(0.5).y_chanrhod, 100]),3))\n",
    "\n",
    "print('average at fiber output: ', light_power/(np.pi*(fiber_diameter*1e-4/2)**2))"
   ]
  },
  {
   "cell_type": "code",
   "execution_count": 4,
   "id": "b50a40e9-3edd-4886-89ea-3f5d686d30e0",
   "metadata": {},
   "outputs": [],
   "source": [
    "#um->cm\n",
    "#1 *1e-8"
   ]
  },
  {
   "cell_type": "code",
   "execution_count": 5,
   "id": "be690780-5120-492a-a651-72da2fa5bc48",
   "metadata": {},
   "outputs": [],
   "source": [
    "#13000000000\n",
    "#\n",
    "#130e8 ch/cm2\n",
    "#130e6 ch/mm2\n",
    "#30 ch/µm2"
   ]
  },
  {
   "cell_type": "code",
   "execution_count": 6,
   "id": "10f38e6d-ad16-4694-9574-4c0de0cb28fc",
   "metadata": {},
   "outputs": [],
   "source": [
    "def measurement_sum_across_segments(measurement, seg_names, var_names, col_label=''):\n",
    "    var_segsum = pd.DataFrame()\n",
    "    for name, seg in zip(var_names, seg_names):\n",
    "        var_segsum[seg]=measurement[name] * eval('h.'+seg+'.area()') *1e-8\n",
    "    var_segsum = pd.DataFrame(var_segsum.sum(axis=1), columns=[col_label+'_total'])\n",
    "    var_segsum['time [ms]'] = measurement['time [ms]']\n",
    "    return var_segsum\n",
    "irrsum_segs = measurement_sum_across_segments(measurement, seg_names=seg_name, var_names=irr_names, col_label='irr_W')\n",
    "ichrsum_segs = measurement_sum_across_segments(measurement, seg_names=seg_name, var_names=ichr_names, col_label='ichr')\n",
    "gchrsum_segs = measurement_sum_across_segments(measurement, seg_names=seg_name, var_names=gchr_names, col_label='gchr_S')\n",
    "irrsum_segs['irr_uW_total'] = irrsum_segs['irr_W_total']*1e6\n",
    "gchrsum_segs['gchr_nS_total'] = gchrsum_segs['gchr_S_total']*1e9"
   ]
  },
  {
   "cell_type": "code",
   "execution_count": 9,
   "id": "01b9bef8-02cc-4b1d-994a-e8fd11fd3c60",
   "metadata": {},
   "outputs": [
    {
     "data": {
      "image/png": "[encoded data removed]",
      "text/plain": [
       "<Figure size 45.3669x44.8896 with 1 Axes>"
      ]
     },
     "metadata": {
      "needs_background": "light"
     },
     "output_type": "display_data"
    },
    {
     "data": {
      "image/png": "[encoded data removed]",
      "text/plain": [
       "<Figure size 45.3669x44.8896 with 1 Axes>"
      ]
     },
     "metadata": {
      "needs_background": "light"
     },
     "output_type": "display_data"
    },
    {
     "data": {
      "image/png": "[encoded data removed]",
      "text/plain": [
       "<Figure size 45.3669x44.8896 with 1 Axes>"
      ]
     },
     "metadata": {
      "needs_background": "light"
     },
     "output_type": "display_data"
    }
   ],
   "source": [
    "import matplotlib.pyplot as plt\n",
    "# format\n",
    "# dimensions (A4:  8.27 x 11.69 inches)\n",
    "text_frac = 0.8\n",
    "abs_pw = 8.27 # pagewidth\n",
    "abs_pl = 11.69 # pagelength\n",
    "pw = text_frac * abs_pw\n",
    "pl = text_frac * abs_pl\n",
    "# others\n",
    "dpi=900\n",
    "\n",
    "\n",
    "def exp_plot(x,y,xticklabelsoff=0, ymin=0):\n",
    "    fig, ax = plt.subplots(figsize = (pw/7*2/3,pl/15))\n",
    "    ax.spines['right'].set_visible(False)\n",
    "    ax.spines['top'].set_visible(False)\n",
    "    if xticklabelsoff:\n",
    "        ax.set_xticklabels([])\n",
    "    ax.plot(x,y, c='black', lw=0.7)\n",
    "    ax.set_xlim(0,240)\n",
    "    ax.set_ylim(ymin,None)\n",
    "    return fig, ax\n",
    "\n",
    "fig, ax = exp_plot(irrsum_segs['time [ms]'], irrsum_segs['irr_uW_total'],xticklabelsoff=0)\n",
    "fig.savefig('paper/NEW_FIGURES/FIG1/plots/example_plots_irradiance.png', dpi=dpi, \n",
    "            facecolor=None, edgecolor=None,  \n",
    "            bbox_inches='tight')\n",
    "plt.show()\n",
    "fig, ax = exp_plot(gchrsum_segs['time [ms]'], gchrsum_segs['gchr_nS_total'],xticklabelsoff=0)\n",
    "fig.savefig('paper/NEW_FIGURES/FIG1/plots/example_plots_conductance.png', dpi=dpi, \n",
    "            facecolor=None, edgecolor=None,  \n",
    "            bbox_inches='tight')\n",
    "plt.show()\n",
    "fig, ax = exp_plot(measurement['time [ms]'], measurement['V_soma(0.5)'], ymin=-90)\n",
    "fig.savefig('paper/NEW_FIGURES/FIG1/plots/example_plots_somavoltage.png', dpi=dpi, \n",
    "            facecolor=None, edgecolor=None,  \n",
    "            bbox_inches='tight')\n",
    "plt.show()"
   ]
  }
 ],
 "metadata": {
  "kernelspec": {
   "display_name": "Python 3",
   "language": "python",
   "name": "python3"
  },
  "language_info": {
   "codemirror_mode": {
    "name": "ipython",
    "version": 3
   },
   "file_extension": ".py",
   "mimetype": "text/x-python",
   "name": "python",
   "nbconvert_exporter": "python",
   "pygments_lexer": "ipython3",
   "version": "3.6.13"
  }
 },
 "nbformat": 4,
 "nbformat_minor": 5
}
