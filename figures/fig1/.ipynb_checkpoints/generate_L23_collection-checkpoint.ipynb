{
 "cells": [
  {
   "cell_type": "code",
   "execution_count": 1,
   "id": "d187ddf2",
   "metadata": {},
   "outputs": [],
   "source": [
    "# cd to base directory of this repository to enable the loading of NEURON simulations\n",
    "import os\n",
    "os.chdir('/home/david/Projects/optogenetic_whole_cell_activation/morph_impact_on_opt_stim')\n",
    "from optostim.cell import Cell\n",
    "import pickle\n",
    "\n",
    "# colors\n",
    "poster_color='#08306bff'\n",
    "c1 = '#3f51b5'\n",
    "c2 = '#f44336'\n",
    "c3 = '#4caf50'\n",
    "c4 = '#ffa000'\n",
    "\n",
    "N1_x = 2900\n",
    "N2_x = 3650\n",
    "scaling_neurons = 0.3\n",
    "neuron_color = c1"
   ]
  },
  {
   "cell_type": "markdown",
   "id": "f26b27da",
   "metadata": {},
   "source": [
    "## L23 cell"
   ]
  },
  {
   "cell_type": "code",
   "execution_count": 2,
   "id": "eea9260d",
   "metadata": {},
   "outputs": [
    {
     "name": "stdout",
     "output_type": "stream",
     "text": [
      "\t0 \n",
      "\t1 \n",
      "\t1 \n",
      "\t1 \n",
      "\t1 \n",
      "\t1 \n",
      "\t1 \n",
      "----------------------------------------------------------------------------------------------------\n",
      "DATA RANGE:  1.0 1.0\n"
     ]
    }
   ],
   "source": [
    "filename = 'paper/spatial_response/L23_neuron_collection.pickle'\n",
    "L23 = Cell('model/hoc/L23.hoc', cortical_depth=dict(L23=400))\n",
    "collection = L23.plot_foutz2012(\n",
    "    func=lambda x:1, axes='xz',scaling = scaling_neurons, segfunc=False, clim=None,cmap=None,color=poster_color, shift_x=N2_x)\n",
    "# save collection\n",
    "with open(filename, 'wb') as file:\n",
    "      pickle.dump(collection, file)"
   ]
  }
 ],
 "metadata": {
  "kernelspec": {
   "display_name": "Python 3",
   "language": "python",
   "name": "python3"
  },
  "language_info": {
   "codemirror_mode": {
    "name": "ipython",
    "version": 3
   },
   "file_extension": ".py",
   "mimetype": "text/x-python",
   "name": "python",
   "nbconvert_exporter": "python",
   "pygments_lexer": "ipython3",
   "version": "3.6.13"
  }
 },
 "nbformat": 4,
 "nbformat_minor": 5
}
