{
 "cells": [
  {
   "cell_type": "code",
   "execution_count": 1,
   "id": "d187ddf2",
   "metadata": {},
   "outputs": [],
   "source": [
    "# cd to base directory of this repository to enable the loading of NEURON simulations\n",
    "import os\n",
    "os.chdir('/home/david/Projects/optogenetic_whole_cell_activation/morph_impact_on_opt_stim')\n",
    "from neurostim.cell import Cell\n",
    "import pickle\n",
    "\n",
    "N1_x = 2900\n",
    "N2_x = 3650\n",
    "scaling_neurons = 0.5\n",
    "neuron_color = 'tab:blue'"
   ]
  },
  {
   "cell_type": "markdown",
   "id": "786a3d12",
   "metadata": {},
   "source": [
    "## L5 cell"
   ]
  },
  {
   "cell_type": "code",
   "execution_count": 2,
   "id": "4a3875f9",
   "metadata": {},
   "outputs": [
    {
     "name": "stdout",
     "output_type": "stream",
     "text": [
      "\t1 \n",
      "\t1 \n",
      "\t1 \n",
      "\t1 \n",
      "----------------------------------------------------------------------------------------------------\n",
      "DATA RANGE:  1.0 1.0\n"
     ]
    },
    {
     "name": "stderr",
     "output_type": "stream",
     "text": [
      "/home/david/Projects/optogenetic_whole_cell_activation/morph_impact_on_opt_stim/simneurostim/base-neurostim/neurostim/cell.py:616: RuntimeWarning: invalid value encountered in true_divide\n",
      "  a = (data - clim[0])/(clim[1]-clim[0])\n"
     ]
    }
   ],
   "source": [
    "filename = 'paper/NEW_FIGURES/FIG1/L5_neuron_collection.pickle'\n",
    "L5 = Cell('simneurostim/model/hoc/L5.hoc', cortical_depth=dict(L5=1170))\n",
    "collection = L5.plot_foutz2012(\n",
    "    func=lambda x:1, axes='xz',scaling = scaling_neurons, segfunc=False, clim=None,cmap=None,color=neuron_color, shift_x=N1_x)\n",
    "# save collection\n",
    "with open(filename, 'wb') as file:\n",
    "      pickle.dump(collection, file)"
   ]
  }
 ],
 "metadata": {
  "kernelspec": {
   "display_name": "Python 3",
   "language": "python",
   "name": "python3"
  },
  "language_info": {
   "codemirror_mode": {
    "name": "ipython",
    "version": 3
   },
   "file_extension": ".py",
   "mimetype": "text/x-python",
   "name": "python",
   "nbconvert_exporter": "python",
   "pygments_lexer": "ipython3",
   "version": "3.6.13"
  }
 },
 "nbformat": 4,
 "nbformat_minor": 5
}
