{
 "cells": [
  {
   "cell_type": "code",
   "execution_count": 1,
   "id": "415cd420",
   "metadata": {},
   "outputs": [],
   "source": [
    "import matplotlib\n",
    "import matplotlib.pyplot as plt\n",
    "from matplotlib import rc\n",
    "rc('font',**{'family':'sans-serif','sans-serif':['Arial']})"
   ]
  },
  {
   "cell_type": "code",
   "execution_count": 2,
   "id": "d187ddf2",
   "metadata": {},
   "outputs": [],
   "source": [
    "# format\n",
    "\n",
    "# dimensions (A4:  8.27 x 11.69 inches)\n",
    "text_frac = 0.8\n",
    "abs_pw = 8.27 # pagewidth\n",
    "abs_pl = 11.69 # pagelength\n",
    "pw = text_frac * abs_pw\n",
    "pl = text_frac * abs_pl\n",
    "\n",
    "# others\n",
    "dpi=900"
   ]
  },
  {
   "cell_type": "markdown",
   "id": "1152bb34",
   "metadata": {},
   "source": [
    "# Figure 0"
   ]
  },
  {
   "cell_type": "code",
   "execution_count": 3,
   "id": "e9fe217f",
   "metadata": {},
   "outputs": [
    {
     "data": {
      "image/png": "[encoded data removed]",
      "text/plain": [
       "<Figure size 555.188x331.117 with 1 Axes>"
      ]
     },
     "metadata": {
      "needs_background": "light"
     },
     "output_type": "display_data"
    }
   ],
   "source": [
    "\n",
    "length = 0.1405*pl*3.5\n",
    "width = pw*0.333*3.5\n",
    "fig = plt.figure(constrained_layout=False, figsize=(width,length))\n",
    "gs = fig.add_gridspec(nrows=1, ncols=1, left=0.05, right=0.95,\n",
    "                        wspace=0.05)\n",
    "ax1 = fig.add_subplot(gs[0,0])\n",
    "ax1_ratio = 0.47"
   ]
  },
  {
   "cell_type": "code",
   "execution_count": 4,
   "id": "4a3875f9",
   "metadata": {},
   "outputs": [
    {
     "name": "stdout",
     "output_type": "stream",
     "text": [
      "\t1 \n",
      "\t1 \n",
      "\t1 \n",
      "\t1 \n",
      "----------------------------------------------------------------------------------------------------\n",
      "DATA RANGE:  1.0 1.0\n",
      "\t0 \n",
      "\t1 \n",
      "\t1 \n",
      "\t1 \n",
      "\t1 \n",
      "\t1 \n",
      "\t1 \n"
     ]
    },
    {
     "name": "stderr",
     "output_type": "stream",
     "text": [
      "/home/david/Projects/optogenetic_whole_cell_activation/morph_impact_on_opt_stim/simneurostim/base-neurostim/neurostim/cell.py:617: RuntimeWarning: invalid value encountered in true_divide\n",
      "  a = (data - clim[0])/(clim[1]-clim[0])\n"
     ]
    },
    {
     "name": "stdout",
     "output_type": "stream",
     "text": [
      "----------------------------------------------------------------------------------------------------\n",
      "DATA RANGE:  1.0 1.0\n"
     ]
    }
   ],
   "source": [
    "# fig0 parameters\n",
    "## light and neuron display\n",
    "cortex_boundaries = { \n",
    "    'x': [0,4000],\n",
    "    'y': [0,2000]\n",
    "}\n",
    "\n",
    "N1_x = 2900\n",
    "N2_x = 3650 \n",
    "N1_y = 520\n",
    "N2_y = 520\n",
    "\n",
    "z_depth = 500\n",
    "\n",
    "scaling_neurons = 0.5\n",
    "neuron_color = \"tab:blue\"\n",
    "\n",
    "# neuron morphologies\n",
    "# cd to base directory of this repository to enable the loading of NEURON simulations\n",
    "import os\n",
    "os.chdir('/home/david/Projects/optogenetic_whole_cell_activation/morph_impact_on_opt_stim')\n",
    "from neurostim.cell import Cell\n",
    "L5 = Cell('simneurostim/model/hoc/L5.hoc', cortical_depth=dict(L5=1170))\n",
    "# flat color:\n",
    "collectionL5 = L5.plot_foutz2012(\n",
    "    func=lambda x:1, axes='yx',scaling = scaling_neurons, segfunc=False, \n",
    "    clim=None,cmap=None,color=neuron_color, \n",
    "    shift_x=N1_x, shift_y=N1_y, multiply_y=-1)\n",
    "L23 = Cell('simneurostim/model/hoc/L23.hoc', cortical_depth=dict(L5=1170, L23=400))\n",
    "# soma of L23 looks way to big because of linewidth scaling, scale down\n",
    "from neuron import h\n",
    "h.soma.diam = 5 # 20 is diameter of L5 soma\n",
    "# flat color:\n",
    "collectionL23 = L23.plot_foutz2012(\n",
    "    func=lambda x:1, axes='yx',scaling = scaling_neurons, segfunc=False, \n",
    "    clim=None,cmap=None,color=neuron_color, \n",
    "    shift_x=N2_x, shift_y=N2_y, multiply_y=-1)"
   ]
  },
  {
   "cell_type": "code",
   "execution_count": 5,
   "id": "7c237794",
   "metadata": {},
   "outputs": [],
   "source": [
    "from matplotlib.colors import LogNorm, BoundaryNorm\n",
    "from matplotlib.cm import Greys_r as cmap\n",
    "ax1.add_collection(collectionL5)\n",
    "ax1.add_collection(collectionL23)\n",
    "ax1.set_xlim(*cortex_boundaries['x']) \n",
    "ax1.set_ylim(\n",
    "    (cortex_boundaries['x'][1]-cortex_boundaries['x'][0])*ax1_ratio,\n",
    "    0\n",
    ")\n",
    "# turn axes off for neuron and light display\n",
    "ax1.set_axis_off()"
   ]
  },
  {
   "cell_type": "code",
   "execution_count": 6,
   "id": "53692a9c",
   "metadata": {},
   "outputs": [],
   "source": [
    "fig.savefig('paper/NEW_FIGURES/FIG1/plots/neurons_topview.png', dpi=dpi, \n",
    "            facecolor=None, edgecolor=None,  \n",
    "            bbox_inches='tight')"
   ]
  },
  {
   "cell_type": "code",
   "execution_count": null,
   "id": "ec32c9b0-3816-4423-b5dd-52ae2ba1f9d2",
   "metadata": {},
   "outputs": [],
   "source": []
  }
 ],
 "metadata": {
  "kernelspec": {
   "display_name": "Python 3",
   "language": "python",
   "name": "python3"
  },
  "language_info": {
   "codemirror_mode": {
    "name": "ipython",
    "version": 3
   },
   "file_extension": ".py",
   "mimetype": "text/x-python",
   "name": "python",
   "nbconvert_exporter": "python",
   "pygments_lexer": "ipython3",
   "version": "3.6.13"
  }
 },
 "nbformat": 4,
 "nbformat_minor": 5
}
