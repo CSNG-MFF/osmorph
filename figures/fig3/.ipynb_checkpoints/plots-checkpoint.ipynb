{
 "cells": [
  {
   "cell_type": "code",
   "execution_count": 1,
   "id": "3abae289-4426-4b94-a4f1-117d613f5dd1",
   "metadata": {},
   "outputs": [
    {
     "name": "stdout",
     "output_type": "stream",
     "text": [
      "\t1 \n",
      "\t1 \n",
      "\t1 \n",
      "\t1 \n",
      "stimulation intensity in mW/mm2\n",
      "5e-05->1.59\n",
      "0.0003->9.55\n",
      "0.0005->15.92\n",
      "0.02->636.62\n"
     ]
    }
   ],
   "source": [
    "# cd to base directory of this repository to enable the loading of NEURON simulations\n",
    "import os\n",
    "os.chdir('/home/david/Projects/optogenetic_whole_cell_activation/morph_impact_on_opt_stim')\n",
    "from neuron import h\n",
    "from neurostim.cell import Cell\n",
    "from neurostim.light_classes import LightSource, LightStimulation\n",
    "from neurostim.utils import convert_polar_to_cartesian_xz, interpolate\n",
    "from neurostim.polarmaps import get_AP_times, simple_polar_map\n",
    "import pickle\n",
    "import matplotlib.pyplot as plt\n",
    "import numpy as np\n",
    "from matplotlib.colors import BoundaryNorm\n",
    "from matplotlib.cm import Greys_r as cmap\n",
    "from matplotlib.cm import Reds as Reds\n",
    "import matplotlib\n",
    "from neurostim.light_propagation_models import foutz_et_al2012\n",
    "import pickle\n",
    "import pandas as pd\n",
    "from matplotlib import rc\n",
    "rc('font',**{'family':'sans-serif','sans-serif':['Arial']})\n",
    "\n",
    "# light source offsets displayed\n",
    "ls_offsets = [0,150,300] #um\n",
    "ls_offset = 0\n",
    "light_powers = [5e-5,3e-4,5e-4, 2e-2]\n",
    "#light_powers = [9e-3]\n",
    "\n",
    "## light and neuron display\n",
    "cortex_boundaries = { \n",
    "    'x': [0,1000],\n",
    "    'y': [0,1000],\n",
    "    'z': [-500,2000]\n",
    "}\n",
    "L1_x = 500\n",
    "NA = 0.22\n",
    "d__um = 200\n",
    "\n",
    "N1_x = 500\n",
    "N1_y = 500\n",
    "scaling_neurons = 0.5\n",
    "neuron_color = 'tab:blue'\n",
    "\n",
    "# NEURON setup\n",
    "h.load_file(\"stdrun.hoc\")\n",
    "h.cvode_active(1)\n",
    "# load cell and create stimulation object\n",
    "hoc_file = 'L5'\n",
    "chanrhod_expression = 13e9\n",
    "chanrhod_distribution = 'uniform'\n",
    "cortical_depth = {'L5':1170}\n",
    "    \n",
    "cell = Cell(\n",
    "    hoc_file=\"simneurostim/model/hoc/\" + str(hoc_file) + \".hoc\",\n",
    "    cortical_depth=cortical_depth,\n",
    "    ChR_soma_density=float(chanrhod_expression),\n",
    "    ChR_distribution=str(chanrhod_distribution),\n",
    "    rm_mech_from_secs=None,\n",
    "    delete_all_secs_except_soma=False\n",
    ")\n",
    "stimulation_intensities_mWPERmm2 = np.array(light_powers)*1000 / (d__um/1000/2)**2 / np.pi # lp[mW]/(radius [mm])**2 / PI\n",
    "print('stimulation intensity in mW/mm2')\n",
    "for lp, si in zip(light_powers, stimulation_intensities_mWPERmm2):\n",
    "    print(str(lp)+'->'+str(np.round(si,2)))"
   ]
  },
  {
   "cell_type": "code",
   "execution_count": 2,
   "id": "eff612c7-445d-45a8-a54d-d6d83dbbb714",
   "metadata": {},
   "outputs": [],
   "source": [
    "# light power absorbed by the neuron per time at lowest light power:\n",
    "#neuron_lpa = np.sum([seg.area() * 1e-8 * Tx * light_powers[0] for seg, Tx in zip(*light_stim.get_segs_Txs())]) # W\n",
    "#neuron_lpa *= 1e6 # uW\n",
    "# light power emitted by the source:\n",
    "#fiber_lpe = light_powers[0]*1e6 # uW\n",
    "# ratio of absorbed light power and emitted light power\n",
    "#neuron_lpa/fiber_lpe"
   ]
  },
  {
   "cell_type": "code",
   "execution_count": 3,
   "id": "720ad939-5863-4e26-a0cb-7edc9b90c54d",
   "metadata": {},
   "outputs": [],
   "source": [
    "# dimensions (A4:  8.27 x 11.69 inches)\n",
    "text_frac = 0.8\n",
    "abs_pw = 8.27 # pagewidth\n",
    "abs_pl = 11.69 # pagelength\n",
    "pw = text_frac * abs_pw\n",
    "pl = text_frac * abs_pl\n",
    "\n",
    "# others\n",
    "dpi=900"
   ]
  },
  {
   "cell_type": "code",
   "execution_count": 4,
   "id": "f5352374-5e7d-40ea-807e-ca30d3fcc996",
   "metadata": {},
   "outputs": [
    {
     "name": "stdout",
     "output_type": "stream",
     "text": [
      "----------------------------------------------------------------------------------------------------\n",
      "DATA RANGE:  1.0 1.0\n"
     ]
    },
    {
     "name": "stderr",
     "output_type": "stream",
     "text": [
      "/home/david/Projects/optogenetic_whole_cell_activation/morph_impact_on_opt_stim/simneurostim/base-neurostim/neurostim/cell.py:617: RuntimeWarning: invalid value encountered in true_divide\n",
      "  a = (data - clim[0])/(clim[1]-clim[0])\n"
     ]
    },
    {
     "data": {
      "image/png": "[encoded data removed]",
      "text/plain": [
       "<Figure size 158.784x158.784 with 1 Axes>"
      ]
     },
     "metadata": {
      "needs_background": "light"
     },
     "output_type": "display_data"
    },
    {
     "name": "stdout",
     "output_type": "stream",
     "text": [
      "----------------------------------------------------------------------------------------------------\n",
      "DATA RANGE:  1.0 1.0\n"
     ]
    },
    {
     "data": {
      "image/png": "[encoded data removed]",
      "text/plain": [
       "<Figure size 95.2704x95.2704 with 1 Axes>"
      ]
     },
     "metadata": {
      "needs_background": "light"
     },
     "output_type": "display_data"
    },
    {
     "name": "stdout",
     "output_type": "stream",
     "text": [
      "----------------------------------------------------------------------------------------------------\n",
      "DATA RANGE:  1.0 1.0\n"
     ]
    },
    {
     "data": {
      "image/png": "[encoded data removed]",
      "text/plain": [
       "<Figure size 95.2704x190.541 with 1 Axes>"
      ]
     },
     "metadata": {
      "needs_background": "light"
     },
     "output_type": "display_data"
    },
    {
     "name": "stdout",
     "output_type": "stream",
     "text": [
      "0 5e-05 total integrated conductance in nS ms 416.58994610710846\n"
     ]
    },
    {
     "data": {
      "image/png": "[encoded data removed]",
      "text/plain": [
       "<Figure size 95.2704x47.6352 with 1 Axes>"
      ]
     },
     "metadata": {
      "needs_background": "light"
     },
     "output_type": "display_data"
    },
    {
     "name": "stdout",
     "output_type": "stream",
     "text": [
      "0 5e-05 abs light power in uW 3.5864816526799475\n"
     ]
    },
    {
     "data": {
      "image/png": "[encoded data removed]",
      "text/plain": [
       "<Figure size 95.2704x47.6352 with 1 Axes>"
      ]
     },
     "metadata": {
      "needs_background": "light"
     },
     "output_type": "display_data"
    },
    {
     "data": {
      "image/png": "[encoded data removed]",
      "text/plain": [
       "<Figure size 95.2704x47.6352 with 1 Axes>"
      ]
     },
     "metadata": {
      "needs_background": "light"
     },
     "output_type": "display_data"
    },
    {
     "data": {
      "image/png": "[encoded data removed]",
      "text/plain": [
       "<Figure size 95.2704x47.6352 with 1 Axes>"
      ]
     },
     "metadata": {
      "needs_background": "light"
     },
     "output_type": "display_data"
    },
    {
     "name": "stdout",
     "output_type": "stream",
     "text": [
      "0 0.0003 total integrated conductance in nS ms 2047.2378667510445\n"
     ]
    },
    {
     "data": {
      "image/png": "[encoded data removed]",
      "text/plain": [
       "<Figure size 95.2704x47.6352 with 1 Axes>"
      ]
     },
     "metadata": {
      "needs_background": "light"
     },
     "output_type": "display_data"
    },
    {
     "name": "stdout",
     "output_type": "stream",
     "text": [
      "0 0.0003 abs light power in uW 21.518889916079683\n"
     ]
    },
    {
     "data": {
      "image/png": "[encoded data removed]",
      "text/plain": [
       "<Figure size 95.2704x47.6352 with 1 Axes>"
      ]
     },
     "metadata": {
      "needs_background": "light"
     },
     "output_type": "display_data"
    },
    {
     "data": {
      "image/png": "[encoded data removed]",
      "text/plain": [
       "<Figure size 95.2704x47.6352 with 1 Axes>"
      ]
     },
     "metadata": {
      "needs_background": "light"
     },
     "output_type": "display_data"
    },
    {
     "data": {
      "image/png": "[encoded data removed]",
      "text/plain": [
       "<Figure size 95.2704x47.6352 with 1 Axes>"
      ]
     },
     "metadata": {
      "needs_background": "light"
     },
     "output_type": "display_data"
    },
    {
     "name": "stdout",
     "output_type": "stream",
     "text": [
      "0 0.0005 total integrated conductance in nS ms 3059.5676603250377\n"
     ]
    },
    {
     "data": {
      "image/png": "[encoded data removed]",
      "text/plain": [
       "<Figure size 95.2704x47.6352 with 1 Axes>"
      ]
     },
     "metadata": {
      "needs_background": "light"
     },
     "output_type": "display_data"
    },
    {
     "name": "stdout",
     "output_type": "stream",
     "text": [
      "0 0.0005 abs light power in uW 35.86481652679947\n"
     ]
    },
    {
     "data": {
      "image/png": "[encoded data removed]",
      "text/plain": [
       "<Figure size 95.2704x47.6352 with 1 Axes>"
      ]
     },
     "metadata": {
      "needs_background": "light"
     },
     "output_type": "display_data"
    },
    {
     "data": {
      "image/png": "[encoded data removed]",
      "text/plain": [
       "<Figure size 95.2704x47.6352 with 1 Axes>"
      ]
     },
     "metadata": {
      "needs_background": "light"
     },
     "output_type": "display_data"
    },
    {
     "data": {
      "image/png": "[encoded data removed]",
      "text/plain": [
       "<Figure size 95.2704x47.6352 with 1 Axes>"
      ]
     },
     "metadata": {
      "needs_background": "light"
     },
     "output_type": "display_data"
    },
    {
     "name": "stdout",
     "output_type": "stream",
     "text": [
      "0 0.02 total integrated conductance in nS ms 22210.76467715155\n"
     ]
    },
    {
     "data": {
      "image/png": "[encoded data removed]",
      "text/plain": [
       "<Figure size 95.2704x47.6352 with 1 Axes>"
      ]
     },
     "metadata": {
      "needs_background": "light"
     },
     "output_type": "display_data"
    },
    {
     "name": "stdout",
     "output_type": "stream",
     "text": [
      "0 0.02 abs light power in uW 1434.5926610719791\n"
     ]
    },
    {
     "data": {
      "image/png": "[encoded data removed]",
      "text/plain": [
       "<Figure size 95.2704x47.6352 with 1 Axes>"
      ]
     },
     "metadata": {
      "needs_background": "light"
     },
     "output_type": "display_data"
    },
    {
     "data": {
      "image/png": "[encoded data removed]",
      "text/plain": [
       "<Figure size 95.2704x47.6352 with 1 Axes>"
      ]
     },
     "metadata": {
      "needs_background": "light"
     },
     "output_type": "display_data"
    },
    {
     "data": {
      "image/png": "[encoded data removed]",
      "text/plain": [
       "<Figure size 95.2704x47.6352 with 1 Axes>"
      ]
     },
     "metadata": {
      "needs_background": "light"
     },
     "output_type": "display_data"
    },
    {
     "name": "stdout",
     "output_type": "stream",
     "text": [
      "----------------------------------------------------------------------------------------------------\n",
      "DATA RANGE:  1.0 1.0\n"
     ]
    },
    {
     "name": "stderr",
     "output_type": "stream",
     "text": [
      "/home/david/Projects/optogenetic_whole_cell_activation/morph_impact_on_opt_stim/simneurostim/base-neurostim/neurostim/cell.py:617: RuntimeWarning: invalid value encountered in true_divide\n",
      "  a = (data - clim[0])/(clim[1]-clim[0])\n"
     ]
    },
    {
     "data": {
      "image/png": "[encoded data removed]",
      "text/plain": [
       "<Figure size 95.2704x95.2704 with 1 Axes>"
      ]
     },
     "metadata": {
      "needs_background": "light"
     },
     "output_type": "display_data"
    },
    {
     "name": "stdout",
     "output_type": "stream",
     "text": [
      "----------------------------------------------------------------------------------------------------\n",
      "DATA RANGE:  1.0 1.0\n"
     ]
    },
    {
     "data": {
      "image/png": "[encoded data removed]",
      "text/plain": [
       "<Figure size 95.2704x190.541 with 1 Axes>"
      ]
     },
     "metadata": {
      "needs_background": "light"
     },
     "output_type": "display_data"
    },
    {
     "name": "stdout",
     "output_type": "stream",
     "text": [
      "150 5e-05 total integrated conductance in nS ms 322.7049437121313\n"
     ]
    },
    {
     "data": {
      "image/png": "[encoded data removed]",
      "text/plain": [
       "<Figure size 95.2704x47.6352 with 1 Axes>"
      ]
     },
     "metadata": {
      "needs_background": "light"
     },
     "output_type": "display_data"
    },
    {
     "name": "stdout",
     "output_type": "stream",
     "text": [
      "150 5e-05 abs light power in uW 2.954311036303758\n"
     ]
    },
    {
     "data": {
      "image/png": "[encoded data removed]",
      "text/plain": [
       "<Figure size 95.2704x47.6352 with 1 Axes>"
      ]
     },
     "metadata": {
      "needs_background": "light"
     },
     "output_type": "display_data"
    },
    {
     "data": {
      "image/png": "[encoded data removed]",
      "text/plain": [
       "<Figure size 95.2704x47.6352 with 1 Axes>"
      ]
     },
     "metadata": {
      "needs_background": "light"
     },
     "output_type": "display_data"
    },
    {
     "data": {
      "image/png": "[encoded data removed]",
      "text/plain": [
       "<Figure size 95.2704x47.6352 with 1 Axes>"
      ]
     },
     "metadata": {
      "needs_background": "light"
     },
     "output_type": "display_data"
    },
    {
     "name": "stdout",
     "output_type": "stream",
     "text": [
      "150 0.0003 total integrated conductance in nS ms 1443.9498445306995\n"
     ]
    },
    {
     "data": {
      "image/png": "[encoded data removed]",
      "text/plain": [
       "<Figure size 95.2704x47.6352 with 1 Axes>"
      ]
     },
     "metadata": {
      "needs_background": "light"
     },
     "output_type": "display_data"
    },
    {
     "name": "stdout",
     "output_type": "stream",
     "text": [
      "150 0.0003 abs light power in uW 17.725866217822546\n"
     ]
    },
    {
     "data": {
      "image/png": "[encoded data removed]",
      "text/plain": [
       "<Figure size 95.2704x47.6352 with 1 Axes>"
      ]
     },
     "metadata": {
      "needs_background": "light"
     },
     "output_type": "display_data"
    },
    {
     "data": {
      "image/png": "[encoded data removed]",
      "text/plain": [
       "<Figure size 95.2704x47.6352 with 1 Axes>"
      ]
     },
     "metadata": {
      "needs_background": "light"
     },
     "output_type": "display_data"
    },
    {
     "data": {
      "image/png": "[encoded data removed]",
      "text/plain": [
       "<Figure size 95.2704x47.6352 with 1 Axes>"
      ]
     },
     "metadata": {
      "needs_background": "light"
     },
     "output_type": "display_data"
    },
    {
     "name": "stdout",
     "output_type": "stream",
     "text": [
      "150 0.0005 total integrated conductance in nS ms 2119.789660791539\n"
     ]
    },
    {
     "data": {
      "image/png": "[encoded data removed]",
      "text/plain": [
       "<Figure size 95.2704x47.6352 with 1 Axes>"
      ]
     },
     "metadata": {
      "needs_background": "light"
     },
     "output_type": "display_data"
    },
    {
     "name": "stdout",
     "output_type": "stream",
     "text": [
      "150 0.0005 abs light power in uW 29.543110363037584\n"
     ]
    },
    {
     "data": {
      "image/png": "[encoded data removed]",
      "text/plain": [
       "<Figure size 95.2704x47.6352 with 1 Axes>"
      ]
     },
     "metadata": {
      "needs_background": "light"
     },
     "output_type": "display_data"
    },
    {
     "data": {
      "image/png": "[encoded data removed]",
      "text/plain": [
       "<Figure size 95.2704x47.6352 with 1 Axes>"
      ]
     },
     "metadata": {
      "needs_background": "light"
     },
     "output_type": "display_data"
    },
    {
     "data": {
      "image/png": "[encoded data removed]",
      "text/plain": [
       "<Figure size 95.2704x47.6352 with 1 Axes>"
      ]
     },
     "metadata": {
      "needs_background": "light"
     },
     "output_type": "display_data"
    },
    {
     "name": "stdout",
     "output_type": "stream",
     "text": [
      "150 0.02 total integrated conductance in nS ms 17892.561160922272\n"
     ]
    },
    {
     "data": {
      "image/png": "[encoded data removed]",
      "text/plain": [
       "<Figure size 95.2704x47.6352 with 1 Axes>"
      ]
     },
     "metadata": {
      "needs_background": "light"
     },
     "output_type": "display_data"
    },
    {
     "name": "stdout",
     "output_type": "stream",
     "text": [
      "150 0.02 abs light power in uW 1181.7244145215031\n"
     ]
    },
    {
     "data": {
      "image/png": "[encoded data removed]",
      "text/plain": [
       "<Figure size 95.2704x47.6352 with 1 Axes>"
      ]
     },
     "metadata": {
      "needs_background": "light"
     },
     "output_type": "display_data"
    },
    {
     "data": {
      "image/png": "[encoded data removed]",
      "text/plain": [
       "<Figure size 95.2704x47.6352 with 1 Axes>"
      ]
     },
     "metadata": {
      "needs_background": "light"
     },
     "output_type": "display_data"
    },
    {
     "data": {
      "image/png": "[encoded data removed]",
      "text/plain": [
       "<Figure size 95.2704x47.6352 with 1 Axes>"
      ]
     },
     "metadata": {
      "needs_background": "light"
     },
     "output_type": "display_data"
    },
    {
     "name": "stdout",
     "output_type": "stream",
     "text": [
      "----------------------------------------------------------------------------------------------------\n",
      "DATA RANGE:  1.0 1.0\n"
     ]
    },
    {
     "name": "stderr",
     "output_type": "stream",
     "text": [
      "/home/david/Projects/optogenetic_whole_cell_activation/morph_impact_on_opt_stim/simneurostim/base-neurostim/neurostim/cell.py:617: RuntimeWarning: invalid value encountered in true_divide\n",
      "  a = (data - clim[0])/(clim[1]-clim[0])\n"
     ]
    },
    {
     "data": {
      "image/png": "[encoded data removed]",
      "text/plain": [
       "<Figure size 95.2704x95.2704 with 1 Axes>"
      ]
     },
     "metadata": {
      "needs_background": "light"
     },
     "output_type": "display_data"
    },
    {
     "name": "stdout",
     "output_type": "stream",
     "text": [
      "----------------------------------------------------------------------------------------------------\n",
      "DATA RANGE:  1.0 1.0\n"
     ]
    },
    {
     "data": {
      "image/png": "[encoded data removed]",
      "text/plain": [
       "<Figure size 95.2704x190.541 with 1 Axes>"
      ]
     },
     "metadata": {
      "needs_background": "light"
     },
     "output_type": "display_data"
    },
    {
     "name": "stdout",
     "output_type": "stream",
     "text": [
      "300 5e-05 total integrated conductance in nS ms 41.099678539432645\n"
     ]
    },
    {
     "data": {
      "image/png": "[encoded data removed]",
      "text/plain": [
       "<Figure size 95.2704x47.6352 with 1 Axes>"
      ]
     },
     "metadata": {
      "needs_background": "light"
     },
     "output_type": "display_data"
    },
    {
     "name": "stdout",
     "output_type": "stream",
     "text": [
      "300 5e-05 abs light power in uW 0.3398722072643723\n"
     ]
    },
    {
     "data": {
      "image/png": "[encoded data removed]",
      "text/plain": [
       "<Figure size 95.2704x47.6352 with 1 Axes>"
      ]
     },
     "metadata": {
      "needs_background": "light"
     },
     "output_type": "display_data"
    },
    {
     "data": {
      "image/png": "[encoded data removed]",
      "text/plain": [
       "<Figure size 95.2704x47.6352 with 1 Axes>"
      ]
     },
     "metadata": {
      "needs_background": "light"
     },
     "output_type": "display_data"
    },
    {
     "data": {
      "image/png": "[encoded data removed]",
      "text/plain": [
       "<Figure size 95.2704x47.6352 with 1 Axes>"
      ]
     },
     "metadata": {
      "needs_background": "light"
     },
     "output_type": "display_data"
    },
    {
     "name": "stdout",
     "output_type": "stream",
     "text": [
      "300 0.0003 total integrated conductance in nS ms 227.79872419163883\n"
     ]
    },
    {
     "data": {
      "image/png": "[encoded data removed]",
      "text/plain": [
       "<Figure size 95.2704x47.6352 with 1 Axes>"
      ]
     },
     "metadata": {
      "needs_background": "light"
     },
     "output_type": "display_data"
    },
    {
     "name": "stdout",
     "output_type": "stream",
     "text": [
      "300 0.0003 abs light power in uW 2.0392332435862337\n"
     ]
    },
    {
     "data": {
      "image/png": "[encoded data removed]",
      "text/plain": [
       "<Figure size 95.2704x47.6352 with 1 Axes>"
      ]
     },
     "metadata": {
      "needs_background": "light"
     },
     "output_type": "display_data"
    },
    {
     "data": {
      "image/png": "[encoded data removed]",
      "text/plain": [
       "<Figure size 95.2704x47.6352 with 1 Axes>"
      ]
     },
     "metadata": {
      "needs_background": "light"
     },
     "output_type": "display_data"
    },
    {
     "data": {
      "image/png": "[encoded data removed]",
      "text/plain": [
       "<Figure size 95.2704x47.6352 with 1 Axes>"
      ]
     },
     "metadata": {
      "needs_background": "light"
     },
     "output_type": "display_data"
    },
    {
     "name": "stdout",
     "output_type": "stream",
     "text": [
      "300 0.0005 total integrated conductance in nS ms 362.20016564194015\n"
     ]
    },
    {
     "data": {
      "image/png": "[encoded data removed]",
      "text/plain": [
       "<Figure size 95.2704x47.6352 with 1 Axes>"
      ]
     },
     "metadata": {
      "needs_background": "light"
     },
     "output_type": "display_data"
    },
    {
     "name": "stdout",
     "output_type": "stream",
     "text": [
      "300 0.0005 abs light power in uW 3.3987220726437233\n"
     ]
    },
    {
     "data": {
      "image/png": "[encoded data removed]",
      "text/plain": [
       "<Figure size 95.2704x47.6352 with 1 Axes>"
      ]
     },
     "metadata": {
      "needs_background": "light"
     },
     "output_type": "display_data"
    },
    {
     "data": {
      "image/png": "[encoded data removed]",
      "text/plain": [
       "<Figure size 95.2704x47.6352 with 1 Axes>"
      ]
     },
     "metadata": {
      "needs_background": "light"
     },
     "output_type": "display_data"
    },
    {
     "data": {
      "image/png": "[encoded data removed]",
      "text/plain": [
       "<Figure size 95.2704x47.6352 with 1 Axes>"
      ]
     },
     "metadata": {
      "needs_background": "light"
     },
     "output_type": "display_data"
    },
    {
     "name": "stdout",
     "output_type": "stream",
     "text": [
      "300 0.02 total integrated conductance in nS ms 6834.696483207928\n"
     ]
    },
    {
     "data": {
      "image/png": "[encoded data removed]",
      "text/plain": [
       "<Figure size 95.2704x47.6352 with 1 Axes>"
      ]
     },
     "metadata": {
      "needs_background": "light"
     },
     "output_type": "display_data"
    },
    {
     "name": "stdout",
     "output_type": "stream",
     "text": [
      "300 0.02 abs light power in uW 135.94888290574892\n"
     ]
    },
    {
     "data": {
      "image/png": "[encoded data removed]",
      "text/plain": [
       "<Figure size 95.2704x47.6352 with 1 Axes>"
      ]
     },
     "metadata": {
      "needs_background": "light"
     },
     "output_type": "display_data"
    },
    {
     "data": {
      "image/png": "[encoded data removed]",
      "text/plain": [
       "<Figure size 95.2704x47.6352 with 1 Axes>"
      ]
     },
     "metadata": {
      "needs_background": "light"
     },
     "output_type": "display_data"
    },
    {
     "data": {
      "image/png": "[encoded data removed]",
      "text/plain": [
       "<Figure size 95.2704x47.6352 with 1 Axes>"
      ]
     },
     "metadata": {
      "needs_background": "light"
     },
     "output_type": "display_data"
    },
    {
     "name": "stdout",
     "output_type": "stream",
     "text": [
      "1\n"
     ]
    },
    {
     "data": {
      "image/png": "[encoded data removed]",
      "text/plain": [
       "<Figure size 105.856x105.856 with 1 Axes>"
      ]
     },
     "metadata": {},
     "output_type": "display_data"
    },
    {
     "name": "stdout",
     "output_type": "stream",
     "text": [
      "1\n"
     ]
    },
    {
     "data": {
      "image/png": "[encoded data removed]",
      "text/plain": [
       "<Figure size 105.856x105.856 with 1 Axes>"
      ]
     },
     "metadata": {},
     "output_type": "display_data"
    },
    {
     "name": "stdout",
     "output_type": "stream",
     "text": [
      "1\n"
     ]
    },
    {
     "data": {
      "image/png": "[encoded data removed]",
      "text/plain": [
       "<Figure size 105.856x105.856 with 1 Axes>"
      ]
     },
     "metadata": {},
     "output_type": "display_data"
    },
    {
     "name": "stdout",
     "output_type": "stream",
     "text": [
      "1\n"
     ]
    },
    {
     "data": {
      "image/png": "[encoded data removed]",
      "text/plain": [
       "<Figure size 105.856x105.856 with 1 Axes>"
      ]
     },
     "metadata": {},
     "output_type": "display_data"
    }
   ],
   "source": [
    "# top view on neuron\n",
    "length = pw/3\n",
    "width = pw/3\n",
    "fig = plt.figure(constrained_layout=False, figsize=(width,length))\n",
    "gs = fig.add_gridspec(nrows=1, ncols=1, left=0, right=1, wspace=0)\n",
    "ax1 = fig.add_subplot(gs[0,0])\n",
    "\n",
    "collectionL5_top = cell.plot_foutz2012(\n",
    "    func=lambda x:1, axes='xy',scaling = scaling_neurons, segfunc=False, clim=None,cmap=None,color=neuron_color, shift_x=N1_x, shift_y=N1_y, alpha=0.5)\n",
    "ax1.add_collection(collectionL5_top)\n",
    "# rectangle for scaling\n",
    "#rectangle = plt.Rectangle((500,600), 50, 200,color='tab:gray',alpha=0.8, edgecolor=None)\n",
    "#ax1.add_patch(rectangle)\n",
    "ax1.set_xlim(*cortex_boundaries['x'])\n",
    "ax1.set_ylim(*cortex_boundaries['y'])\n",
    "# turn axes off for neuron and light 6isplay\n",
    "ax1.set_axis_off()\n",
    "ax1.set_aspect('equal')\n",
    "fig.savefig('paper/NEW_FIGURES/FIG2/plots/neuron_top.png', dpi=dpi, \n",
    "            facecolor=None, edgecolor=None,  \n",
    "            bbox_inches='tight')\n",
    "plt.show()\n",
    "\n",
    "# simulations for different light source offset\n",
    "APCs = dict()\n",
    "for ls_offset in ls_offsets:\n",
    "    # light setup\n",
    "    light_model = 'foutz_et_al2012'\n",
    "\n",
    "    light_delay = 10\n",
    "    light_duration = 200\n",
    "    tot_rec_time = 250\n",
    "\n",
    "    AP_threshold = 0 # mV\n",
    "    interpol_dt = 0.1\n",
    "\n",
    "    display_left_spines = True\n",
    "    display_legend = False\n",
    "    chanrhod_distribution = 'uniform'\n",
    "    radius = ls_offset\n",
    "    angle = np.pi/4\n",
    "\n",
    "    # lgiht source\n",
    "    light_x, light_y = convert_polar_to_cartesian_xz(radius, angle)\n",
    "    light_z = 0  # cortical surface\n",
    "    light_pos = (light_x, light_y, light_z)\n",
    "    light_source = LightSource(\n",
    "        model=str(light_model),\n",
    "        position=(light_x, light_y, light_z),\n",
    "        width=d__um,\n",
    "        NA=NA\n",
    "    )\n",
    "    \n",
    "    \n",
    "    APCs[ls_offset] = dict()\n",
    "    # top view neuron and light source positions plots\n",
    "    length = pw/5\n",
    "    width = pw/5\n",
    "    fig = plt.figure(constrained_layout=False, figsize=(width,length))\n",
    "    gs = fig.add_gridspec(nrows=1, ncols=1, left=0, right=1, wspace=0)\n",
    "    ax1 = fig.add_subplot(gs[0,0])\n",
    "    collectionL5_top = cell.plot_foutz2012(\n",
    "        func=lambda x:1, axes='xy',scaling = scaling_neurons, segfunc=False, clim=None,cmap=None,color=neuron_color, shift_x=N1_x, shift_y=N1_y)\n",
    "    ax1.add_collection(collectionL5_top)\n",
    "    # plot light source\n",
    "    circle1 = plt.Circle((500+light_x, 500+light_y), d__um/2, color='tab:gray',zorder=2,alpha=0.8, edgecolor=None)\n",
    "    ax1.add_patch(circle1)\n",
    "    ax1.set_xlim(*cortex_boundaries['x'])\n",
    "    ax1.set_ylim(*cortex_boundaries['y'])\n",
    "    # turn axes off for neuron and light display\n",
    "    ax1.set_axis_off()\n",
    "    ax1.set_aspect('equal')\n",
    "    fig.savefig('paper/NEW_FIGURES/FIG2/plots/neuron_light_top_'+str(ls_offset)+'.png', dpi=dpi, \n",
    "                facecolor=None, edgecolor=None,  \n",
    "                bbox_inches='tight')\n",
    "    plt.show()\n",
    "    \n",
    "    # side view\n",
    "    # side view neuron and light position plots\n",
    "    length = 2 * pw/5\n",
    "    width = pw/5\n",
    "    fig = plt.figure(constrained_layout=False, figsize=(width,length))\n",
    "    gs = fig.add_gridspec(nrows=1, ncols=1, left=0, right=1, wspace=0)\n",
    "    ax1 = fig.add_subplot(gs[0,0])\n",
    "\n",
    "\n",
    "    # light source\n",
    "    length_light_source = 500\n",
    "    rectangle = plt.Rectangle((500+ls_offset-d__um/2, 0), d__um, length_light_source,color='tab:gray',alpha=0.8, edgecolor=None)\n",
    "    ax1.add_patch(rectangle)\n",
    "\n",
    "    # Foutz optical fiber light source\n",
    "    xx, zz = np.meshgrid(np.arange(cortex_boundaries['x'][0],cortex_boundaries['x'][1]),\n",
    "                         np.arange(cortex_boundaries['z'][0],cortex_boundaries['z'][1]))\n",
    "    L1_prof = foutz_et_al2012(\n",
    "        x=xx-L1_x-ls_offset, y=np.zeros(np.shape(xx)), z=zz, power=1, \n",
    "        width=d__um, NA=NA)\n",
    "    # for LogNorm set all 0 to 1e-10\n",
    "    L1_prof[L1_prof==0] = 1e-10\n",
    "    # normalize light_profile by average output intensity\n",
    "    # 1W/cm2 light power / (pi * diam_in_cm/2)**2\n",
    "    avrg_output_intensity = 1 / (np.pi * (d__um/2 * 1e-4)**2)\n",
    "    L1_prof /= avrg_output_intensity\n",
    "    # set light above z=0 to max to get white profile\n",
    "    L1_prof [0:500,:]=np.max(L1_prof)\n",
    "    # display 500 um bar for scale\n",
    "    #L1_prof[300:800,770:800]=np.max(L1_prof)\n",
    "    #L1_prof[770:800,300:800]=np.max(L1_prof)\n",
    "\n",
    "    # add cortical layer boundaries\n",
    "    cortical_layer_boundaries = -1*cortex_boundaries['z'][0] + np.array([0, 150, 630, 950, 1200, 1520])\n",
    "    for bound in cortical_layer_boundaries:\n",
    "        L1_prof[bound:bound+2,:] = np.max(L1_prof)\n",
    "\n",
    "    collectionL5_side = cell.plot_foutz2012(\n",
    "        func=lambda x:1, axes='xz',scaling = scaling_neurons, segfunc=False, clim=None,cmap=None,color=neuron_color, shift_x=N1_x)\n",
    "\n",
    "    ax1.add_collection(collectionL5_side)\n",
    "    bounds_cmap = [1e-6, 1e-5, 1e-4, 1e-3, 1e-2, 1e-1, 1]\n",
    "    mappable = ax1.pcolormesh(xx,zz*-1,L1_prof, shading='nearest', cmap=cmap,\n",
    "                  #norm=LogNorm(vmin=6300e-4,vmax=63000)\n",
    "                  norm=BoundaryNorm(bounds_cmap,ncolors=cmap.N,extend='both')\n",
    "    )\n",
    "    #ax1.set_xlim(*cortex_boundaries['x']) \n",
    "    #ax1.set_ylim(-1*(cortex_boundaries['x'][1]-cortex_boundaries['x'][0]),0)\n",
    "    ax1.set_xlim(*cortex_boundaries['x'])\n",
    "    ax1.set_ylim(-1*cortex_boundaries['z'][1],-1*cortex_boundaries['z'][0])\n",
    "    #ax1.set_ylim(-2000,500)\n",
    "    # turn axes off for neuron and light display\n",
    "    ax1.set_axis_off()\n",
    "    ax1.set_aspect('equal')\n",
    "    fig.savefig('paper/NEW_FIGURES/FIG2/plots/neuron_light_side_'+str(ls_offset)+'.png', dpi=dpi, \n",
    "                facecolor=None, edgecolor=None,  \n",
    "                bbox_inches='tight')\n",
    "    plt.show()\n",
    "    \n",
    "    # voltage traces\n",
    "    # define interesting sections to measure (soma always included)\n",
    "    extra_rec_var_names = ['apical'] # apdend, soma, badend \n",
    "    extra_rec_var_pointers = [h.dend11[75](0.5)._ref_v]\n",
    "    # define conductane recording variables\n",
    "    # define measurement variables\n",
    "    segs = [seg for sec in h.allsec() for seg in sec][:-1] # exclude last seg as it is the light source\n",
    "    segcatpointernames = [str(seg) for seg in segs]\n",
    "    segcatpointers = [eval('h.'+str(seg)+'._ref_gcat_chanrhod') for seg in segs]\n",
    "    extra_rec_var_names.extend(segcatpointernames)\n",
    "    extra_rec_var_pointers.extend(segcatpointers)\n",
    "    \n",
    "    for lp in light_powers:\n",
    "        light_stim = LightStimulation(\n",
    "            cell=cell,\n",
    "            light_source=light_source,\n",
    "            delay=float(light_delay),\n",
    "            duration=float(light_duration),\n",
    "            light_power=float(lp),\n",
    "            record_all_segments=False,\n",
    "        )\n",
    "        # perform stimulation and record data\n",
    "        measurement = pd.DataFrame(\n",
    "            light_stim.simulate_and_measure(\n",
    "                tot_rec_time=float(tot_rec_time),\n",
    "                extra_rec_var_names=extra_rec_var_names,\n",
    "                extra_rec_var_pointers=extra_rec_var_pointers,\n",
    "            )\n",
    "        )\n",
    "        # drop full row duplicates:\n",
    "        measurement = measurement.drop_duplicates()\n",
    "        # add 1e-12 ms to 2nd entry of 2 entries with the same time but different values\n",
    "        measurement.loc[measurement[\"time [ms]\"].diff() == 0, \"time [ms]\"] += 1e-12\n",
    "        measurement = interpolate(\n",
    "            df=measurement, interpolation_dt=float(interpol_dt)\n",
    "        )\n",
    "        AP_times = get_AP_times(\n",
    "            df=measurement,\n",
    "            interpol_dt=float(interpol_dt),\n",
    "            t_on=float(light_delay),\n",
    "            AP_threshold=AP_threshold\n",
    "        )\n",
    "        # convert density conductance into real conductance for each segment\n",
    "        for seg, seg_gcat in zip(segs, segcatpointernames):\n",
    "            measurement[seg_gcat] *= eval('h.'+str(seg)+'.area()') * 1e-8 # eval area of segment and convert from um2 to cm2\n",
    "        t_sec_g = pd.melt(measurement, id_vars=['time [ms]'], value_vars=segcatpointernames).set_index(['variable', 'time [ms]'])\n",
    "        total_conductance = t_sec_g.groupby(['time [ms]']).sum().reset_index() # S (gcat is given in S/cm2 and multiplied wit area in cm2\n",
    "        total_conductance['value'] = total_conductance['value'] * 1e9  # convert conductance to nS\n",
    "        print(ls_offset, lp, 'total integrated conductance in nS ms', np.sum(total_conductance['value'].values[1:]*np.diff(total_conductance['time [ms]'].values)))\n",
    "        # plot total conductance lineplot\n",
    "        fig, ax = plt.subplots(figsize=(pw/5,pw/10), gridspec_kw=dict(left=0.2, bottom=0.3))\n",
    "        ax.plot(total_conductance['time [ms]'], total_conductance['value'], lw=1, c='gray')\n",
    "        rectangle = plt.Rectangle((10,13), 200, 4,color='#ffff00ff',alpha=1, edgecolor=None)\n",
    "        ax.add_patch(rectangle)\n",
    "        ax.spines['top'].set_visible(False)\n",
    "        ax.spines['right'].set_visible(False)\n",
    "        ax.set_yticks([0,10])\n",
    "        ax.set_yticks([5,15], minor=True)\n",
    "        ax.set_ylim(0,18)\n",
    "        ax.set_xlim(0,250)\n",
    "        ax.set_xticks([0,200])\n",
    "        ax.set_xticks([100], minor=True)\n",
    "        fig.savefig(\n",
    "                '_'.join(['paper/NEW_FIGURES/FIG2/plots/total_conductance',str(ls_offset),str(lp),'.png']),\n",
    "                dpi=dpi,\n",
    "                facecolor=None, \n",
    "                edgecolor=None,\n",
    "                bbox_inches='tight')\n",
    "        plt.show()\n",
    "        # plot absorbed light intensity lineplots\n",
    "        fig, ax = plt.subplots(figsize=(pw/5,pw/10), gridspec_kw=dict(left=0.2, bottom=0.3))\n",
    "        absorbed_light_power_uW = np.sum(\n",
    "            [seg.area()*1e-8 * Tx * lp*1e6 for seg, Tx in zip(*light_stim.get_segs_Txs())]\n",
    "        ) #  area in cm2  * light_loss in 1/cm2 * light_emission_power in uW\n",
    "        print(ls_offset, lp, 'abs light power in uW',absorbed_light_power_uW)\n",
    "        light_on = (measurement['time [ms]'].values >= light_delay) == (measurement['time [ms]'].values <= light_delay+light_duration)\n",
    "        ax.plot(measurement['time [ms]'], light_on*absorbed_light_power_uW, lw=1, c='gray')\n",
    "        rectangle = plt.Rectangle((10,30), 200, 7,color='#ffff00ff',alpha=1, edgecolor=None)\n",
    "        ax.add_patch(rectangle)\n",
    "        ax.spines['top'].set_visible(False)\n",
    "        ax.spines['right'].set_visible(False)\n",
    "        ax.set_yticks([0,30])\n",
    "        ax.set_yticks([10,20], minor=True)\n",
    "        ax.set_ylim(0,40)\n",
    "        ax.set_xlim(0,250)\n",
    "        ax.set_xticks([0,200])\n",
    "        ax.set_xticks([100], minor=True)\n",
    "        fig.savefig(\n",
    "                '_'.join(['paper/NEW_FIGURES/FIG2/plots/light_energy_absorbed',str(ls_offset),str(lp),'.png']),\n",
    "                dpi=dpi,\n",
    "                facecolor=None, \n",
    "                edgecolor=None,\n",
    "                bbox_inches='tight')\n",
    "        plt.show()\n",
    "        # plot voltage traces\n",
    "        for var, label, color in zip(['V_soma(0.5)', 'apical'],['soma','apical'],['tab:green','tab:purple']):\n",
    "            fig, ax = plt.subplots(figsize=(pw/5,pw/10), gridspec_kw=dict(left=0.2, bottom=0.3))\n",
    "            ax.plot(measurement['time [ms]'], measurement[var], label=label,lw=1, c=color)\n",
    "            rectangle = plt.Rectangle((10,10), 200, 20,color='#ffff00ff',alpha=1, edgecolor=None)\n",
    "            ax.add_patch(rectangle)\n",
    "            #ax.set_ylabel('mV')\n",
    "            #ax.set_xlabel('time [ms]')\n",
    "\n",
    "            ax.spines['top'].set_visible(False)\n",
    "            ax.spines['right'].set_visible(False)\n",
    "            ax.set_yticks([-70,0])\n",
    "            ax.set_ylim(-80,50)\n",
    "            ax.set_xlim(0,250)\n",
    "            ax.set_xticks([0,200])\n",
    "            ax.set_xticks([100], minor=True)\n",
    "\n",
    "            if display_legend:\n",
    "                ax.legend()\n",
    "\n",
    "            fig.savefig(\n",
    "                    '_'.join(['paper/NEW_FIGURES/FIG2/plots/voltage_prof_L5',str(ls_offset),str(lp),label,'.png']),\n",
    "                    dpi=dpi,\n",
    "                    facecolor=None, \n",
    "                    edgecolor=None,\n",
    "                    bbox_inches='tight')\n",
    "            plt.show()\n",
    "        n_AP = len(AP_times)\n",
    "        if n_AP == 0:\n",
    "            # set to NaN if zero for plotting reasons\n",
    "            n_AP = np.nan\n",
    "        APCs[ls_offset][lp] = n_AP\n",
    "\n",
    "def spatial_response_illustr(ls_offset, APC, lp):\n",
    "        if type(lp) != list:\n",
    "            lp = [lp]\n",
    "        if type(ls_offset) != list:\n",
    "            ls_offset = [ls_offset]\n",
    "        if type(APC) != dict:\n",
    "            APC = dict(ls_offset=dict(lp=APC))\n",
    "        radii = np.arange(0,1000,25)\n",
    "        angles = np.arange(0,2*np.pi,np.pi/8)\n",
    "        rr, angang = np.meshgrid(radii, angles)\n",
    "        df = pd.DataFrame(columns=['radius [um]', 'angle [rad]', 'AP_count'], dtype=float).set_index(['radius [um]', 'angle [rad]'])\n",
    "        for r, ang in zip(rr.flatten(), angang.flatten()):\n",
    "            df.loc[(r,ang),'AP_count'] = np.nan\n",
    "        # fill simulated values:\n",
    "        for lp_ in lp:\n",
    "            for ls_offset_ in ls_offsets:\n",
    "                if ls_offset_ ==0:\n",
    "                    print(1)\n",
    "                    for ang_ in angles:\n",
    "                        df.loc[(ls_offset_,ang_),'AP_count'] = APC[ls_offset_][lp_]\n",
    "                else:\n",
    "                    df.loc[(ls_offset_,0),'AP_count'] = APC[ls_offset_][lp_]\n",
    "        fig = plt.figure(constrained_layout=False, figsize=(pw/4.5,pw/4.5))\n",
    "        gs = fig.add_gridspec(nrows=1, ncols=1, left=0.05, right=0.95,\n",
    "                                wspace=0.05)\n",
    "        ax = fig.add_subplot(gs[0,0], projection=\"polar\")\n",
    "        ax, mappable = simple_polar_map(\n",
    "            data=df.reset_index(),\n",
    "            plot_col='AP_count',\n",
    "            cmap= Reds,\n",
    "            ax=ax,\n",
    "            vmin=0,\n",
    "            vmax=27)\n",
    "        ax.set_xticks([])\n",
    "        ax.set_xticklabels([])\n",
    "        ax.set_yticks([])\n",
    "        ax.set_yticklabels([])\n",
    "        ax.spines['polar'].set_visible(False)\n",
    "        ax.grid()\n",
    "        fig.savefig('paper/NEW_FIGURES/FIG2/plots/spatial_response_L5_'+str(ls_offset)+'_'+str(lp)+'.png', dpi=dpi, \n",
    "                    facecolor=None, edgecolor=None,  \n",
    "                    bbox_inches='tight')\n",
    "        plt.show()\n",
    "for lp in light_powers:\n",
    "    spatial_response_illustr(ls_offsets, APCs, lp)"
   ]
  },
  {
   "cell_type": "code",
   "execution_count": 5,
   "id": "2fdca5b6-8657-4bea-8272-02e2b88d06b7",
   "metadata": {},
   "outputs": [
    {
     "data": {
      "image/png": "[encoded data removed]",
      "text/plain": [
       "<Figure size 105.856x105.856 with 1 Axes>"
      ]
     },
     "metadata": {},
     "output_type": "display_data"
    },
    {
     "name": "stdout",
     "output_type": "stream",
     "text": [
      "8.0\n"
     ]
    },
    {
     "data": {
      "image/png": "[encoded data removed]",
      "text/plain": [
       "<Figure size 105.856x105.856 with 1 Axes>"
      ]
     },
     "metadata": {},
     "output_type": "display_data"
    },
    {
     "name": "stdout",
     "output_type": "stream",
     "text": [
      "17.0\n"
     ]
    },
    {
     "data": {
      "image/png": "[encoded data removed]",
      "text/plain": [
       "<Figure size 105.856x105.856 with 1 Axes>"
      ]
     },
     "metadata": {},
     "output_type": "display_data"
    },
    {
     "name": "stdout",
     "output_type": "stream",
     "text": [
      "18.0\n"
     ]
    },
    {
     "data": {
      "image/png": "[encoded data removed]",
      "text/plain": [
       "<Figure size 105.856x105.856 with 1 Axes>"
      ]
     },
     "metadata": {},
     "output_type": "display_data"
    },
    {
     "name": "stdout",
     "output_type": "stream",
     "text": [
      "26.0\n"
     ]
    }
   ],
   "source": [
    "# pre-simulated full spatial profiles\n",
    "#L5_data = pd.read_pickle('data/2022-08-04_L5/all_data.pickle')\n",
    "L5_data = pd.read_hdf('data/2023-05-29_FIG2B/all_data.hdf')\n",
    "\n",
    "# select relevant data from data frame\n",
    "#ChR_expr_lvl = 10354945 # this is 130um-2 at soma for uniform distrib\n",
    "chanrhod_expression = 13e9\n",
    "chanrhod_distribution = 'uniform'\n",
    "# light model and params\n",
    "light_model = 'foutz_et_al2012'\n",
    "diam = 200\n",
    "NA = 0.22 \n",
    "# other\n",
    "stim_duration = 200 # ms\n",
    "# apply selection\n",
    "L5_data = L5_data.loc['L5',light_model,chanrhod_distribution,\n",
    "                      chanrhod_expression,diam, NA, stim_duration]\n",
    "# mask all values at 0 to be displayed white\n",
    "L5_data.loc[L5_data.AP_count==0] = np.nan\n",
    "#light_powers = [0.009]\n",
    "for lp in light_powers:\n",
    "    # L5\n",
    "    fig = plt.figure(constrained_layout=False, figsize=(pw/4.5,pw/4.5))\n",
    "    gs = fig.add_gridspec(nrows=1, ncols=1, left=0.05, right=0.95,\n",
    "                            wspace=0.05)\n",
    "    ax = fig.add_subplot(gs[0,0], projection=\"polar\")\n",
    "    ax, mappable = simple_polar_map(\n",
    "        data=L5_data.loc[lp].reset_index(),\n",
    "        plot_col='AP_count',\n",
    "        cmap= Reds,\n",
    "        ax=ax,\n",
    "        vmin=0,\n",
    "        vmax=27)\n",
    "    ax.set_xticks([])\n",
    "    ax.set_xticklabels([])\n",
    "    ax.set_yticks([])\n",
    "    ax.set_yticklabels([])\n",
    "    ax.spines['polar'].set_visible(False)\n",
    "    ax.grid()\n",
    "    fig.savefig('paper/NEW_FIGURES/FIG2/plots/full_spatial_response_L5_'+str(lp)+'.png', dpi=dpi, \n",
    "                facecolor=None, edgecolor=None,  \n",
    "                bbox_inches='tight')\n",
    "    plt.show()\n",
    "    print(L5_data.loc[lp].AP_count.max())"
   ]
  },
  {
   "cell_type": "code",
   "execution_count": 37,
   "id": "c9addafe-416b-4565-b944-5808dfc561d6",
   "metadata": {},
   "outputs": [
    {
     "data": {
      "text/plain": [
       "<AxesSubplot:xlabel='radius [um]'>"
      ]
     },
     "execution_count": 37,
     "metadata": {},
     "output_type": "execute_result"
    },
    {
     "data": {
      "image/png": "[encoded data removed]",
      "text/plain": [
       "<Figure size 432x288 with 1 Axes>"
      ]
     },
     "metadata": {
      "needs_background": "light"
     },
     "output_type": "display_data"
    }
   ],
   "source": [
    "# response magnitude high also at off center location,e.g. \n",
    "# 17 spikes / 85 Hz at 200 µm offset upwards\n",
    "angle_vals = L5_data.reset_index()['angle [rad]'].unique()\n",
    "L5_data.loc[0.0005,:,angle_vals[4]].reset_index().plot(x='radius [um]', y='AP_count')"
   ]
  },
  {
   "cell_type": "code",
   "execution_count": 48,
   "id": "69c66e90-e7fa-4616-baef-5ceb323c5b77",
   "metadata": {},
   "outputs": [
    {
     "data": {
      "text/plain": [
       "17.0"
      ]
     },
     "execution_count": 48,
     "metadata": {},
     "output_type": "execute_result"
    }
   ],
   "source": [
    "# otherwise median with 200 um offset is high with 17 spikes / 85 Hz:\n",
    "L5_data.loc[0.0005,:200,:]['AP_count'].median()"
   ]
  },
  {
   "cell_type": "code",
   "execution_count": 8,
   "id": "eaf71214-b0d1-4af6-a020-745ea61410a9",
   "metadata": {},
   "outputs": [
    {
     "data": {
      "image/png": "[encoded data removed]",
      "text/plain": [
       "<Figure size 15.8784x105.856 with 1 Axes>"
      ]
     },
     "metadata": {},
     "output_type": "display_data"
    },
    {
     "data": {
      "image/png": "[encoded data removed]",
      "text/plain": [
       "<Figure size 7.9392x105.856 with 1 Axes>"
      ]
     },
     "metadata": {
      "needs_background": "light"
     },
     "output_type": "display_data"
    }
   ],
   "source": [
    "fig, ax = plt.subplots(figsize=(pw/30, pw/4.5))\n",
    "plt.colorbar(mappable, cax=ax, ticks=[])\n",
    "fig.savefig('paper/NEW_FIGURES/FIG2/plots/colorbar.png', dpi=dpi, \n",
    "                facecolor=None, edgecolor=None,  \n",
    "                bbox_inches='tight')\n",
    "fig, ax = plt.subplots(figsize=(pw/60, pw/4.5))\n",
    "ticks = [0,10,20]\n",
    "ticks_labels_Hz = [str(int(tick)) for tick in np.array(ticks)/0.2]\n",
    "cbar = plt.colorbar(mappable, cax=ax, ticks=ticks)\n",
    "cbar.set_ticklabels(ticks_labels_Hz)\n",
    "fig.savefig('paper/NEW_FIGURES/FIG2/plots/colorbar_w_ticks.png', dpi=dpi, \n",
    "                facecolor=None, edgecolor=None, \n",
    "                bbox_inches='tight')\n"
   ]
  },
  {
   "cell_type": "code",
   "execution_count": 9,
   "id": "12618dbd-b5ad-4d9b-a012-db685ddda73c",
   "metadata": {},
   "outputs": [
    {
     "name": "stderr",
     "output_type": "stream",
     "text": [
      "/home/david/Software/miniconda3/envs/mioos/lib/python3.6/site-packages/pandas/core/indexing.py:670: SettingWithCopyWarning: \n",
      "A value is trying to be set on a copy of a slice from a DataFrame\n",
      "\n",
      "See the caveats in the documentation: https://pandas.pydata.org/pandas-docs/stable/user_guide/indexing.html#returning-a-view-versus-a-copy\n",
      "  iloc._setitem_with_indexer(indexer, value)\n",
      "/home/david/Software/miniconda3/envs/mioos/lib/python3.6/site-packages/pandas/core/indexing.py:670: SettingWithCopyWarning: \n",
      "A value is trying to be set on a copy of a slice from a DataFrame\n",
      "\n",
      "See the caveats in the documentation: https://pandas.pydata.org/pandas-docs/stable/user_guide/indexing.html#returning-a-view-versus-a-copy\n",
      "  iloc._setitem_with_indexer(indexer, value)\n",
      "/home/david/Software/miniconda3/envs/mioos/lib/python3.6/site-packages/pandas/core/indexing.py:670: SettingWithCopyWarning: \n",
      "A value is trying to be set on a copy of a slice from a DataFrame\n",
      "\n",
      "See the caveats in the documentation: https://pandas.pydata.org/pandas-docs/stable/user_guide/indexing.html#returning-a-view-versus-a-copy\n",
      "  iloc._setitem_with_indexer(indexer, value)\n"
     ]
    },
    {
     "data": {
      "image/png": "[encoded data removed]",
      "text/plain": [
       "<Figure size 105.856x105.856 with 1 Axes>"
      ]
     },
     "metadata": {},
     "output_type": "display_data"
    },
    {
     "data": {
      "image/png": "[encoded data removed]",
      "text/plain": [
       "<Figure size 105.856x105.856 with 1 Axes>"
      ]
     },
     "metadata": {},
     "output_type": "display_data"
    },
    {
     "data": {
      "image/png": "[encoded data removed]",
      "text/plain": [
       "<Figure size 105.856x105.856 with 1 Axes>"
      ]
     },
     "metadata": {},
     "output_type": "display_data"
    },
    {
     "data": {
      "image/png": "[encoded data removed]",
      "text/plain": [
       "<Figure size 105.856x105.856 with 1 Axes>"
      ]
     },
     "metadata": {},
     "output_type": "display_data"
    },
    {
     "data": {
      "image/png": "[encoded data removed]",
      "text/plain": [
       "<Figure size 105.856x105.856 with 1 Axes>"
      ]
     },
     "metadata": {},
     "output_type": "display_data"
    },
    {
     "data": {
      "image/png": "[encoded data removed]",
      "text/plain": [
       "<Figure size 105.856x105.856 with 1 Axes>"
      ]
     },
     "metadata": {},
     "output_type": "display_data"
    },
    {
     "data": {
      "image/png": "[encoded data removed]",
      "text/plain": [
       "<Figure size 105.856x105.856 with 1 Axes>"
      ]
     },
     "metadata": {},
     "output_type": "display_data"
    },
    {
     "data": {
      "image/png": "[encoded data removed]",
      "text/plain": [
       "<Figure size 105.856x105.856 with 1 Axes>"
      ]
     },
     "metadata": {},
     "output_type": "display_data"
    },
    {
     "data": {
      "image/png": "[encoded data removed]",
      "text/plain": [
       "<Figure size 105.856x105.856 with 1 Axes>"
      ]
     },
     "metadata": {},
     "output_type": "display_data"
    },
    {
     "data": {
      "image/png": "[encoded data removed]",
      "text/plain": [
       "<Figure size 105.856x105.856 with 1 Axes>"
      ]
     },
     "metadata": {},
     "output_type": "display_data"
    },
    {
     "data": {
      "image/png": "[encoded data removed]",
      "text/plain": [
       "<Figure size 105.856x105.856 with 1 Axes>"
      ]
     },
     "metadata": {},
     "output_type": "display_data"
    },
    {
     "data": {
      "image/png": "[encoded data removed]",
      "text/plain": [
       "<Figure size 105.856x105.856 with 1 Axes>"
      ]
     },
     "metadata": {},
     "output_type": "display_data"
    }
   ],
   "source": [
    "# plot conductance profiles\n",
    "import pandas as pd\n",
    "import numpy as np\n",
    "import copy\n",
    "import matplotlib.colors\n",
    "from neurostim.polarmaps import simple_polar_map\n",
    "import matplotlib as mpl\n",
    "import matplotlib.pyplot as plt\n",
    "df = pd.read_hdf('data/conductance_prof/all_data.hdf')\n",
    "df = df.reset_index()[['light_power', 'radius [um]','angle [rad]','AP_count','total_int_g','total_peak_g','max_int_sec_g']]\n",
    "df['norm_total_int_g'] = df.groupby(['light_power'])['total_int_g'].apply(lambda x: x/x.max())\n",
    "df['norm_total_peak_g'] = df.groupby(['light_power'])['total_peak_g'].apply(lambda x: x/x.max())\n",
    "df['norm_max_int_sec_g'] = df.groupby(['light_power'])['max_int_sec_g'].apply(lambda x: x/x.max())\n",
    "df = df.set_index(['light_power', 'radius [um]', 'angle [rad]'])\n",
    "\n",
    "df['norm_total_int_g'].loc[df['norm_total_int_g']<=0.001] = np.nan\n",
    "df['norm_total_peak_g'].loc[df['norm_total_peak_g']<=0.001] = np.nan\n",
    "df['norm_max_int_sec_g'].loc[df['norm_max_int_sec_g']<=0.001] = np.nan\n",
    "cmap = copy.copy(mpl.cm.get_cmap(\"jet\"))\n",
    "cmap.set_bad(color='white')\n",
    "\n",
    "lps = df.reset_index().light_power.unique()\n",
    "lps = [5e-5,3e-4,5e-4,2e-2]\n",
    "\n",
    "# firing rate (AP_count)\n",
    "for lp in lps:\n",
    "    fig = plt.figure(constrained_layout=False, figsize=(pw/4.5,pw/4.5))\n",
    "    gs = fig.add_gridspec(nrows=1, ncols=1, left=0.05, right=0.95,\n",
    "                            wspace=0.05)\n",
    "    ax = fig.add_subplot(gs[0,0], projection=\"polar\")\n",
    "    ax, mappable = simple_polar_map(\n",
    "            data=df.loc[lp].reset_index(),\n",
    "            plot_col='AP_count',\n",
    "            cmap=copy.copy(mpl.cm.get_cmap(\"Reds\")),\n",
    "            ax=ax,\n",
    "            vmin=0,\n",
    "            vmax=25)\n",
    "    #plt.colorbar(mappable)\n",
    "    ax.set_xticks([])\n",
    "    ax.set_xticklabels([])\n",
    "    ax.set_yticks([])\n",
    "    ax.set_yticklabels([])\n",
    "    ax.spines['polar'].set_visible(False)\n",
    "    #plt.title(str(lp))\n",
    "    plt.savefig('paper/NEW_FIGURES/FIG2/plots/tmp_fr_'+str(lp)+'.png', dpi=dpi)\n",
    "    plt.show()\n",
    "# total conductance of all compartments\n",
    "for lp in lps:\n",
    "    fig = plt.figure(constrained_layout=False, figsize=(pw/4.5,pw/4.5))\n",
    "    gs = fig.add_gridspec(nrows=1, ncols=1, left=0.05, right=0.95,\n",
    "                            wspace=0.05)\n",
    "    ax = fig.add_subplot(gs[0,0], projection=\"polar\")\n",
    "    ax, mappable = simple_polar_map(\n",
    "            data=df.loc[lp].reset_index(),\n",
    "            plot_col='norm_total_int_g',\n",
    "            cmap=cmap,\n",
    "            ax=ax,\n",
    "            vmin=0,\n",
    "            vmax=1)\n",
    "    ax.set_xticks([])\n",
    "    ax.set_xticklabels([])\n",
    "    ax.set_yticks([])\n",
    "    ax.set_yticklabels([])\n",
    "    ax.spines['polar'].set_visible(False)\n",
    "    #plt.colorbar(mappable)\n",
    "    #plt.title(str(lp))\n",
    "    plt.savefig('paper/NEW_FIGURES/FIG2/plots/tmp_cond_'+str(lp)+'.png', dpi=dpi)\n",
    "    plt.show()\n",
    "# max conductance in one compartment\n",
    "for lp in lps:\n",
    "    fig = plt.figure(constrained_layout=False, figsize=(pw/4.5,pw/4.5))\n",
    "    gs = fig.add_gridspec(nrows=1, ncols=1, left=0.05, right=0.95,\n",
    "                            wspace=0.05)\n",
    "    ax = fig.add_subplot(gs[0,0], projection=\"polar\")\n",
    "    ax, mappable = simple_polar_map(\n",
    "            data=df.loc[lp].reset_index(),\n",
    "            plot_col='norm_max_int_sec_g',\n",
    "            cmap=cmap,\n",
    "            ax=ax,\n",
    "            vmin=0,\n",
    "            vmax=1)\n",
    "    ax.set_xticks([])\n",
    "    ax.set_xticklabels([])\n",
    "    ax.set_yticks([])\n",
    "    ax.set_yticklabels([])\n",
    "    ax.spines['polar'].set_visible(False)\n",
    "    #plt.colorbar(mappable)\n",
    "    #plt.title(str(lp))\n",
    "    plt.savefig('paper/NEW_FIGURES/FIG2/plots/tmp_max_cond_'+str(lp)+'.png', dpi=dpi)\n",
    "    plt.show()"
   ]
  },
  {
   "cell_type": "code",
   "execution_count": 10,
   "id": "b0a0c675-e182-4add-8bf3-a39d705dafe8",
   "metadata": {},
   "outputs": [
    {
     "name": "stderr",
     "output_type": "stream",
     "text": [
      "/home/david/Software/miniconda3/envs/mioos/lib/python3.6/site-packages/pandas/core/indexing.py:670: SettingWithCopyWarning: \n",
      "A value is trying to be set on a copy of a slice from a DataFrame\n",
      "\n",
      "See the caveats in the documentation: https://pandas.pydata.org/pandas-docs/stable/user_guide/indexing.html#returning-a-view-versus-a-copy\n",
      "  iloc._setitem_with_indexer(indexer, value)\n",
      "/home/david/Software/miniconda3/envs/mioos/lib/python3.6/site-packages/pandas/core/indexing.py:670: SettingWithCopyWarning: \n",
      "A value is trying to be set on a copy of a slice from a DataFrame\n",
      "\n",
      "See the caveats in the documentation: https://pandas.pydata.org/pandas-docs/stable/user_guide/indexing.html#returning-a-view-versus-a-copy\n",
      "  iloc._setitem_with_indexer(indexer, value)\n"
     ]
    },
    {
     "data": {
      "image/png": "[encoded data removed]",
      "text/plain": [
       "<Figure size 105.856x105.856 with 1 Axes>"
      ]
     },
     "metadata": {},
     "output_type": "display_data"
    },
    {
     "data": {
      "image/png": "[encoded data removed]",
      "text/plain": [
       "<Figure size 105.856x105.856 with 1 Axes>"
      ]
     },
     "metadata": {},
     "output_type": "display_data"
    }
   ],
   "source": [
    "light_energy_absorbed = []\n",
    "for radius in np.arange(0,1000,25):\n",
    "    for angle in np.arange(0,2*np.pi,np.pi/8):\n",
    "        # light source initialization\n",
    "        light_x, light_y = convert_polar_to_cartesian_xz(radius, angle)\n",
    "        light_z = 0  # cortical surface\n",
    "        light_pos = (light_x, light_y, light_z)\n",
    "        light_source = LightSource(\n",
    "            model=light_model,\n",
    "            position=(light_x, light_y, light_z),\n",
    "            width=float(diam),\n",
    "            NA=float(NA)\n",
    "        )\n",
    "        # stimulation object initialization\n",
    "        light_stim = LightStimulation(\n",
    "            cell=cell,\n",
    "            light_source=light_source,\n",
    "            delay=1,\n",
    "            duration=200,\n",
    "            light_power=1,\n",
    "            record_all_segments=False,\n",
    "        )\n",
    "        segs, Txs = light_stim.get_segs_Txs()\n",
    "        light_energy_absorbed.append({\n",
    "            'radius [um]': radius,\n",
    "            'angle [rad]': angle,\n",
    "            'total_light_energy_absorbed': np.sum([seg.area() * Tx for seg, Tx in zip(segs, Txs)]),\n",
    "            'max_seg_light_energy_absorbed': np.max([seg.area() * Tx for seg, Tx in zip(segs, Txs)])\n",
    "        })\n",
    "lea_df = pd.DataFrame(light_energy_absorbed)\n",
    "lea_df['total_light_energy_absorbed'] = lea_df['total_light_energy_absorbed'] / lea_df['total_light_energy_absorbed'].max()\n",
    "lea_df['max_seg_energy_absorbed'] = lea_df['max_seg_light_energy_absorbed'] / lea_df['max_seg_light_energy_absorbed'].max()\n",
    "lea_df['total_light_energy_absorbed'].loc[lea_df['total_light_energy_absorbed']<=0.001] = np.nan\n",
    "lea_df['max_seg_energy_absorbed'].loc[lea_df['max_seg_energy_absorbed']<=0.001] = np.nan\n",
    "# total light energy absorbed by the neuron\n",
    "fig = plt.figure(constrained_layout=False, figsize=(pw/4.5,pw/4.5))\n",
    "gs = fig.add_gridspec(nrows=1, ncols=1, left=0.05, right=0.95,\n",
    "                        wspace=0.05)\n",
    "ax = fig.add_subplot(gs[0,0], projection=\"polar\")\n",
    "ax, mappable = simple_polar_map(\n",
    "        data=lea_df,\n",
    "        plot_col='total_light_energy_absorbed',\n",
    "        cmap=cmap,\n",
    "        ax=ax,\n",
    "        vmin=0,\n",
    "        vmax=1)\n",
    "ax.set_xticks([])\n",
    "ax.set_xticklabels([])\n",
    "ax.set_yticks([])\n",
    "ax.set_yticklabels([])\n",
    "ax.spines['polar'].set_visible(False)\n",
    "#plt.colorbar(mappable)\n",
    "#plt.title(str(lp))\n",
    "plt.savefig('paper/NEW_FIGURES/FIG2/plots/tmp_total_lea.png', dpi=dpi)\n",
    "plt.show()\n",
    "# total light energy absorbed by the neuron\n",
    "fig = plt.figure(constrained_layout=False, figsize=(pw/4.5,pw/4.5))\n",
    "gs = fig.add_gridspec(nrows=1, ncols=1, left=0.05, right=0.95,\n",
    "                        wspace=0.05)\n",
    "ax = fig.add_subplot(gs[0,0], projection=\"polar\")\n",
    "ax, mappable = simple_polar_map(\n",
    "        data=lea_df,\n",
    "        plot_col='max_seg_energy_absorbed',\n",
    "        cmap=cmap,\n",
    "        ax=ax,\n",
    "        vmin=0,\n",
    "        vmax=1)\n",
    "ax.set_xticks([])\n",
    "ax.set_xticklabels([])\n",
    "ax.set_yticks([])\n",
    "ax.set_yticklabels([])\n",
    "ax.spines['polar'].set_visible(False)\n",
    "#plt.colorbar(mappable)\n",
    "#plt.title(str(lp))\n",
    "plt.savefig('paper/NEW_FIGURES/FIG2/plots/tmp_max_seg_lea.png', dpi=dpi)\n",
    "plt.show()"
   ]
  },
  {
   "cell_type": "code",
   "execution_count": null,
   "id": "36c4898f-211a-4da9-bfcf-d85777324cce",
   "metadata": {},
   "outputs": [],
   "source": []
  }
 ],
 "metadata": {
  "kernelspec": {
   "display_name": "Python 3",
   "language": "python",
   "name": "python3"
  },
  "language_info": {
   "codemirror_mode": {
    "name": "ipython",
    "version": 3
   },
   "file_extension": ".py",
   "mimetype": "text/x-python",
   "name": "python",
   "nbconvert_exporter": "python",
   "pygments_lexer": "ipython3",
   "version": "3.6.13"
  }
 },
 "nbformat": 4,
 "nbformat_minor": 5
}
