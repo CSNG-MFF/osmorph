{
 "cells": [
  {
   "cell_type": "code",
   "execution_count": 1,
   "id": "b932b42a-bfb3-4dcd-9ba4-ee796964f833",
   "metadata": {},
   "outputs": [],
   "source": [
    "import os\n",
    "os.chdir('/home/david/Projects/optogenetic_whole_cell_activation/morph_impact_on_opt_stim')\n",
    "import pandas as pd\n",
    "import matplotlib.pyplot as plt\n",
    "import seaborn as sns\n",
    "from neurostim.polarmaps import simple_polar_map\n",
    "from neurostim.cell import Cell\n",
    "from neuron import h\n",
    "import matplotlib as mpl\n",
    "import numpy as np\n",
    "mpl.rcParams['axes.spines.right'] = False\n",
    "mpl.rcParams['axes.spines.top'] = False\n",
    "from matplotlib import rc\n",
    "rc('font',**{'family':'sans-serif','sans-serif':['Arial']})"
   ]
  },
  {
   "cell_type": "code",
   "execution_count": 2,
   "id": "d44a1998-e1e7-4397-8d89-08c711ddbcc9",
   "metadata": {},
   "outputs": [],
   "source": [
    "# format\n",
    "# dimensions (A4:  8.27 x 11.69 inches)\n",
    "text_frac = 0.8\n",
    "abs_pw = 8.27 # pagewidth\n",
    "abs_pl = 11.69 # pagelength\n",
    "pw = text_frac * abs_pw\n",
    "pl = text_frac * abs_pl\n",
    "# others\n",
    "dpi=600"
   ]
  },
  {
   "cell_type": "code",
   "execution_count": 3,
   "id": "dd45004e-7a5a-4745-a61a-03ce6174acc9",
   "metadata": {},
   "outputs": [
    {
     "name": "stdout",
     "output_type": "stream",
     "text": [
      "\t1 \n",
      "\t1 \n",
      "\t1 \n",
      "\t1 \n"
     ]
    }
   ],
   "source": [
    "# cortical depth of neuron models\n",
    "cortical_depth = {'L23': 400, 'L5': 1170} #um\n",
    "# ChR2 expression distribution and level\n",
    "chanrhod_distribution = 'uniform' \n",
    "chanrhod_soma_density = 13e9\n",
    "# NEURON setup\n",
    "h.load_file(\"stdrun.hoc\")\n",
    "h.cvode_active(1)\n",
    "# load cell and create stimulation object\n",
    "cell = Cell(\n",
    "    hoc_file=\"simneurostim/model/hoc/L5.hoc\",\n",
    "    cortical_depth=cortical_depth,\n",
    "    ChR_soma_density=chanrhod_soma_density,\n",
    "    ChR_distribution=chanrhod_distribution\n",
    ")\n",
    "# function to label compartment type\n",
    "def compartment_converter(seg):\n",
    "    if 'ais' in str(seg):\n",
    "        return 'soma/basal/axon'\n",
    "    elif 'soma' in str(seg):\n",
    "        return 'soma/basal/axon'\n",
    "    elif 'dend11' in str(seg):\n",
    "        if eval('h.'+str(seg)+'.z_chanrhod') > -300:\n",
    "            return 'apical'\n",
    "        elif eval('h.'+str(seg)+'.z_chanrhod') > -850:\n",
    "            return 'apical shaft'\n",
    "        elif eval('h.'+str(seg)+'.z_chanrhod') > -1100 and eval('h.'+str(seg)+'.x_chanrhod')**2+eval('h.'+str(seg)+'.y_chanrhod')**2 < 170:\n",
    "            return 'apical shaft'\n",
    "        else:\n",
    "            return 'soma/basal/axon'\n",
    "    elif 'dend' in str(seg):\n",
    "        return 'soma/basal/axon'\n",
    "    elif 'myelin' in str(seg):\n",
    "        return 'soma/basal/axon'\n",
    "    elif 'nakeaxon' in str(seg):\n",
    "        return 'soma/basal/axon'\n",
    "    elif 'node' in str(seg):\n",
    "        return 'soma/basal/axon'\n",
    "    elif 'hill' in str(seg):\n",
    "        return 'soma/basal/axon'\n",
    "    else:\n",
    "        return 'None'"
   ]
  },
  {
   "cell_type": "code",
   "execution_count": 4,
   "id": "ebc63ff2-7b16-47aa-8472-9890a99449d1",
   "metadata": {},
   "outputs": [],
   "source": [
    "data = pd.read_hdf('data/conductances/all_data.hdf')\n",
    "# reduce fixed params\n",
    "neuron='L5'\n",
    "light_model='foutz_et_al2012'\n",
    "ChRdistrib = 'uniform'\n",
    "ChRexpression=13e9\n",
    "fiber_d=200\n",
    "fiber_NA=0.22\n",
    "stim_duration=200\n",
    "data = data.loc[neuron,light_model,ChRdistrib,ChRexpression,fiber_d,fiber_NA,stim_duration]"
   ]
  },
  {
   "cell_type": "code",
   "execution_count": 5,
   "id": "a4692ab0-1041-4e0b-b3ae-403b1556281a",
   "metadata": {},
   "outputs": [],
   "source": [
    "data['seglabel'] = [compartment_converter(seg) for seg in data.reset_index().segname]"
   ]
  },
  {
   "cell_type": "code",
   "execution_count": 6,
   "id": "0fefe10f-a7fe-4362-8a64-bcfd111d94a9",
   "metadata": {},
   "outputs": [
    {
     "data": {
      "text/html": [
       "<div>\n",
       "<style scoped>\n",
       "    .dataframe tbody tr th:only-of-type {\n",
       "        vertical-align: middle;\n",
       "    }\n",
       "\n",
       "    .dataframe tbody tr th {\n",
       "        vertical-align: top;\n",
       "    }\n",
       "\n",
       "    .dataframe thead th {\n",
       "        text-align: right;\n",
       "    }\n",
       "</style>\n",
       "<table border=\"1\" class=\"dataframe\">\n",
       "  <thead>\n",
       "    <tr style=\"text-align: right;\">\n",
       "      <th></th>\n",
       "      <th></th>\n",
       "      <th></th>\n",
       "      <th></th>\n",
       "      <th>mean_conductance_pS</th>\n",
       "      <th>AP_count</th>\n",
       "      <th>seglabel</th>\n",
       "    </tr>\n",
       "    <tr>\n",
       "      <th>light_power</th>\n",
       "      <th>radius [um]</th>\n",
       "      <th>angle [rad]</th>\n",
       "      <th>segname</th>\n",
       "      <th></th>\n",
       "      <th></th>\n",
       "      <th></th>\n",
       "    </tr>\n",
       "  </thead>\n",
       "  <tbody>\n",
       "    <tr>\n",
       "      <th rowspan=\"5\" valign=\"top\">0.00005</th>\n",
       "      <th rowspan=\"5\" valign=\"top\">0</th>\n",
       "      <th rowspan=\"5\" valign=\"top\">0.000000</th>\n",
       "      <th>ais[0](0.05)</th>\n",
       "      <td>3.265252e-02</td>\n",
       "      <td>0</td>\n",
       "      <td>soma/basal/axon</td>\n",
       "    </tr>\n",
       "    <tr>\n",
       "      <th>ais[0](0.15)</th>\n",
       "      <td>3.227652e-02</td>\n",
       "      <td>0</td>\n",
       "      <td>soma/basal/axon</td>\n",
       "    </tr>\n",
       "    <tr>\n",
       "      <th>ais[0](0.25)</th>\n",
       "      <td>3.184991e-02</td>\n",
       "      <td>0</td>\n",
       "      <td>soma/basal/axon</td>\n",
       "    </tr>\n",
       "    <tr>\n",
       "      <th>ais[0](0.35)</th>\n",
       "      <td>3.142432e-02</td>\n",
       "      <td>0</td>\n",
       "      <td>soma/basal/axon</td>\n",
       "    </tr>\n",
       "    <tr>\n",
       "      <th>ais[0](0.45)</th>\n",
       "      <td>3.099976e-02</td>\n",
       "      <td>0</td>\n",
       "      <td>soma/basal/axon</td>\n",
       "    </tr>\n",
       "    <tr>\n",
       "      <th>...</th>\n",
       "      <th>...</th>\n",
       "      <th>...</th>\n",
       "      <th>...</th>\n",
       "      <td>...</td>\n",
       "      <td>...</td>\n",
       "      <td>...</td>\n",
       "    </tr>\n",
       "    <tr>\n",
       "      <th rowspan=\"5\" valign=\"top\">0.00500</th>\n",
       "      <th rowspan=\"5\" valign=\"top\">975</th>\n",
       "      <th rowspan=\"5\" valign=\"top\">5.890486</th>\n",
       "      <th>soma(0.55)</th>\n",
       "      <td>4.467907e-08</td>\n",
       "      <td>0</td>\n",
       "      <td>soma/basal/axon</td>\n",
       "    </tr>\n",
       "    <tr>\n",
       "      <th>soma(0.65)</th>\n",
       "      <td>4.837660e-08</td>\n",
       "      <td>0</td>\n",
       "      <td>soma/basal/axon</td>\n",
       "    </tr>\n",
       "    <tr>\n",
       "      <th>soma(0.75)</th>\n",
       "      <td>5.157106e-08</td>\n",
       "      <td>0</td>\n",
       "      <td>soma/basal/axon</td>\n",
       "    </tr>\n",
       "    <tr>\n",
       "      <th>soma(0.85)</th>\n",
       "      <td>4.601176e-08</td>\n",
       "      <td>0</td>\n",
       "      <td>soma/basal/axon</td>\n",
       "    </tr>\n",
       "    <tr>\n",
       "      <th>soma(0.95)</th>\n",
       "      <td>2.987511e-08</td>\n",
       "      <td>0</td>\n",
       "      <td>soma/basal/axon</td>\n",
       "    </tr>\n",
       "  </tbody>\n",
       "</table>\n",
       "<p>1603200 rows × 3 columns</p>\n",
       "</div>"
      ],
      "text/plain": [
       "                                                  mean_conductance_pS  \\\n",
       "light_power radius [um] angle [rad] segname                             \n",
       "0.00005     0           0.000000    ais[0](0.05)         3.265252e-02   \n",
       "                                    ais[0](0.15)         3.227652e-02   \n",
       "                                    ais[0](0.25)         3.184991e-02   \n",
       "                                    ais[0](0.35)         3.142432e-02   \n",
       "                                    ais[0](0.45)         3.099976e-02   \n",
       "...                                                               ...   \n",
       "0.00500     975         5.890486    soma(0.55)           4.467907e-08   \n",
       "                                    soma(0.65)           4.837660e-08   \n",
       "                                    soma(0.75)           5.157106e-08   \n",
       "                                    soma(0.85)           4.601176e-08   \n",
       "                                    soma(0.95)           2.987511e-08   \n",
       "\n",
       "                                                  AP_count         seglabel  \n",
       "light_power radius [um] angle [rad] segname                                  \n",
       "0.00005     0           0.000000    ais[0](0.05)         0  soma/basal/axon  \n",
       "                                    ais[0](0.15)         0  soma/basal/axon  \n",
       "                                    ais[0](0.25)         0  soma/basal/axon  \n",
       "                                    ais[0](0.35)         0  soma/basal/axon  \n",
       "                                    ais[0](0.45)         0  soma/basal/axon  \n",
       "...                                                    ...              ...  \n",
       "0.00500     975         5.890486    soma(0.55)           0  soma/basal/axon  \n",
       "                                    soma(0.65)           0  soma/basal/axon  \n",
       "                                    soma(0.75)           0  soma/basal/axon  \n",
       "                                    soma(0.85)           0  soma/basal/axon  \n",
       "                                    soma(0.95)           0  soma/basal/axon  \n",
       "\n",
       "[1603200 rows x 3 columns]"
      ]
     },
     "execution_count": 6,
     "metadata": {},
     "output_type": "execute_result"
    }
   ],
   "source": [
    "data"
   ]
  },
  {
   "cell_type": "code",
   "execution_count": 7,
   "id": "fe2fd68b-3f07-4d2e-8cba-edfe6e7abe17",
   "metadata": {},
   "outputs": [
    {
     "name": "stderr",
     "output_type": "stream",
     "text": [
      "/home/david/Software/miniconda3/envs/mioos/lib/python3.6/site-packages/ipykernel_launcher.py:3: FutureWarning: Indexing with multiple keys (implicitly converted to a tuple of keys) will be deprecated, use a list instead.\n",
      "  This is separate from the ipykernel package so we can avoid doing imports until\n"
     ]
    }
   ],
   "source": [
    "max_g_comp = pd.DataFrame(\n",
    "    data.groupby(['light_power','radius [um]','angle [rad]']\n",
    "                )['mean_conductance_pS','AP_count'].max())"
   ]
  },
  {
   "cell_type": "code",
   "execution_count": 8,
   "id": "e1ac5cac-c59e-41ca-b95e-f5172e1bec67",
   "metadata": {},
   "outputs": [],
   "source": [
    "seglabels = []\n",
    "for lp,radius,angle in zip(max_g_comp.reset_index()['light_power'],max_g_comp.reset_index()['radius [um]'],max_g_comp.reset_index()['angle [rad]']):\n",
    "    seglabels.append(data.loc[lp, radius, angle].loc[data.loc[lp, radius, angle].mean_conductance_pS==max_g_comp.loc[lp,radius,angle].mean_conductance_pS].seglabel)"
   ]
  },
  {
   "cell_type": "code",
   "execution_count": 9,
   "id": "25f7b151-b17a-4364-9d69-d518641d49c0",
   "metadata": {},
   "outputs": [],
   "source": [
    "max_g_comp['seglabel'] = [seglabel.values[0] for seglabel in seglabels]"
   ]
  },
  {
   "cell_type": "code",
   "execution_count": 10,
   "id": "1e68b0f5-8a3f-4eb5-9e51-7a325a25640d",
   "metadata": {},
   "outputs": [],
   "source": [
    "max_g_comp = max_g_comp.reset_index().set_index(['light_power','radius [um]','angle [rad]','seglabel'])"
   ]
  },
  {
   "cell_type": "code",
   "execution_count": 21,
   "id": "a9d6c3ea-0515-42c9-8f59-b0eb417686ce",
   "metadata": {},
   "outputs": [
    {
     "data": {
      "image/png": "[encoded data removed]",
      "text/plain": [
       "<Figure size 432x288 with 2 Axes>"
      ]
     },
     "metadata": {
      "needs_background": "light"
     },
     "output_type": "display_data"
    },
    {
     "data": {
      "image/png": "[encoded data removed]",
      "text/plain": [
       "<Figure size 432x288 with 2 Axes>"
      ]
     },
     "metadata": {
      "needs_background": "light"
     },
     "output_type": "display_data"
    },
    {
     "data": {
      "image/png": "[encoded data removed]",
      "text/plain": [
       "<Figure size 432x288 with 2 Axes>"
      ]
     },
     "metadata": {
      "needs_background": "light"
     },
     "output_type": "display_data"
    }
   ],
   "source": [
    "# plot radial profiles of max conductance and AP_count\n",
    "for  lp in [0.00005, 0.001, 0.005]:\n",
    "    plot_df = max_g_comp.loc[lp,:,].groupby(['radius [um]']).mean().reset_index()\n",
    "    plt.plot(plot_df['radius [um]'].values, plot_df['mean_conductance_pS'].values)\n",
    "    plt.gca().twinx().plot(plot_df['radius [um]'].values, plot_df['AP_count'].values,c='red')\n",
    "    plt.show()"
   ]
  },
  {
   "cell_type": "code",
   "execution_count": 22,
   "id": "00ed0ade-9df4-41a3-8279-c2b05d220453",
   "metadata": {},
   "outputs": [],
   "source": [
    "max_g_comp.loc[max_g_comp.mean_conductance_pS<0.1]==np.nan\n",
    "pivot = max_g_comp.reset_index().pivot(index=['light_power', 'radius [um]', 'angle [rad]'], columns = 'seglabel', values='mean_conductance_pS')"
   ]
  },
  {
   "cell_type": "code",
   "execution_count": 23,
   "id": "632ff93a-8183-48c2-8e71-97ba721d98ae",
   "metadata": {},
   "outputs": [
    {
     "ename": "NameError",
     "evalue": "name 'colors' is not defined",
     "output_type": "error",
     "traceback": [
      "\u001b[0;31m---------------------------------------------------------------------------\u001b[0m",
      "\u001b[0;31mNameError\u001b[0m                                 Traceback (most recent call last)",
      "\u001b[0;32m<ipython-input-23-939f8a32f2f2>\u001b[0m in \u001b[0;36m<module>\u001b[0;34m\u001b[0m\n\u001b[0;32m----> 1\u001b[0;31m \u001b[0mcolors\u001b[0m\u001b[0;34m.\u001b[0m\u001b[0mrgb2hex\u001b[0m\u001b[0;34m(\u001b[0m\u001b[0mPurples\u001b[0m\u001b[0;34m(\u001b[0m\u001b[0;36m254\u001b[0m\u001b[0;34m)\u001b[0m\u001b[0;34m)\u001b[0m\u001b[0;34m\u001b[0m\u001b[0;34m\u001b[0m\u001b[0m\n\u001b[0m",
      "\u001b[0;31mNameError\u001b[0m: name 'colors' is not defined"
     ]
    }
   ],
   "source": [
    "colors.rgb2hex(Purples(254))"
   ]
  },
  {
   "cell_type": "code",
   "execution_count": 64,
   "id": "baa940b0-c7f2-477d-8ab3-1b835b31f2e1",
   "metadata": {},
   "outputs": [
    {
     "data": {
      "text/plain": [
       "'#3f007d'"
      ]
     },
     "execution_count": 64,
     "metadata": {},
     "output_type": "execute_result"
    }
   ],
   "source": [
    "\n",
    "colors.rgb2hex(Purples(150.))"
   ]
  },
  {
   "cell_type": "code",
   "execution_count": 24,
   "id": "ddb5cfa6-13a2-45be-8d01-d1639f58c0b4",
   "metadata": {},
   "outputs": [
    {
     "data": {
      "image/png": "[encoded data removed]",
      "text/plain": [
       "<Figure size 317.568x317.568 with 1 Axes>"
      ]
     },
     "metadata": {},
     "output_type": "display_data"
    },
    {
     "data": {
      "image/png": "[encoded data removed]",
      "text/plain": [
       "<Figure size 317.568x317.568 with 1 Axes>"
      ]
     },
     "metadata": {},
     "output_type": "display_data"
    },
    {
     "data": {
      "image/png": "[encoded data removed]",
      "text/plain": [
       "<Figure size 317.568x317.568 with 1 Axes>"
      ]
     },
     "metadata": {},
     "output_type": "display_data"
    },
    {
     "data": {
      "image/png": "[encoded data removed]",
      "text/plain": [
       "<Figure size 59.544x158.784 with 2 Axes>"
      ]
     },
     "metadata": {
      "needs_background": "light"
     },
     "output_type": "display_data"
    }
   ],
   "source": [
    "from matplotlib.cm import Blues\n",
    "from matplotlib.cm import Purples\n",
    "from matplotlib.cm import Oranges\n",
    "from matplotlib import colors\n",
    "\n",
    "#### create custom colormaps ######\n",
    "#colors_custom1 = [(0, '#ffffff'), (0.15, '#d2b8e6'), (1, '#4e008e')] #the second value (0.15) controls the colorbar speed at low values\n",
    "colors_custom1 = [(0, colors.rgb2hex(Purples(0))), (0.15, colors.rgb2hex(Purples(int(0.3*255)))), (1, colors.rgb2hex(Purples(255)))]\n",
    "#colors_custom1 = [(0, colors.rgb2hex(Purples(0))), (0.5, colors.rgb2hex(Purples(int(0.5*255)))), (1, '#000000')]\n",
    "custom_Purples = colors.LinearSegmentedColormap.from_list('CustomPurples', colors_custom1)\n",
    "\n",
    "#colors_custom2 = [(0, '#ffffff'), (0.15, '#f9c99f'), (1, '#ff4500')]\n",
    "colors_custom2 = [(0, colors.rgb2hex(Oranges(0))), (0.15, colors.rgb2hex(Oranges(int(0.3*255)))), (1, colors.rgb2hex(Oranges(255)))]\n",
    "#colors_custom2 = [(0, colors.rgb2hex(Oranges(0))), (0.5, colors.rgb2hex(Oranges(int(0.5*255)))), (1, '#000000')] #the second value (0.15) controls the colorbar speed at low values\n",
    "custom_Oranges = colors.LinearSegmentedColormap.from_list('CustomOranges', colors_custom2)\n",
    "\n",
    "max_cond = max_g_comp.loc[5e-3].mean_conductance_pS.max()\n",
    "#max_cond=350\n",
    "\n",
    "for lp in [5e-5, 1e-3, 5e-3]:\n",
    "    #max_cond = max_g_comp.loc[lp].mean_conductance_pS.max()\n",
    "    fig = plt.figure(constrained_layout=False, figsize=(pw/1.5,pw/1.5))\n",
    "    gs = fig.add_gridspec(nrows=1, ncols=1, left=0.05, right=0.95,\n",
    "                            wspace=0.05)\n",
    "    ax = fig.add_subplot(gs[0,0], projection=\"polar\")\n",
    "    ax, mappable1 = simple_polar_map(\n",
    "        data=pd.DataFrame(pivot['apical']).loc[lp,:,:].reset_index(),\n",
    "        plot_col='apical',\n",
    "        cmap= custom_Purples,\n",
    "        ax=ax,\n",
    "        vmin=0,\n",
    "        vmax=max_cond)\n",
    "    ax, mappable2 = simple_polar_map(\n",
    "        data=pd.DataFrame(pivot['apical shaft']).loc[lp,:,:].reset_index(),\n",
    "        plot_col='apical shaft',\n",
    "        cmap= custom_Oranges,\n",
    "        ax=ax,\n",
    "        vmin=0,\n",
    "        vmax=max_cond)\n",
    "    ax.set_xticks([])\n",
    "    ax.set_xticklabels([])\n",
    "    ax.set_yticks([])\n",
    "    ax.set_yticklabels([])\n",
    "    ax.spines['polar'].set_visible(False)\n",
    "    ax.grid()\n",
    "    fig.savefig('paper/NEW_FIGURES/NEWFIG4_spatial_profs_reason/plots/lead_conductance_map_'+str(lp)+'.png', dpi=dpi, \n",
    "                facecolor='w', edgecolor='w',  \n",
    "                bbox_inches='tight')\n",
    "    plt.show()\n",
    "############# absolute scale\n",
    "fig = plt.figure(figsize=(pw/8,pw/3))\n",
    "ax = fig.add_subplot(131)\n",
    "plt.colorbar(mappable1,cax=ax,ticks=[0,350,700])\n",
    "ax.yaxis.set_ticks_position('left')\n",
    "ax2 = fig.add_subplot(132)\n",
    "plt.colorbar(mappable2,cax=ax2,ticks=[])\n",
    "\n",
    "fig.savefig('paper/NEW_FIGURES/NEWFIG4_spatial_profs_reason/plots/triple_cbar_absolute.png', dpi=dpi, \n",
    "            facecolor=None, edgecolor=None,  \n",
    "            bbox_inches='tight')\n",
    "plt.show()"
   ]
  },
  {
   "cell_type": "code",
   "execution_count": 25,
   "id": "7ca16afd-50a5-486e-9e13-634b37073c02",
   "metadata": {},
   "outputs": [
    {
     "data": {
      "text/plain": [
       "(1.0, 0.9607843137254902, 0.9215686274509803, 1.0)"
      ]
     },
     "execution_count": 25,
     "metadata": {},
     "output_type": "execute_result"
    }
   ],
   "source": [
    "Oranges(0)"
   ]
  },
  {
   "cell_type": "code",
   "execution_count": 26,
   "id": "b20731e8-6793-4602-8a41-2f86d9ebad3c",
   "metadata": {},
   "outputs": [
    {
     "data": {
      "text/plain": [
       "array([-8.20197360e-05, -3.28078944e-03, -6.06946046e-03,  0.00000000e+00])"
      ]
     },
     "execution_count": 26,
     "metadata": {},
     "output_type": "execute_result"
    }
   ],
   "source": [
    "np.array(custom_Oranges(1)) - np.array(Oranges(1))"
   ]
  },
  {
   "cell_type": "code",
   "execution_count": 27,
   "id": "3a601bfa-2b61-4035-9b12-13703d0e40d6",
   "metadata": {},
   "outputs": [
    {
     "data": {
      "text/plain": [
       "740.6045555716189"
      ]
     },
     "execution_count": 27,
     "metadata": {},
     "output_type": "execute_result"
    }
   ],
   "source": [
    "max_cond"
   ]
  },
  {
   "cell_type": "code",
   "execution_count": 28,
   "id": "495b9891-65dc-4ba1-92c5-22a55de40a67",
   "metadata": {},
   "outputs": [
    {
     "data": {
      "text/plain": [
       "339.83365592477156"
      ]
     },
     "execution_count": 28,
     "metadata": {},
     "output_type": "execute_result"
    }
   ],
   "source": [
    "max_g_comp.loc[1e-3].mean_conductance_pS.max()"
   ]
  },
  {
   "cell_type": "code",
   "execution_count": 30,
   "id": "eebe506c-570e-4345-aeec-1649a30f299f",
   "metadata": {},
   "outputs": [
    {
     "data": {
      "image/png": "[encoded data removed]",
      "text/plain": [
       "<Figure size 59.544x158.784 with 2 Axes>"
      ]
     },
     "metadata": {},
     "output_type": "display_data"
    }
   ],
   "source": [
    "fig = plt.figure(figsize=(pw/8,pw/3))\n",
    "ax = fig.add_subplot(131)\n",
    "plt.colorbar(mappable1,cax=ax,ticks=[])\n",
    "ax2 = fig.add_subplot(132)\n",
    "plt.colorbar(mappable2,cax=ax2,ticks=[])\n",
    "fig.savefig('paper/NEW_FIGURES/NEWFIG4_spatial_profs_reason/plots/triple_cbar_normalized.png', dpi=dpi, \n",
    "            facecolor=None, edgecolor=None,  \n",
    "            bbox_inches='tight')\n",
    "plt.show()\n"
   ]
  },
  {
   "cell_type": "code",
   "execution_count": 42,
   "id": "d09d4be7-2853-475f-a9eb-aafab4acb11c",
   "metadata": {},
   "outputs": [
    {
     "name": "stdout",
     "output_type": "stream",
     "text": [
      "#fff5ea\n"
     ]
    }
   ],
   "source": [
    "print(colors.rgb2hex(Oranges(1)))"
   ]
  },
  {
   "cell_type": "code",
   "execution_count": 31,
   "id": "3699b532-a728-40fc-b64a-5f42e702766b",
   "metadata": {},
   "outputs": [
    {
     "data": {
      "image/png": "[encoded data removed]",
      "text/plain": [
       "<Figure size 52.928x95.2704 with 1 Axes>"
      ]
     },
     "metadata": {
      "needs_background": "light"
     },
     "output_type": "display_data"
    },
    {
     "data": {
      "image/png": "[encoded data removed]",
      "text/plain": [
       "<Figure size 52.928x95.2704 with 1 Axes>"
      ]
     },
     "metadata": {
      "needs_background": "light"
     },
     "output_type": "display_data"
    },
    {
     "data": {
      "image/png": "[encoded data removed]",
      "text/plain": [
       "<Figure size 52.928x95.2704 with 1 Axes>"
      ]
     },
     "metadata": {
      "needs_background": "light"
     },
     "output_type": "display_data"
    }
   ],
   "source": [
    "# transition from light energy to conductance\n",
    "# plot ChR cond for each compartment dep on light energy absorbed by compartment\n",
    "common_hue_order = ['apical','apical shaft','soma/basal/axon']\n",
    "palette = ['tab:purple','tab:orange','tab:blue']\n",
    "light_powers = [5e-5, 1e-3, 5e-3]\n",
    "for lp,xticklabel in zip(light_powers,['low','intermediate','high']):\n",
    "    fig, ax = plt.subplots(figsize=(pw/9,pw/5))\n",
    "    sns.boxplot(\n",
    "        #data=cond_light_energy_merged.loc[lp],\n",
    "        data=max_g_comp.loc[lp,:,:,:].reset_index(),\n",
    "        x='light_power', y='mean_conductance_pS', hue='seglabel', hue_order=common_hue_order, palette=palette, ax=ax, \n",
    "        fliersize=0.3, linewidth=1, width=0.9,\n",
    "        dodge=True,\n",
    "    )\n",
    "    ax.get_legend().remove()\n",
    "    ax.set_xticklabels([xticklabel])\n",
    "    #plt.ylim(0,None)\n",
    "    #plt.xlim(0,None)\n",
    "    plt.xlabel('')\n",
    "    plt.ylabel('')\n",
    "    fig.savefig('paper/NEW_FIGURES/NEWFIG4_spatial_profs_reason/plots/leading_conductance_box_'+str(lp)+'.png', dpi=dpi, \n",
    "                facecolor=None, edgecolor=None,  \n",
    "                bbox_inches='tight')\n",
    "    plt.show()"
   ]
  },
  {
   "cell_type": "code",
   "execution_count": 32,
   "id": "5e93e8ae-435f-4e8a-bbb4-5563d8d2f737",
   "metadata": {},
   "outputs": [
    {
     "data": {
      "image/png": "[encoded data removed]",
      "text/plain": [
       "<Figure size 52.928x95.2704 with 1 Axes>"
      ]
     },
     "metadata": {
      "needs_background": "light"
     },
     "output_type": "display_data"
    },
    {
     "data": {
      "image/png": "[encoded data removed]",
      "text/plain": [
       "<Figure size 52.928x95.2704 with 1 Axes>"
      ]
     },
     "metadata": {
      "needs_background": "light"
     },
     "output_type": "display_data"
    }
   ],
   "source": [
    "# plot conductance for all compartments in a box for one fiber position\n",
    "fig, ax = plt.subplots(figsize=(pw/9,pw/5))\n",
    "sns.stripplot(\n",
    "    data=data.loc[5e-5,0,0,:].reset_index(),\n",
    "    x='light_power', y='mean_conductance_pS', hue='seglabel', hue_order=common_hue_order, palette=palette, ax=ax, \n",
    "    s=3,\n",
    "    #fliersize=0.3, linewidth=1, width=0.9, whis=100,\n",
    "    dodge=True,\n",
    ")\n",
    "ax.get_legend().remove()\n",
    "#ax.set_xticklabels([xticklabel])\n",
    "plt.ylim(0,70)\n",
    "#plt.xlim(0,None)\n",
    "plt.xlabel('')\n",
    "plt.ylabel('')\n",
    "fig.savefig('paper/NEW_FIGURES/NEWFIG4_spatial_profs_reason/plots/cond_comps_central_stim_position_low_light_power_scatter_largedata.png', dpi=dpi, \n",
    "            facecolor=None, edgecolor=None,  \n",
    "            bbox_inches='tight')\n",
    "plt.show()\n",
    "# plot max conductance across compartments in a box for all fiber positions\n",
    "fig, ax = plt.subplots(figsize=(pw/9,pw/5))\n",
    "sns.stripplot(\n",
    "    data=max_g_comp.loc[5e-5,:,:,:].reset_index(),\n",
    "    x='light_power', y='mean_conductance_pS', hue='seglabel', hue_order=common_hue_order, palette=palette, ax=ax, \n",
    "    s=3,\n",
    "    #fliersize=0.3, linewidth=1, width=0.9, whis=100,\n",
    "    dodge=True,\n",
    ")\n",
    "ax.get_legend().remove()\n",
    "#ax.set_xticklabels([xticklabel])\n",
    "plt.ylim(0,70)\n",
    "#plt.xlim(0,None)\n",
    "plt.xlabel('')\n",
    "plt.ylabel('')\n",
    "fig.savefig('paper/NEW_FIGURES/NEWFIG4_spatial_profs_reason/plots/leading_cond_all_stim_positions_low_light_power_scatter.png', dpi=dpi, \n",
    "            facecolor=None, edgecolor=None,  \n",
    "            bbox_inches='tight')\n",
    "plt.show()"
   ]
  },
  {
   "cell_type": "code",
   "execution_count": 62,
   "id": "f1b40705-ac6a-4b4c-9753-e9374981c7a9",
   "metadata": {},
   "outputs": [
    {
     "data": {
      "text/plain": [
       "(0.9981545559400231, 0.9981545559400231, 0.9981545559400231, 1.0)"
      ]
     },
     "execution_count": 62,
     "metadata": {},
     "output_type": "execute_result"
    }
   ],
   "source": [
    "Greys(1)"
   ]
  },
  {
   "cell_type": "code",
   "execution_count": 72,
   "id": "b84e7a08-7b54-4b31-89d4-432b65016f11",
   "metadata": {},
   "outputs": [
    {
     "data": {
      "image/png": "[encoded data removed]",
      "text/plain": [
       "<Figure size 158.784x158.784 with 1 Axes>"
      ]
     },
     "metadata": {
      "needs_background": "light"
     },
     "output_type": "display_data"
    },
    {
     "data": {
      "image/png": "[encoded data removed]",
      "text/plain": [
       "<Figure size 95.2704x95.2704 with 1 Axes>"
      ]
     },
     "metadata": {
      "needs_background": "light"
     },
     "output_type": "display_data"
    }
   ],
   "source": [
    "from matplotlib.cm import Greys\n",
    "# transition from conductance into neural response\n",
    "# plot neural response dep on maximal ChR conductance across compartments\n",
    "fig, ax = plt.subplots(figsize=(pw/3,pw/3))\n",
    "dfplot = max_g_comp.loc[:,:,:,:][::-1]\n",
    "# convert APC to spikes (multiply by 5 since 200 ms stim duration)\n",
    "dfplot['fr'] = dfplot['AP_count'] * 5 \n",
    "sns.scatterplot(\n",
    "    data=dfplot,\n",
    "    x='mean_conductance_pS', y='fr', hue='light_power', hue_order=[0.00005, 0.001, 0.005],\n",
    "    palette=['darkgrey','dimgrey','black'], \n",
    "    edgecolor=None,\n",
    "    ax=ax, s=8, legend=False\n",
    ")\n",
    "# mark central stimulator positions\n",
    "dfplot = max_g_comp.loc[:,0,0,:][::-1]\n",
    "dfplot['fr'] = dfplot['AP_count'] * 5 \n",
    "sns.scatterplot(\n",
    "    data=dfplot,\n",
    "    x='mean_conductance_pS', y='fr', hue='light_power', hue_order=[0.00005, 0.001, 0.005],\n",
    "    palette=['darkgrey','dimgrey','black'], \n",
    "    edgecolor='tab:red', linewidth=2,\n",
    "    ax=ax, s=30, legend=False\n",
    ")\n",
    "plt.ylim(0,None)\n",
    "plt.xlim(0,None)\n",
    "plt.xlabel('')\n",
    "plt.ylabel('')\n",
    "#plt.legend(bbox_to_anchor=(1.05, 1), loc='upper left', borderaxespad=0, title='stimulation intensity', labels=['low','intermediate','high'])\n",
    "fig.savefig('paper/NEW_FIGURES/NEWFIG4_spatial_profs_reason/plots/trans2_neural_resp_max_cond_comp_ALL_Large_data.png', dpi=dpi, \n",
    "            facecolor=None, edgecolor=None, transparent=True, \n",
    "            bbox_inches='tight')\n",
    "plt.show()\n",
    "fig, ax = plt.subplots(figsize=(pw/5,pw/5))\n",
    "dfplot = max_g_comp.loc[:,:,:,:][::-1]\n",
    "# convert APC to spikes (multiply by 5 since 200 ms stim duration)\n",
    "dfplot['fr'] = dfplot['AP_count'] * 5 \n",
    "sns.scatterplot(\n",
    "    data=dfplot,\n",
    "    x='mean_conductance_pS', y='fr', hue='light_power', hue_order=[0.00005, 0.001, 0.005], palette=['white','grey','black'], edgecolor='black', linewidth=0.5, \n",
    "    ax=ax, s=8, legend='brief'\n",
    ")\n",
    "plt.ylim(0,None)\n",
    "plt.xlim(0,None)\n",
    "plt.xlabel('')\n",
    "plt.ylabel('')\n",
    "#plt.legend(bbox_to_anchor=(1.05, 1), loc='upper left', borderaxespad=0, title='stimulation intensity', labels=['low','intermediate','high'])\n",
    "#fig.savefig('paper/NEW_FIGURES/NEWFIG4_spatial_profs_reason/plots/trans2_neural_resp_max_cond_comp_ALL_Large_data_with_legend.svg', dpi=dpi, \n",
    "#            facecolor=None, edgecolor=None,  \n",
    "#            bbox_inches='tight')\n",
    "plt.show()"
   ]
  },
  {
   "cell_type": "code",
   "execution_count": 35,
   "id": "8ba9e9d8-c8ee-468c-93be-55b53d9448a5",
   "metadata": {},
   "outputs": [
    {
     "data": {
      "image/png": "[encoded data removed]",
      "text/plain": [
       "<Figure size 95.2704x95.2704 with 1 Axes>"
      ]
     },
     "metadata": {
      "needs_background": "light"
     },
     "output_type": "display_data"
    },
    {
     "data": {
      "image/png": "[encoded data removed]",
      "text/plain": [
       "<Figure size 95.2704x95.2704 with 1 Axes>"
      ]
     },
     "metadata": {
      "needs_background": "light"
     },
     "output_type": "display_data"
    }
   ],
   "source": [
    "# transition from conductance into neural response\n",
    "# plot neural response dep on maximal ChR conductance across compartments\n",
    "fig, ax = plt.subplots(figsize=(pw/5,pw/5))\n",
    "dfplot = max_g_comp.loc[:,0,0,:][::-1]\n",
    "# convert APC to spikes (multiply by 5 since 200 ms stim duration)\n",
    "dfplot['fr'] = dfplot['AP_count'] * 5 \n",
    "sns.scatterplot(\n",
    "    data=dfplot,\n",
    "    x='mean_conductance_pS', y='fr', hue='light_power', hue_order=[0.00005, 0.001, 0.005], palette=['white','grey','black'], edgecolor='black', linewidth=0.5, \n",
    "    ax=ax, s=8, legend=False\n",
    ")\n",
    "plt.ylim(0,None)\n",
    "plt.xlim(0,None)\n",
    "plt.xlabel('')\n",
    "plt.ylabel('')\n",
    "#plt.legend(bbox_to_anchor=(1.05, 1), loc='upper left', borderaxespad=0, title='stimulation intensity', labels=['low','intermediate','high'])\n",
    "fig.savefig('paper/NEW_FIGURES/NEWFIG4_spatial_profs_reason/plots/trans2_neural_resp_max_cond_comp_ALL_Large_data.png', dpi=dpi, \n",
    "            facecolor=None, edgecolor=None,  \n",
    "            bbox_inches='tight')\n",
    "plt.show()\n",
    "fig, ax = plt.subplots(figsize=(pw/5,pw/5))\n",
    "dfplot = max_g_comp.loc[:,:,:,:][::-1]\n",
    "# convert APC to spikes (multiply by 5 since 200 ms stim duration)\n",
    "dfplot['fr'] = dfplot['AP_count'] * 5 \n",
    "sns.scatterplot(\n",
    "    data=dfplot,\n",
    "    x='mean_conductance_pS', y='fr', hue='light_power', hue_order=[0.00005, 0.001, 0.005], palette=['white','grey','black'], edgecolor='black', linewidth=0.5, \n",
    "    ax=ax, s=8, legend='brief'\n",
    ")\n",
    "plt.ylim(0,None)\n",
    "plt.xlim(0,None)\n",
    "plt.xlabel('')\n",
    "plt.ylabel('')\n",
    "#plt.legend(bbox_to_anchor=(1.05, 1), loc='upper left', borderaxespad=0, title='stimulation intensity', labels=['low','intermediate','high'])\n",
    "fig.savefig('paper/NEW_FIGURES/NEWFIG4_spatial_profs_reason/plots/trans2_neural_resp_max_cond_comp_ALL_Large_data_with_legend.svg', dpi=dpi, \n",
    "            facecolor=None, edgecolor=None,  \n",
    "            bbox_inches='tight')\n",
    "plt.show()"
   ]
  },
  {
   "cell_type": "code",
   "execution_count": 19,
   "id": "ecc2a4d9-8e01-44b1-913f-cf80722e5d21",
   "metadata": {},
   "outputs": [
    {
     "ename": "SyntaxError",
     "evalue": "invalid syntax (<ipython-input-19-c435492af7b1>, line 10)",
     "output_type": "error",
     "traceback": [
      "\u001b[0;36m  File \u001b[0;32m\"<ipython-input-19-c435492af7b1>\"\u001b[0;36m, line \u001b[0;32m10\u001b[0m\n\u001b[0;31m    x='mean_conductance_pS', y='AP_count', hue='light_power', palette=['white',,\u001b[0m\n\u001b[0m                                                                               ^\u001b[0m\n\u001b[0;31mSyntaxError\u001b[0m\u001b[0;31m:\u001b[0m invalid syntax\n"
     ]
    }
   ],
   "source": [
    "# transition from conductance into neural response\n",
    "# plot neural response dep on maximal ChR conductance across compartments\n",
    "for lp in light_powers:\n",
    "    fig, ax = plt.subplots(figsize=(pw/3,pw/5))\n",
    "    dfplot = max_g_comp.loc[lp]\n",
    "    # convert APC to spikes (multiply by 5 since 200 ms stim duration)\n",
    "    dfplot['AP_count'] = dfplot['AP_count'] * 5 \n",
    "    sns.scatterplot(\n",
    "        data=dfplot,\n",
    "        x='mean_conductance_pS', y='AP_count', hue='light_power', palette=['white',,\n",
    "        ax=ax, legend=False\n",
    "    )\n",
    "    plt.ylim(0,None)\n",
    "    plt.xlim(0,None)\n",
    "    plt.xlabel('')\n",
    "    plt.ylabel('')\n",
    "    #plt.legend(bbox_to_anchor=(1.05, 1), loc='upper left', borderaxespad=0, title='stimulation intensity', labels=['low','intermediate','high'])\n",
    "    #fig.savefig('paper/NEW_FIGURES/NEWFIG4_spatial_profs_reason/plots/trans2_neural_resp_max_cond_comp_ALL.png', dpi=dpi, \n",
    "    #            facecolor=None, edgecolor=None,  \n",
    "    #            bbox_inches='tight')\n",
    "    plt.show()"
   ]
  }
 ],
 "metadata": {
  "kernelspec": {
   "display_name": "Python 3",
   "language": "python",
   "name": "python3"
  },
  "language_info": {
   "codemirror_mode": {
    "name": "ipython",
    "version": 3
   },
   "file_extension": ".py",
   "mimetype": "text/x-python",
   "name": "python",
   "nbconvert_exporter": "python",
   "pygments_lexer": "ipython3",
   "version": "3.6.13"
  }
 },
 "nbformat": 4,
 "nbformat_minor": 5
}
