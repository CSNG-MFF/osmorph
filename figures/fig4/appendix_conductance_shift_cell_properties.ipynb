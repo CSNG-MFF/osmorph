{
 "cells": [
  {
   "cell_type": "code",
   "execution_count": 1,
   "id": "b932b42a-bfb3-4dcd-9ba4-ee796964f833",
   "metadata": {},
   "outputs": [],
   "source": [
    "import os\n",
    "os.chdir('/home/david/Projects/optogenetic_whole_cell_activation/morph_impact_on_opt_stim')\n",
    "import pandas as pd\n",
    "import matplotlib.pyplot as plt\n",
    "import seaborn as sns\n",
    "from neurostim.cell import Cell\n",
    "from neurostim.light_classes import LightSource, LightStimulation\n",
    "from neurostim.utils import convert_polar_to_cartesian_xz, interpolate\n",
    "from neuron import h\n",
    "import numpy as np\n",
    "import matplotlib as mpl\n",
    "mpl.rcParams['axes.spines.right'] = False\n",
    "mpl.rcParams['axes.spines.top'] = False\n",
    "from matplotlib import rc\n",
    "rc('font',**{'family':'sans-serif','sans-serif':['Arial'],'size':8})\n",
    "common_hue_order = ['apical','apical shaft','soma/basal/axon']\n",
    "palette = ['tab:purple','tab:orange','tab:blue']"
   ]
  },
  {
   "cell_type": "code",
   "execution_count": 2,
   "id": "d44a1998-e1e7-4397-8d89-08c711ddbcc9",
   "metadata": {},
   "outputs": [],
   "source": [
    "# format\n",
    "# dimensions (A4:  8.27 x 11.69 inches)\n",
    "text_frac = 0.8\n",
    "abs_pw = 8.27 # pagewidth\n",
    "abs_pl = 11.69 # pagelength\n",
    "pw = text_frac * abs_pw\n",
    "pl = text_frac * abs_pl\n",
    "# others\n",
    "dpi=600"
   ]
  },
  {
   "cell_type": "code",
   "execution_count": 3,
   "id": "dd45004e-7a5a-4745-a61a-03ce6174acc9",
   "metadata": {},
   "outputs": [
    {
     "name": "stdout",
     "output_type": "stream",
     "text": [
      "\t1 \n",
      "\t1 \n",
      "\t1 \n",
      "\t1 \n",
      "loaded simneurostim/model/hoc/L5.hoc\n",
      "rotate cell by 1.5707963267948966 around y\n"
     ]
    }
   ],
   "source": [
    "# cortical depth of neuron models\n",
    "cortical_depth = {'L23': 400, 'L5': 1170} #um\n",
    "# ChR2 expression distribution and level\n",
    "chanrhod_distribution = 'uniform' \n",
    "chanrhod_soma_density = 13e9\n",
    "# NEURON setup\n",
    "h.load_file(\"stdrun.hoc\")\n",
    "h.cvode_active(1)\n",
    "# load cell and create stimulation object\n",
    "cell = Cell(\n",
    "    hoc_file=\"simneurostim/model/hoc/L5.hoc\",\n",
    "    cortical_depth=cortical_depth,\n",
    "    ChR_soma_density=chanrhod_soma_density,\n",
    "    ChR_distribution=chanrhod_distribution\n",
    ")\n",
    "# function to label compartment type\n",
    "def compartment_converter(seg):\n",
    "    if 'ais' in str(seg):\n",
    "        return 'soma/basal/axon'\n",
    "    elif 'soma' in str(seg):\n",
    "        return 'soma/basal/axon'\n",
    "    elif 'dend11' in str(seg):\n",
    "        if eval('h.'+str(seg)+'.z_chanrhod') > -300:\n",
    "            return 'apical'\n",
    "        elif eval('h.'+str(seg)+'.z_chanrhod') > -850:\n",
    "            return 'apical shaft'\n",
    "        elif eval('h.'+str(seg)+'.z_chanrhod') > -1100 and eval('h.'+str(seg)+'.x_chanrhod')**2+eval('h.'+str(seg)+'.y_chanrhod')**2 < 170:\n",
    "            return 'apical shaft'\n",
    "        else:\n",
    "            return 'soma/basal/axon'\n",
    "    elif 'dend' in str(seg):\n",
    "        return 'soma/basal/axon'\n",
    "    elif 'myelin' in str(seg):\n",
    "        return 'soma/basal/axon'\n",
    "    elif 'nakeaxon' in str(seg):\n",
    "        return 'soma/basal/axon'\n",
    "    elif 'node' in str(seg):\n",
    "        return 'soma/basal/axon'\n",
    "    elif 'hill' in str(seg):\n",
    "        return 'soma/basal/axon'\n",
    "    else:\n",
    "        return 'None'"
   ]
  },
  {
   "cell_type": "code",
   "execution_count": 4,
   "id": "cb6c0b0c-6f95-4dba-bc54-a4b65308edb5",
   "metadata": {},
   "outputs": [
    {
     "data": {
      "image/png": "[encoded data removed]",
      "text/plain": [
       "<Figure size 158.784x84.168 with 1 Axes>"
      ]
     },
     "metadata": {
      "needs_background": "light"
     },
     "output_type": "display_data"
    }
   ],
   "source": [
    "# area boxplot\n",
    "segarea = []\n",
    "for sec in h.allsec():\n",
    "    for seg in sec:\n",
    "        segarea.append(\n",
    "            dict(\n",
    "                name = str(seg),\n",
    "                area = seg.area(),\n",
    "            )\n",
    "        )\n",
    "segarea = pd.DataFrame(segarea)\n",
    "segarea['seglabel'] = [compartment_converter(seg) for seg in segarea.name]\n",
    "fig, ax = plt.subplots(figsize=(pw/3,pl/8))\n",
    "ax = sns.boxplot(\n",
    "    data=segarea, \n",
    "    x='seglabel', \n",
    "    y='area', \n",
    "    hue='seglabel', \n",
    "    hue_order=common_hue_order,\n",
    "    palette=palette,\n",
    "    dodge=False, ax=ax,\n",
    "    fliersize=0.3, linewidth=1, width=0.9)\n",
    "ax.get_legend().remove()\n",
    "ax.set_ylabel('area [µm]')\n",
    "ax.set_xlabel('compartment type')\n",
    "ax.set_xticklabels(['other', 'ap. shaft','ap. dend.'])\n",
    "fig.savefig('paper/NEW_FIGURES/NEWFIG4_spatial_profs_reason/plots/appendix_area_vs_comptype.png', dpi=dpi, \n",
    "            facecolor=None, edgecolor=None,  \n",
    "            bbox_inches='tight')\n",
    "plt.show()"
   ]
  },
  {
   "cell_type": "code",
   "execution_count": 5,
   "id": "d4585411-f1d9-4e62-9033-fbb20813525f",
   "metadata": {
    "tags": []
   },
   "outputs": [],
   "source": [
    "# light intensity boxplot\n",
    "def light_source_displacement_and_light_calculation(\n",
    "    radius, angle):\n",
    "    \"\"\"\n",
    "    Calculates the light intensity at segments normalized to stimulator surface output intensity.\n",
    "    Returns segments, normed_light_intensity\n",
    "    \"\"\"\n",
    "    # light source model and params\n",
    "    light_model = 'foutz_et_al2012'\n",
    "    fiber_diameter = 200 #um\n",
    "    fiber_NA = 0.22\n",
    "    # stimulation power and duration\n",
    "    light_power = 1 #W\n",
    "    light_duration = 200 # ms\n",
    "    stim_intensity_at_stim_surface_mWPERmm2 = light_power/(0.5**2*(fiber_diameter*1e-3)**2*np.pi)*1e3# mW/mm2\n",
    "    #print(\"Stimulation intensity at simulator surface: \"+str(stim_intensity_at_stim_surface_mWPERmm2)+' mW/mm2')\n",
    "    stim_intensity_at_stim_surface_WPERcm2 = stim_intensity_at_stim_surface_mWPERmm2 * 1e-3 * 1e2 # mW->W // 1/mm2 -> 1/cm2\n",
    "    # other params\n",
    "    light_delay = 10 #ms\n",
    "    tot_rec_time = light_delay + light_duration + 30\n",
    "    AP_threshold = 0 # mV\n",
    "    interpol_dt = 0.1 # ms\n",
    "    # light source initialization\n",
    "    light_x, light_y = convert_polar_to_cartesian_xz(radius, angle)\n",
    "    light_z = 0  # cortical surface\n",
    "    light_pos = (light_x, light_y, light_z)\n",
    "    light_source = LightSource(\n",
    "        model=str(light_model),\n",
    "        position=(light_x, light_y, light_z),\n",
    "        width=float(fiber_diameter),\n",
    "        NA=float(fiber_NA)\n",
    "    )\n",
    "    # stimulation object initialization\n",
    "    light_stim = LightStimulation(\n",
    "        cell=cell,\n",
    "        light_source=light_source,\n",
    "        delay=float(light_delay),\n",
    "        duration=float(light_duration),\n",
    "        light_power=float(light_power),\n",
    "        record_all_segments=False,\n",
    "    )\n",
    "    segs_Txs = light_stim.get_segs_Txs()\n",
    "    return np.array(segs_Txs[0]), np.array(segs_Txs[1])/stim_intensity_at_stim_surface_WPERcm2"
   ]
  },
  {
   "cell_type": "code",
   "execution_count": 6,
   "id": "35a9ee96-0abb-4d66-9ec3-59a57070f09b",
   "metadata": {},
   "outputs": [],
   "source": [
    "seg_lightintensity = []\n",
    "for radius in np.arange(0,1000,25):\n",
    "    for angle in np.arange(0, 2*np.pi, np.pi/8):\n",
    "        segs, normed_intensity = light_source_displacement_and_light_calculation(radius=0, angle=0)\n",
    "        for seg in segs:\n",
    "            seg_lightintensity.append(dict(\n",
    "                name=seg, normed_intensity=normed_intensity[segs==seg][0], radius=radius, angle=angle\n",
    "            ))\n",
    "seg_lightintensity = pd.DataFrame(seg_lightintensity)"
   ]
  },
  {
   "cell_type": "code",
   "execution_count": 7,
   "id": "ef5540d0-8aed-461b-a7ea-23f90f411716",
   "metadata": {},
   "outputs": [],
   "source": [
    "seg_lightintensity_max_lightpositions = pd.DataFrame(seg_lightintensity.groupby('name').normed_intensity.max()).reset_index()\n",
    "seg_lightintensity_max_lightpositions['seglabel'] = [compartment_converter(seg) for seg in seg_lightintensity_max_lightpositions['name']]\n"
   ]
  },
  {
   "cell_type": "code",
   "execution_count": 8,
   "id": "183d479e-4c34-49fe-ae6b-40d9fcd9fc11",
   "metadata": {},
   "outputs": [
    {
     "data": {
      "image/png": "[encoded data removed]",
      "text/plain": [
       "<Figure size 158.784x84.168 with 1 Axes>"
      ]
     },
     "metadata": {
      "needs_background": "light"
     },
     "output_type": "display_data"
    }
   ],
   "source": [
    "fig, ax = plt.subplots(figsize=(pw/3,pl/8))\n",
    "ax = sns.boxplot(\n",
    "    data=seg_lightintensity_max_lightpositions, \n",
    "    x='seglabel', \n",
    "    y='normed_intensity', \n",
    "    hue='seglabel', \n",
    "    hue_order=common_hue_order,\n",
    "    palette=palette,\n",
    "    dodge=False,ax=ax,\n",
    "    fliersize=0.3, linewidth=1, width=0.9)\n",
    "ax.get_legend().remove()\n",
    "ax.set_ylabel('normal. intensity')\n",
    "ax.set_xlabel('compartment type')\n",
    "ax.set_xticklabels(['other', 'ap. shaft','ap. dend.'])\n",
    "fig.savefig('paper/NEW_FIGURES/NEWFIG4_spatial_profs_reason/plots/appendix_intensity_vs_comptype.png', dpi=dpi, \n",
    "            facecolor=None, edgecolor=None,  \n",
    "            bbox_inches='tight')\n",
    "plt.show()"
   ]
  },
  {
   "cell_type": "code",
   "execution_count": 9,
   "id": "705de11f-acec-40a9-bb42-4527a3e0b6e9",
   "metadata": {},
   "outputs": [],
   "source": [
    "# unit of Tx: intensity at position = Tx * light_power => [W/cm2] // Tx -> [1/cm2] "
   ]
  },
  {
   "cell_type": "code",
   "execution_count": 10,
   "id": "267db2a0-c821-4cd9-b061-5d6599b8d2f8",
   "metadata": {},
   "outputs": [],
   "source": [
    "data = pd.read_hdf('data/2023-09-22_conductances/all_data.hdf')\n",
    "# reduce fixed params\n",
    "neuron='L5'\n",
    "light_model='foutz_et_al2012'\n",
    "ChRdistrib = 'uniform'\n",
    "ChRexpression=13e9\n",
    "fiber_d=200\n",
    "fiber_NA=0.22\n",
    "stim_duration=200\n",
    "data = data.loc[neuron,light_model,ChRdistrib,ChRexpression,fiber_d,fiber_NA,stim_duration]\n",
    "data['seglabel'] = [compartment_converter(seg) for seg in data.reset_index().segname]"
   ]
  },
  {
   "cell_type": "code",
   "execution_count": 11,
   "id": "567e31c2-fcf1-4c13-8828-d2cbefa4e95c",
   "metadata": {},
   "outputs": [
    {
     "data": {
      "text/plain": [
       "0.00954929658551372"
      ]
     },
     "execution_count": 11,
     "metadata": {},
     "output_type": "execute_result"
    }
   ],
   "source": [
    "0.0003/(0.1**2*np.pi)"
   ]
  },
  {
   "cell_type": "code",
   "execution_count": 12,
   "id": "735dac32-8ee9-485a-a18e-3bb7b5e80137",
   "metadata": {},
   "outputs": [
    {
     "name": "stderr",
     "output_type": "stream",
     "text": [
      "/home/david/Software/miniconda3/envs/mioos/lib/python3.6/site-packages/ipykernel_launcher.py:1: FutureWarning: Indexing with multiple keys (implicitly converted to a tuple of keys) will be deprecated, use a list instead.\n",
      "  \"\"\"Entry point for launching an IPython kernel.\n"
     ]
    },
    {
     "data": {
      "image/png": "[encoded data removed]",
      "text/plain": [
       "<Figure size 158.784x84.168 with 2 Axes>"
      ]
     },
     "metadata": {
      "needs_background": "light"
     },
     "output_type": "display_data"
    }
   ],
   "source": [
    "data_max_positions = data.groupby(['light_power','segname'])['mean_conductance_pS','seglabel'].max()\n",
    "data_max_positions['stim_intensity [mW/mm2]'] = (data_max_positions.reset_index()['light_power'] / (0.1**2*np.pi) *1e3).values\n",
    "data_max_positions_mean_over_seglabel = pd.DataFrame(\n",
    "    data_max_positions.groupby(['stim_intensity [mW/mm2]','seglabel']).mean_conductance_pS.mean())\n",
    "fig, ax = plt.subplots(figsize=(pw/3,pl/8))\n",
    "ax = sns.lineplot(\n",
    "    data=data_max_positions_mean_over_seglabel, \n",
    "    x='stim_intensity [mW/mm2]', \n",
    "    y=\"mean_conductance_pS\", \n",
    "    hue=\"seglabel\",\n",
    "    hue_order=common_hue_order,\n",
    "    palette=palette,\n",
    "    markers=True,\n",
    "    ax=ax\n",
    ")\n",
    "ax.get_legend().remove()\n",
    "ax.set_ylim(0,590)\n",
    "ax.set_xlim(0,None)\n",
    "ax.set_xlabel('intensity at stimulator output [mW/mm²]')\n",
    "ax.set_ylabel('mean ChR cond. [pS]')\n",
    "inset = fig.add_axes([0.26,0.68,0.19,0.19])\n",
    "\n",
    "sns.lineplot(\n",
    "    data=data_max_positions_mean_over_seglabel, \n",
    "    x='stim_intensity [mW/mm2]', \n",
    "    y=\"mean_conductance_pS\", \n",
    "    hue=\"seglabel\",\n",
    "    hue_order=common_hue_order,\n",
    "    palette=palette,\n",
    "    markers=True,\n",
    "    ax=inset\n",
    ")\n",
    "inset.get_legend().remove()\n",
    "inset.set_ylim(0,100)\n",
    "inset.set_xlim(0,10)\n",
    "inset.set_xlabel('')\n",
    "inset.set_ylabel('')\n",
    "\n",
    "fig.savefig('paper/NEW_FIGURES/NEWFIG4_spatial_profs_reason/plots/appendix_condVSstim_power.png', dpi=dpi, \n",
    "            facecolor=None, edgecolor=None,  \n",
    "            bbox_inches='tight')\n",
    "plt.show()"
   ]
  }
 ],
 "metadata": {
  "kernelspec": {
   "display_name": "Python 3",
   "language": "python",
   "name": "python3"
  },
  "language_info": {
   "codemirror_mode": {
    "name": "ipython",
    "version": 3
   },
   "file_extension": ".py",
   "mimetype": "text/x-python",
   "name": "python",
   "nbconvert_exporter": "python",
   "pygments_lexer": "ipython3",
   "version": "3.6.13"
  }
 },
 "nbformat": 4,
 "nbformat_minor": 5
}
