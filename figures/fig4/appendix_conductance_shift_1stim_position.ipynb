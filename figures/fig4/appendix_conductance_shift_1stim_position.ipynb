{
 "cells": [
  {
   "cell_type": "code",
   "execution_count": 1,
   "id": "b932b42a-bfb3-4dcd-9ba4-ee796964f833",
   "metadata": {},
   "outputs": [],
   "source": [
    "import os\n",
    "os.chdir('/home/david/Projects/optogenetic_whole_cell_activation/morph_impact_on_opt_stim')\n",
    "import pandas as pd\n",
    "import matplotlib.pyplot as plt\n",
    "import seaborn as sns\n",
    "from neurostim.cell import Cell\n",
    "from neurostim.stimulator import Stimulator\n",
    "from neurostim.utils import convert_polar_to_cartesian_xz, interpolate\n",
    "from neuron import h\n",
    "import numpy as np\n",
    "import matplotlib as mpl\n",
    "mpl.rcParams['axes.spines.right'] = False\n",
    "mpl.rcParams['axes.spines.top'] = False\n",
    "from matplotlib import rc\n",
    "rc('font',**{'family':'sans-serif','sans-serif':['Arial'],'size':8})\n",
    "common_hue_order = ['apical tuft','apical shaft']\n",
    "palette = ['tab:purple','tab:orange']"
   ]
  },
  {
   "cell_type": "code",
   "execution_count": 2,
   "id": "d44a1998-e1e7-4397-8d89-08c711ddbcc9",
   "metadata": {},
   "outputs": [],
   "source": [
    "# format\n",
    "# dimensions (A4:  8.27 x 11.69 inches)\n",
    "text_frac = 0.8\n",
    "abs_pw = 8.27 # pagewidth\n",
    "abs_pl = 11.69 # pagelength\n",
    "pw = text_frac * abs_pw\n",
    "pl = text_frac * abs_pl\n",
    "# others\n",
    "dpi=600"
   ]
  },
  {
   "cell_type": "code",
   "execution_count": 3,
   "id": "dd45004e-7a5a-4745-a61a-03ce6174acc9",
   "metadata": {},
   "outputs": [
    {
     "name": "stdout",
     "output_type": "stream",
     "text": [
      "\t1 \n",
      "\t1 \n",
      "\t1 \n",
      "\t1 \n"
     ]
    }
   ],
   "source": [
    "# cortical depth of neuron models\n",
    "cortical_depth = {'L23': 400, 'L5': 1170} #um\n",
    "# ChR2 expression distribution and level\n",
    "chanrhod_distribution = 'uniform' \n",
    "chanrhod_soma_density = 13e9\n",
    "# NEURON setup\n",
    "h.load_file(\"stdrun.hoc\")\n",
    "h.cvode_active(1)\n",
    "# load cell and create stimulation object\n",
    "cell = Cell(\n",
    "    hoc_file=\"simneurostim/model/hoc/L5.hoc\",\n",
    "    cortical_depth=cortical_depth,\n",
    "    ChR_soma_density=chanrhod_soma_density,\n",
    "    ChR_distribution=chanrhod_distribution\n",
    ")\n",
    "# function to label compartment type\n",
    "def compartment_converter(seg):\n",
    "    if 'ais' in str(seg):\n",
    "        return 'soma/basal/axon'\n",
    "    elif 'soma' in str(seg):\n",
    "        return 'soma/basal/axon'\n",
    "    elif 'dend11' in str(seg):\n",
    "        if eval('h.'+str(seg)+'.z_chanrhod') > -300:\n",
    "            return 'apical tuft'\n",
    "        elif eval('h.'+str(seg)+'.z_chanrhod') > -850:\n",
    "            return 'apical shaft'\n",
    "        elif eval('h.'+str(seg)+'.z_chanrhod') > -1100 and eval('h.'+str(seg)+'.x_chanrhod')**2+eval('h.'+str(seg)+'.y_chanrhod')**2 < 170:\n",
    "            return 'apical shaft'\n",
    "        else:\n",
    "            return 'soma/basal/axon'\n",
    "    elif 'dend' in str(seg):\n",
    "        return 'soma/basal/axon'\n",
    "    elif 'myelin' in str(seg):\n",
    "        return 'soma/basal/axon'\n",
    "    elif 'nakeaxon' in str(seg):\n",
    "        return 'soma/basal/axon'\n",
    "    elif 'node' in str(seg):\n",
    "        return 'soma/basal/axon'\n",
    "    elif 'hill' in str(seg):\n",
    "        return 'soma/basal/axon'\n",
    "    else:\n",
    "        return 'None'"
   ]
  },
  {
   "cell_type": "code",
   "execution_count": 4,
   "id": "cb6c0b0c-6f95-4dba-bc54-a4b65308edb5",
   "metadata": {},
   "outputs": [
    {
     "data": {
      "image/png": "[encoded data removed]",
      "text/plain": [
       "<Figure size 158.784x84.168 with 1 Axes>"
      ]
     },
     "metadata": {
      "needs_background": "light"
     },
     "output_type": "display_data"
    }
   ],
   "source": [
    "# area boxplot\n",
    "segarea = []\n",
    "for sec in h.allsec():\n",
    "    for seg in sec:\n",
    "        segarea.append(\n",
    "            dict(\n",
    "                name = str(seg),\n",
    "                area = seg.area(),\n",
    "            )\n",
    "        )\n",
    "segarea = pd.DataFrame(segarea)\n",
    "segarea['seglabel'] = [compartment_converter(seg) for seg in segarea.name]\n",
    "# filter out soma/basal/axon\n",
    "segarea = segarea.loc[segarea.seglabel!='soma/basal/axon']\n",
    "fig, ax = plt.subplots(figsize=(pw/3,pl/8))\n",
    "ax = sns.boxplot(\n",
    "    data=segarea, \n",
    "    x='seglabel', \n",
    "    y='area', \n",
    "    hue='seglabel', \n",
    "    hue_order=common_hue_order,\n",
    "    palette=palette,\n",
    "    dodge=False, ax=ax,\n",
    "    fliersize=0.3, linewidth=1, width=0.9)\n",
    "ax.get_legend().remove()\n",
    "ax.set_ylabel('area [µm]')\n",
    "ax.set_xlabel('compartment type')\n",
    "#ax.set_xticklabels(['ap. shaft','ap. dend.'])\n",
    "fig.savefig('paper/NEW_FIGURES/NEWFIG4_spatial_profs_reason/plots/appendix_area_vs_comptype.png', dpi=dpi, \n",
    "            facecolor=None, edgecolor=None,  \n",
    "            bbox_inches='tight')\n",
    "plt.show()"
   ]
  },
  {
   "cell_type": "code",
   "execution_count": 5,
   "id": "d4585411-f1d9-4e62-9033-fbb20813525f",
   "metadata": {
    "tags": []
   },
   "outputs": [],
   "source": [
    "# light intensity boxplot\n",
    "def light_source_displacement_and_light_calculation(\n",
    "    radius, angle):\n",
    "    \"\"\"\n",
    "    Calculates the light intensity at segments normalized to stimulator surface output intensity.\n",
    "    Returns segments, normed_light_intensity\n",
    "    \"\"\"\n",
    "    # light source model and params\n",
    "    light_model = 'fiber_Foutz2012'\n",
    "    fiber_diameter = 200 #um\n",
    "    fiber_NA = 0.22\n",
    "    # stimulation power and duration\n",
    "    light_power = 1 #W\n",
    "    light_duration = 200 # ms\n",
    "    stim_intensity_at_stim_surface_mWPERmm2 = light_power/(0.5**2*(fiber_diameter*1e-3)**2*np.pi)*1e3# mW/mm2\n",
    "    #print(\"Stimulation intensity at simulator surface: \"+str(stim_intensity_at_stim_surface_mWPERmm2)+' mW/mm2')\n",
    "    stim_intensity_at_stim_surface_WPERcm2 = stim_intensity_at_stim_surface_mWPERmm2 * 1e-3 * 1e2 # mW->W // 1/mm2 -> 1/cm2\n",
    "    \n",
    "    # light source initialization\n",
    "    stimulator = Stimulator(fiber_diameter, fiber_NA)\n",
    "    light_x, light_y = convert_polar_to_cartesian_xz(radius, angle)\n",
    "    light_z = 0  # cortical surface\n",
    "    light_pos = (light_x, light_y, light_z)\n",
    "    segs_Txs = [[],[]]\n",
    "    for sec in h.allsec():\n",
    "        for seg in sec:\n",
    "            if sec.name() == 'Light_source: fiber_Foutz2012':\n",
    "                pass\n",
    "            else:\n",
    "                segs_Txs[0].append(seg)\n",
    "                segs_Txs[1].append(\n",
    "                    # calculate Tx at position\n",
    "                    stimulator.calculate_Tx_at_pos(\n",
    "                        pos_xyz_um = [seg.x_chanrhod, seg.y_chanrhod, seg.z_chanrhod],\n",
    "                        stim_xyz_um = light_pos,\n",
    "                    )\n",
    "                )\n",
    "    #return np.array(segs_Txs[0]), np.array(segs_Txs[1])/stim_intensity_at_stim_surface_WPERcm2\n",
    "    return segs_Txs[0], np.array(segs_Txs[1])/stim_intensity_at_stim_surface_WPERcm2"
   ]
  },
  {
   "cell_type": "code",
   "execution_count": 6,
   "id": "4023d31d-b593-452f-a734-714d3aa18da1",
   "metadata": {},
   "outputs": [],
   "source": [
    "seg_lightintensity = []\n",
    "segs, normed_intensity = light_source_displacement_and_light_calculation(radius=0, angle=0)\n",
    "for seg, normed_intensity in zip(segs, normed_intensity):\n",
    "    seg_lightintensity.append(dict(\n",
    "        name=seg, normed_intensity=normed_intensity, radius=0, angle=0\n",
    "    ))\n",
    "seg_lightintensity = pd.DataFrame(seg_lightintensity)\n",
    "seg_lightintensity['seglabel'] = [compartment_converter(seg) for seg in seg_lightintensity['name']]\n",
    "# filter out soma basal axon\n",
    "seg_lightintensity = seg_lightintensity.loc[seg_lightintensity.seglabel!='soma/basal/axon']"
   ]
  },
  {
   "cell_type": "code",
   "execution_count": 9,
   "id": "183d479e-4c34-49fe-ae6b-40d9fcd9fc11",
   "metadata": {},
   "outputs": [
    {
     "data": {
      "image/png": "[encoded data removed]",
      "text/plain": [
       "<Figure size 158.784x84.168 with 1 Axes>"
      ]
     },
     "metadata": {
      "needs_background": "light"
     },
     "output_type": "display_data"
    }
   ],
   "source": [
    "fig, ax = plt.subplots(figsize=(pw/3,pl/8))\n",
    "ax = sns.boxplot(\n",
    "    data=seg_lightintensity, \n",
    "    x='seglabel', \n",
    "    y='normed_intensity', \n",
    "    hue='seglabel', \n",
    "    hue_order=common_hue_order,\n",
    "    palette=palette,\n",
    "    dodge=False,ax=ax,\n",
    "    fliersize=0.3, linewidth=1, width=0.9)\n",
    "ax.get_legend().remove()\n",
    "ax.set_ylabel('normal. intensity')\n",
    "ax.set_xlabel('compartment type')\n",
    "#ax.set_xticklabels(['other', 'ap. shaft','ap. dend.'])\n",
    "fig.savefig('paper/NEW_FIGURES/NEWFIG4_spatial_profs_reason/plots/appendix_intensity_vs_comptype_central_stimposition.png', dpi=dpi, \n",
    "            facecolor=None, edgecolor=None,  \n",
    "            bbox_inches='tight')\n",
    "plt.show()"
   ]
  },
  {
   "cell_type": "code",
   "execution_count": 10,
   "id": "705de11f-acec-40a9-bb42-4527a3e0b6e9",
   "metadata": {},
   "outputs": [],
   "source": [
    "# unit of Tx: intensity at position = Tx * light_power => [W/cm2] // Tx -> [1/cm2] "
   ]
  },
  {
   "cell_type": "code",
   "execution_count": 11,
   "id": "267db2a0-c821-4cd9-b061-5d6599b8d2f8",
   "metadata": {},
   "outputs": [],
   "source": [
    "data = pd.read_hdf('data/2023-09-22_conductances/all_data.hdf')\n",
    "# reduce fixed params\n",
    "neuron='L5'\n",
    "light_model='foutz_et_al2012'\n",
    "ChRdistrib = 'uniform'\n",
    "ChRexpression=13e9\n",
    "fiber_d=200\n",
    "fiber_NA=0.22\n",
    "stim_duration=200\n",
    "radius=0\n",
    "angle=0\n",
    "data = data.loc[neuron,light_model,ChRdistrib,ChRexpression,fiber_d,fiber_NA,stim_duration,:,radius,angle]\n",
    "data['seglabel'] = [compartment_converter(seg) for seg in data.reset_index().segname]"
   ]
  },
  {
   "cell_type": "code",
   "execution_count": 12,
   "id": "f195826d-2b6b-4733-a154-58500732c82c",
   "metadata": {},
   "outputs": [],
   "source": [
    "# filter out soma/basal/axon\n",
    "data = data.loc[data.seglabel!='soma/basal/axon']"
   ]
  },
  {
   "cell_type": "code",
   "execution_count": 13,
   "id": "567e31c2-fcf1-4c13-8828-d2cbefa4e95c",
   "metadata": {},
   "outputs": [
    {
     "data": {
      "text/plain": [
       "0.00954929658551372"
      ]
     },
     "execution_count": 13,
     "metadata": {},
     "output_type": "execute_result"
    }
   ],
   "source": [
    "0.0003/(0.1**2*np.pi)"
   ]
  },
  {
   "cell_type": "code",
   "execution_count": 14,
   "id": "735dac32-8ee9-485a-a18e-3bb7b5e80137",
   "metadata": {},
   "outputs": [
    {
     "name": "stderr",
     "output_type": "stream",
     "text": [
      "/home/david/Software/miniconda3/envs/mioos/lib/python3.6/site-packages/ipykernel_launcher.py:19: UserWarning: FixedFormatter should only be used together with FixedLocator\n"
     ]
    },
    {
     "data": {
      "image/png": "[encoded data removed]",
      "text/plain": [
       "<Figure size 158.784x84.168 with 1 Axes>"
      ]
     },
     "metadata": {
      "needs_background": "light"
     },
     "output_type": "display_data"
    }
   ],
   "source": [
    "data['stim_intensity [mW/mm2]'] = (data.reset_index()['light_power'] / (0.1**2*np.pi) *1e3).values\n",
    "data_total_per_seglabel = pd.DataFrame(\n",
    "    data.groupby(['stim_intensity [mW/mm2]','seglabel']).mean_conductance_pS.sum())\n",
    "fig, ax = plt.subplots(figsize=(pw/3,pl/8))\n",
    "ax = sns.lineplot(\n",
    "    data=data_total_per_seglabel.reset_index(), \n",
    "    x='stim_intensity [mW/mm2]', \n",
    "    y=\"mean_conductance_pS\", \n",
    "    hue=\"seglabel\",\n",
    "    hue_order=common_hue_order,\n",
    "    palette=palette,\n",
    "    markers=True,\n",
    "    ax=ax,\n",
    "    legend='brief'\n",
    ")\n",
    "plt.legend(loc='upper left', bbox_to_anchor=(0.0, 1.1))\n",
    "#ax.get_legend().remove()\n",
    "ax.set_ylim(0,23000)\n",
    "ax.set_yticklabels(['0','10','20'])\n",
    "ax.set_xlim(0,None)\n",
    "ax.set_xlabel('intensity at stimulator output [mW/mm²]')\n",
    "ax.set_ylabel('total ChR cond. [nS]')\n",
    "# inset = fig.add_axes([0.26,0.68,0.19,0.19])\n",
    "\n",
    "# sns.lineplot(\n",
    "#     data=data_max_positions_mean_over_seglabel, \n",
    "#     x='stim_intensity [mW/mm2]', \n",
    "#     y=\"mean_conductance_pS\", \n",
    "#     hue=\"seglabel\",\n",
    "#     hue_order=common_hue_order,\n",
    "#     palette=palette,\n",
    "#     markers=True,\n",
    "#     ax=inset\n",
    "# )\n",
    "# inset.get_legend().remove()\n",
    "# inset.set_ylim(0,100)\n",
    "# inset.set_xlim(0,10)\n",
    "# inset.set_xlabel('')\n",
    "# inset.set_ylabel('')\n",
    "\n",
    "fig.savefig('paper/NEW_FIGURES/NEWFIG4_spatial_profs_reason/plots/appendix_condVSstim_power_central_stimposition.png', dpi=dpi, \n",
    "            facecolor=None, edgecolor=None,  \n",
    "           bbox_inches='tight')\n",
    "plt.show()"
   ]
  },
  {
   "cell_type": "code",
   "execution_count": null,
   "id": "8e187b3f-22dc-460e-a936-441685e6da50",
   "metadata": {},
   "outputs": [],
   "source": []
  }
 ],
 "metadata": {
  "kernelspec": {
   "display_name": "Python 3",
   "language": "python",
   "name": "python3"
  },
  "language_info": {
   "codemirror_mode": {
    "name": "ipython",
    "version": 3
   },
   "file_extension": ".py",
   "mimetype": "text/x-python",
   "name": "python",
   "nbconvert_exporter": "python",
   "pygments_lexer": "ipython3",
   "version": "3.6.13"
  }
 },
 "nbformat": 4,
 "nbformat_minor": 5
}
