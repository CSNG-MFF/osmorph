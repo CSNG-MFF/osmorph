{
 "cells": [
  {
   "cell_type": "code",
   "execution_count": 1,
   "id": "d187ddf2",
   "metadata": {},
   "outputs": [],
   "source": [
    "# cd to base directory of this repository to enable the loading of NEURON simulations\n",
    "import os\n",
    "os.chdir('/home/david/Projects/optogenetic_whole_cell_activation/morph_impact_on_opt_stim')\n",
    "from neuron import h\n",
    "from neurostim.cell import Cell\n",
    "import pickle\n",
    "import matplotlib\n",
    "\n",
    "\n",
    "scaling_neurons = 2"
   ]
  },
  {
   "cell_type": "code",
   "execution_count": 2,
   "id": "8e86ce75-4787-4e79-91de-97e59259fa0e",
   "metadata": {},
   "outputs": [],
   "source": [
    "# function to label compartment type\n",
    "import numpy as np\n",
    "def compartment_converter(seg):\n",
    "    common_hue_order = ['apical','apical shaft','soma/basal/axon']\n",
    "    sorter = dict()\n",
    "    for idx, key in enumerate(common_hue_order):\n",
    "        sorter[key] = idx\n",
    "    if 'ais' in str(seg):\n",
    "        return sorter['soma/basal/axon']\n",
    "    elif 'soma' in str(seg):\n",
    "        return sorter['soma/basal/axon']\n",
    "    elif 'dend11' in str(seg):\n",
    "        if eval('h.'+str(seg)+'.z_chanrhod') > -300:\n",
    "            return sorter['apical']\n",
    "        elif eval('h.'+str(seg)+'.z_chanrhod') > -850:\n",
    "            return sorter['apical shaft']\n",
    "        elif eval('h.'+str(seg)+'.z_chanrhod') > -1100 and eval('h.'+str(seg)+'.x_chanrhod')**2+eval('h.'+str(seg)+'.y_chanrhod')**2 < 170:\n",
    "            return sorter['apical shaft']\n",
    "        else:\n",
    "            return sorter['soma/basal/axon']\n",
    "    elif 'dend' in str(seg):\n",
    "        return sorter['soma/basal/axon']\n",
    "    elif 'myelin' in str(seg):\n",
    "        return sorter['soma/basal/axon']\n",
    "    elif 'nakeaxon' in str(seg):\n",
    "        return sorter['soma/basal/axon']\n",
    "    elif 'node' in str(seg):\n",
    "        return sorter['soma/basal/axon']\n",
    "    elif 'hill' in str(seg):\n",
    "        return sorter['soma/basal/axon']\n",
    "    else:\n",
    "        return 'None'"
   ]
  },
  {
   "cell_type": "markdown",
   "id": "786a3d12",
   "metadata": {},
   "source": [
    "## L5 cell"
   ]
  },
  {
   "cell_type": "code",
   "execution_count": 3,
   "id": "4a3875f9",
   "metadata": {},
   "outputs": [
    {
     "name": "stdout",
     "output_type": "stream",
     "text": [
      "\t1 \n",
      "\t1 \n",
      "\t1 \n",
      "\t1 \n",
      "----------------------------------------------------------------------------------------------------\n",
      "DATA RANGE:  0.0 2.0\n"
     ]
    }
   ],
   "source": [
    "cmap = matplotlib.colors.ListedColormap(['tab:purple','tab:orange','tab:blue'])\n",
    "filename = 'paper/NEW_FIGURES/NEWFIG4_spatial_profs_reason/L5_neuron_collection.pickle'\n",
    "L5 = Cell('simneurostim/model/hoc/L5.hoc', cortical_depth=dict(L5=1170))\n",
    "collection = L5.plot_foutz2012(\n",
    "    func=lambda seg:compartment_converter(str(seg)), axes='xz',scaling = scaling_neurons, segfunc=True, clim=None,cmap=cmap, shift_x=2000)\n",
    "# save collection\n",
    "with open(filename, 'wb') as file:\n",
    "      pickle.dump(collection, file)"
   ]
  },
  {
   "cell_type": "code",
   "execution_count": 4,
   "id": "cc888748-3501-46bf-8ce1-acea5bcc3cb3",
   "metadata": {},
   "outputs": [
    {
     "ename": "SyntaxError",
     "evalue": "'break' outside loop (<ipython-input-4-6aaf1f276005>, line 4)",
     "output_type": "error",
     "traceback": [
      "\u001b[0;36m  File \u001b[0;32m\"<ipython-input-4-6aaf1f276005>\"\u001b[0;36m, line \u001b[0;32m4\u001b[0m\n\u001b[0;31mSyntaxError\u001b[0m\u001b[0;31m:\u001b[0m 'break' outside loop\n"
     ]
    }
   ],
   "source": [
    "break"
   ]
  },
  {
   "cell_type": "code",
   "execution_count": 3,
   "id": "78f803d0-c99b-4405-9705-3d1300eb212c",
   "metadata": {},
   "outputs": [
    {
     "name": "stdout",
     "output_type": "stream",
     "text": [
      "\t1 \n",
      "\t1 \n",
      "\t1 \n",
      "\t1 \n",
      "----------------------------------------------------------------------------------------------------\n",
      "DATA RANGE:  0.0 2.0\n"
     ]
    }
   ],
   "source": [
    "# use cmap with transparent for orange\n",
    "cmap = matplotlib.colors.ListedColormap(['tab:purple','tab:orange','tab:blue'])\n",
    "filename = 'paper/NEW_FIGURES/NEWFIG4_spatial_profs_reason/L5_neuron_collection_top.pickle'\n",
    "L5 = Cell('simneurostim/model/hoc/L5.hoc', cortical_depth=dict(L5=1170))\n",
    "collection = L5.plot_foutz2012(\n",
    "    func=lambda seg:compartment_converter(str(seg)), axes='xy',scaling = scaling_neurons, segfunc=True, clim=None,cmap=cmap, shift_x=500,shift_y=500)\n",
    "# save collection\n",
    "with open(filename, 'wb') as file:\n",
    "      pickle.dump(collection, file)"
   ]
  },
  {
   "cell_type": "code",
   "execution_count": null,
   "id": "8a9d20d2-14af-4179-89cf-fc77e67dcf51",
   "metadata": {},
   "outputs": [],
   "source": []
  }
 ],
 "metadata": {
  "kernelspec": {
   "display_name": "Python 3",
   "language": "python",
   "name": "python3"
  },
  "language_info": {
   "codemirror_mode": {
    "name": "ipython",
    "version": 3
   },
   "file_extension": ".py",
   "mimetype": "text/x-python",
   "name": "python",
   "nbconvert_exporter": "python",
   "pygments_lexer": "ipython3",
   "version": "3.6.13"
  }
 },
 "nbformat": 4,
 "nbformat_minor": 5
}
