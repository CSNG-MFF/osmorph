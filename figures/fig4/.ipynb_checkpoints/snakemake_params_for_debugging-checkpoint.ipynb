{
 "cells": [
  {
   "cell_type": "code",
   "execution_count": 1,
   "id": "25d4987c-2c84-4a5d-8676-a9f6260c492d",
   "metadata": {},
   "outputs": [],
   "source": [
    "class dotdict(dict):\n",
    "    \"\"\"dot.notation access to dictionary attributes\"\"\"\n",
    "    __getattr__ = dict.get\n",
    "    __setattr__ = dict.__setitem__\n",
    "    __delattr__ = dict.__delitem__\n",
    "\n",
    "params = dict(\n",
    "    radius_min_max_step = [0,100,25],\n",
    "    angle_min_max_step = [0, 2*np.pi,4],\n",
    "    light_delay=1,\n",
    "    tot_rec_time = 250,\n",
    "    interpol_dt = 0.1,\n",
    "    AP_threshold = 0,\n",
    "    cortical_depth = dict(L5=1170)\n",
    ")\n",
    "wildcards = dict(\n",
    "    light_model='foutz_et_al2012',\n",
    "    fiber_diameter=200,\n",
    "    fiber_NA = 0.22,\n",
    "    stim_duration=200,\n",
    "    light_power=1e-5,\n",
    "    hoc_file='L5',\n",
    "    chanrhod_distribution='uniform',\n",
    "    chanrhod_expression=13e9,\n",
    ")\n",
    "\n",
    "params = dotdict(params)\n",
    "wildcards = dotdict(wildcards)\n",
    "snakemake = dotdict(dict(params=params, wildcards=wildcards))    "
   ]
  }
 ],
 "metadata": {
  "kernelspec": {
   "display_name": "Python 3",
   "language": "python",
   "name": "python3"
  },
  "language_info": {
   "codemirror_mode": {
    "name": "ipython",
    "version": 3
   },
   "file_extension": ".py",
   "mimetype": "text/x-python",
   "name": "python",
   "nbconvert_exporter": "python",
   "pygments_lexer": "ipython3",
   "version": "3.6.13"
  }
 },
 "nbformat": 4,
 "nbformat_minor": 5
}
