{
 "cells": [
  {
   "cell_type": "code",
   "execution_count": 1,
   "id": "b7d1c77f",
   "metadata": {},
   "outputs": [],
   "source": [
    "import os\n",
    "os.chdir('/home/david/Projects/optogenetic_whole_cell_activation/morph_impact_on_opt_stim')\n",
    "import numpy as np\n",
    "import pandas as pd\n",
    "from neuron import h\n",
    "from neurostim.cell import Cell\n",
    "from neurostim.light_classes import LightSource, LightStimulation\n",
    "from neurostim.utils import convert_polar_to_cartesian_xz, interpolate\n",
    "from neurostim.polarmaps import get_AP_times\n",
    "import matplotlib.pyplot as plt\n",
    "from matplotlib.colors import LogNorm\n",
    "import seaborn as sns\n",
    "from matplotlib import rc\n",
    "rc('font',**{'family':'sans-serif','sans-serif':['Arial']})"
   ]
  },
  {
   "cell_type": "code",
   "execution_count": 2,
   "id": "ddd1fde8-add8-4165-b164-65664d2675dd",
   "metadata": {},
   "outputs": [],
   "source": [
    "# format\n",
    "# dimensions (A4:  8.27 x 11.69 inches)\n",
    "text_frac = 0.8\n",
    "abs_pw = 8.27 # pagewidth\n",
    "abs_pl = 11.69 # pagelength\n",
    "pw = text_frac * abs_pw\n",
    "pl = text_frac * abs_pl\n",
    "# others\n",
    "dpi=600"
   ]
  },
  {
   "cell_type": "code",
   "execution_count": 3,
   "id": "e6a01313-edb2-408c-8d7d-ef4ac78bc69a",
   "metadata": {},
   "outputs": [],
   "source": [
    "# simulate conductances in L5 cell for selected light powers\n",
    "hoc_file = 'L5'\n",
    "plot_path = 'paper/NEW_FIGURES/NEWFIG4_spatial_profs_reason/plots/'+hoc_file+'_'\n",
    "\n",
    "#light_powers = [5e-5, 1e-4, 5e-4, 1e-3, 5e-3]\n",
    "light_powers = np.exp(np.linspace(np.log(1e-4), np.log(1e-2),10))\n",
    "light_powers = np.linspace(1e-5, 1e-2,200)"
   ]
  },
  {
   "cell_type": "code",
   "execution_count": 4,
   "id": "81cb1a86",
   "metadata": {},
   "outputs": [
    {
     "name": "stdout",
     "output_type": "stream",
     "text": [
      "\t1 \n",
      "\t1 \n",
      "\t1 \n",
      "\t1 \n",
      "loaded simneurostim/model/hoc/L5.hoc\n",
      "rotate cell by 1.5707963267948966 around y\n"
     ]
    }
   ],
   "source": [
    "# model config 1 ---- *** DO NOT RERUN ***\n",
    "# NEURON simulator setup is corrupted if reinitialized in a running kernel, rerun complete notebook\n",
    "\n",
    "# cortical depth of neuron models\n",
    "cortical_depth = {'L23': 400, 'L5': 1170} #um\n",
    "\n",
    "# ChR2 expression distribution and level\n",
    "chanrhod_distribution = 'uniform' \n",
    "chanrhod_soma_density = 13e9 # 1/cm2   --> 130/um2   \n",
    "\n",
    "# NEURON setup\n",
    "h.load_file(\"stdrun.hoc\")\n",
    "h.cvode_active(1)\n",
    "# load cell and create stimulation object\n",
    "cell = Cell(\n",
    "    hoc_file=\"simneurostim/model/hoc/\" + str(hoc_file) + \".hoc\",\n",
    "    cortical_depth=cortical_depth,\n",
    "    ChR_soma_density=chanrhod_soma_density,\n",
    "    ChR_distribution=str(chanrhod_distribution),\n",
    "    delete_all_secs_except_soma=True\n",
    ")"
   ]
  },
  {
   "cell_type": "code",
   "execution_count": 11,
   "id": "66ed0695",
   "metadata": {},
   "outputs": [],
   "source": [
    "# model config 2 (can be adapted and rerun without restarting notebook kernel)\n",
    "\n",
    "# light source model and params\n",
    "light_model = 'foutz_et_al2012'\n",
    "fiber_diameter = 200 #um\n",
    "fiber_NA = 0.22\n",
    "# stimulation duration\n",
    "light_duration = 200 # ms\n",
    "# other params\n",
    "light_delay = 1 #ms\n",
    "tot_rec_time = light_delay + light_duration + 10\n",
    "AP_threshold = 0 # mV\n",
    "interpol_dt = 0.1 # ms\n",
    "\n",
    "def setup_stimulation(radius, angle, light_power, \n",
    "                      light_delay=light_delay, light_duration=light_duration, light_model=light_model, \n",
    "                      fiber_diameter=fiber_diameter, fiber_NA=fiber_NA, cell=cell): \n",
    "    # light source initialization\n",
    "    light_x, light_y = convert_polar_to_cartesian_xz(radius, angle)\n",
    "    light_z = 0  # cortical surface\n",
    "    light_pos = (light_x, light_y, light_z)\n",
    "    light_source = LightSource(\n",
    "        model=str(light_model),\n",
    "        position=(light_x, light_y, light_z),\n",
    "        width=float(fiber_diameter),\n",
    "        NA=float(fiber_NA)\n",
    "    )\n",
    "    # stimulation object initialization\n",
    "    light_stim = LightStimulation(\n",
    "        cell=cell,\n",
    "        light_source=light_source,\n",
    "        delay=float(light_delay),\n",
    "        duration=float(light_duration),\n",
    "        light_power=float(light_power),\n",
    "        record_all_segments=False,\n",
    "    )\n",
    "    return light_source, light_stim\n",
    "\n",
    "def stimulate_and_measure(radius, angle, light_power, rec_vars):\n",
    "    # initialize light source and stim with standard params\n",
    "    light_source, light_stim = setup_stimulation(radius, angle, light_power)\n",
    "    # simulate\n",
    "    measurement = pd.DataFrame(\n",
    "        light_stim.simulate_and_measure(\n",
    "            tot_rec_time=float(tot_rec_time),\n",
    "            extra_rec_var_names=rec_vars[0],\n",
    "            extra_rec_var_pointers=[eval(item) for item in rec_vars[1]],\n",
    "        )\n",
    "    )\n",
    "    # dealing with drop full row duplicates\n",
    "    # drop completely redundant duplicates\n",
    "    measurement = measurement.drop_duplicates()\n",
    "    # add 1e-12 ms to 2nd entry time point of duplicate entries with the same time but different (e.g. Vm) values\n",
    "    measurement.loc[measurement[\"time [ms]\"].diff() == 0, \"time [ms]\"] += 1e-12\n",
    "    # extract spike times\n",
    "    AP_times = get_AP_times(\n",
    "        df=measurement,\n",
    "        interpol_dt=float(interpol_dt),\n",
    "        t_on=float(light_delay),\n",
    "        AP_threshold=AP_threshold\n",
    "    )\n",
    "    # interpolate simulation results\n",
    "    measurement = interpolate(\n",
    "        df=measurement, interpolation_dt=float(interpol_dt)\n",
    "    )\n",
    "    return measurement, len(AP_times)\n",
    "\n",
    "res = []\n",
    "for lp in light_powers:\n",
    "    #print(\"simulated 1 lp step\")\n",
    "    # note that \"source_irradiance_chanrhod\" is not an irradiance but the light_power of the stimulator in W\n",
    "    measurement, APC = stimulate_and_measure(radius=0, angle=0, light_power=lp, rec_vars=[[\"gdens_ChR\",\"source_irr\"],['h.soma(0.5)._ref_gcat_chanrhod','h._ref_source_irradiance_chanrhod']])\n",
    "    res.append(dict(source_irr=measurement.source_irr.max(), mean_g_SPERcm2=np.mean(measurement.gdens_ChR), light_intensity_WPERcm2=h.soma(0.5).Tx_chanrhod*lp))\n",
    "data = pd.DataFrame(res)"
   ]
  },
  {
   "cell_type": "code",
   "execution_count": 15,
   "id": "fc4d2887-64f2-4f03-87bf-529225edea5e",
   "metadata": {},
   "outputs": [],
   "source": [
    "data['mean_g_per_ChRchannel_fS'] = data.mean_g_SPERcm2 / chanrhod_soma_density *1e15"
   ]
  },
  {
   "cell_type": "code",
   "execution_count": 16,
   "id": "28127401-ac75-42ad-872b-aa0f09791480",
   "metadata": {},
   "outputs": [
    {
     "data": {
      "text/plain": [
       "<AxesSubplot:xlabel='light_intensity_WPERcm2'>"
      ]
     },
     "execution_count": 16,
     "metadata": {},
     "output_type": "execute_result"
    },
    {
     "data": {
      "image/png": "[encoded data removed]",
      "text/plain": [
       "<Figure size 432x288 with 1 Axes>"
      ]
     },
     "metadata": {
      "needs_background": "light"
     },
     "output_type": "display_data"
    }
   ],
   "source": [
    "data.plot(x='light_intensity_WPERcm2', y='mean_g_per_ChRchannel_fS')"
   ]
  }
 ],
 "metadata": {
  "kernelspec": {
   "display_name": "Python 3",
   "language": "python",
   "name": "python3"
  },
  "language_info": {
   "codemirror_mode": {
    "name": "ipython",
    "version": 3
   },
   "file_extension": ".py",
   "mimetype": "text/x-python",
   "name": "python",
   "nbconvert_exporter": "python",
   "pygments_lexer": "ipython3",
   "version": "3.6.13"
  }
 },
 "nbformat": 4,
 "nbformat_minor": 5
}
