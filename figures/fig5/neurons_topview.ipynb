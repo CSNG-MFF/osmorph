{
 "cells": [
  {
   "cell_type": "code",
   "execution_count": 1,
   "id": "3abae289-4426-4b94-a4f1-117d613f5dd1",
   "metadata": {},
   "outputs": [],
   "source": [
    "# cd to base directory of this repository to enable the loading of NEURON simulations\n",
    "import os\n",
    "os.chdir('/home/david/Projects/optogenetic_whole_cell_activation/morph_impact_on_opt_stim')\n",
    "from neuron import h\n",
    "from neurostim.cell import Cell\n",
    "from neurostim.light_classes import LightSource, LightStimulation\n",
    "from neurostim.utils import convert_polar_to_cartesian_xz, interpolate\n",
    "from neurostim.polarmaps import get_AP_times, simple_polar_map\n",
    "import pickle\n",
    "import matplotlib.pyplot as plt\n",
    "import numpy as np\n",
    "from matplotlib.colors import BoundaryNorm\n",
    "from matplotlib.cm import Greys_r as cmap\n",
    "from matplotlib.cm import Reds as Reds\n",
    "import matplotlib\n",
    "from neurostim.light_propagation_models import foutz_et_al2012\n",
    "import pickle\n",
    "import pandas as pd\n",
    "\n",
    "## light and neuron display\n",
    "cortex_boundaries = { \n",
    "    'x': [0,1000],\n",
    "    'y': [0,1000],\n",
    "    'z': [-500,2000]\n",
    "}\n",
    "L1_x = 500\n",
    "\n",
    "N1_x = 500\n",
    "N1_y = 500\n",
    "scaling_neurons = 1.4\n",
    "neuron_color = 'tab:blue'\n",
    "\n",
    "# NEURON setup\n",
    "h.load_file(\"stdrun.hoc\")\n",
    "h.cvode_active(1)\n",
    "# load cell and create stimulation object\n",
    "chanrhod_expression = 13e9\n",
    "chanrhod_distribution = 'uniform'\n",
    "cortical_depth = {'L5':1170, 'L23':400}\n",
    "    \n"
   ]
  },
  {
   "cell_type": "code",
   "execution_count": 2,
   "id": "720ad939-5863-4e26-a0cb-7edc9b90c54d",
   "metadata": {},
   "outputs": [],
   "source": [
    "# dimensions (A4:  8.27 x 11.69 inches)\n",
    "text_frac = 0.8\n",
    "abs_pw = 8.27 # pagewidth\n",
    "abs_pl = 11.69 # pagelength\n",
    "pw = text_frac * abs_pw\n",
    "pl = text_frac * abs_pl\n",
    "\n",
    "# others\n",
    "dpi=900"
   ]
  },
  {
   "cell_type": "code",
   "execution_count": 3,
   "id": "f5352374-5e7d-40ea-807e-ca30d3fcc996",
   "metadata": {},
   "outputs": [
    {
     "name": "stdout",
     "output_type": "stream",
     "text": [
      "\t1 \n",
      "\t1 \n",
      "\t1 \n",
      "\t1 \n",
      "----------------------------------------------------------------------------------------------------\n",
      "DATA RANGE:  1.0 1.0\n"
     ]
    },
    {
     "name": "stderr",
     "output_type": "stream",
     "text": [
      "/home/david/Projects/optogenetic_whole_cell_activation/morph_impact_on_opt_stim/simneurostim/base-neurostim/neurostim/cell.py:617: RuntimeWarning: invalid value encountered in true_divide\n",
      "  a = (data - clim[0])/(clim[1]-clim[0])\n"
     ]
    },
    {
     "data": {
      "image/png": "[encoded data removed]",
      "text/plain": [
       "<Figure size 158.784x158.784 with 1 Axes>"
      ]
     },
     "metadata": {
      "needs_background": "light"
     },
     "output_type": "display_data"
    }
   ],
   "source": [
    "# top view on neuron\n",
    "length = pw/3\n",
    "width = pw/3\n",
    "fig = plt.figure(constrained_layout=False, figsize=(width,length))\n",
    "gs = fig.add_gridspec(nrows=1, ncols=1, left=0, right=1, wspace=0)\n",
    "ax1 = fig.add_subplot(gs[0,0])\n",
    "L5 = Cell(\n",
    "    hoc_file=\"simneurostim/model/hoc/L5.hoc\",\n",
    "    cortical_depth=cortical_depth,\n",
    "    ChR_soma_density=float(chanrhod_expression),\n",
    "    ChR_distribution=str(chanrhod_distribution),\n",
    "    rm_mech_from_secs=None,\n",
    "    delete_all_secs_except_soma=False\n",
    ")\n",
    "collection_top = L5.plot_foutz2012(\n",
    "    func=lambda x:1, axes='xy',scaling = scaling_neurons, segfunc=False, clim=None,cmap=None,color=neuron_color, shift_x=N1_x, shift_y=N1_y, alpha=0.5)\n",
    "ax1.add_collection(collection_top)\n",
    "# rectangle for scaling\n",
    "#rectangle = plt.Rectangle((500,600), 50, 200,color='tab:gray',alpha=0.8, edgecolor=None)\n",
    "#ax1.add_patch(rectangle)\n",
    "ax1.set_xlim(*cortex_boundaries['x'])\n",
    "ax1.set_ylim(*cortex_boundaries['y'])\n",
    "# turn axes off for neuron and light 6isplay\n",
    "ax1.set_axis_off()\n",
    "ax1.set_aspect('equal')\n",
    "fig.savefig('paper/NEW_FIGURES/FIG3/plots/L5_top.png', dpi=dpi, \n",
    "            facecolor=None, edgecolor=None,  \n",
    "            bbox_inches='tight')\n",
    "plt.show()\n",
    "\n"
   ]
  },
  {
   "cell_type": "code",
   "execution_count": 4,
   "id": "792b1f5b-1131-4a0d-8058-f35e7d725d9b",
   "metadata": {},
   "outputs": [
    {
     "name": "stdout",
     "output_type": "stream",
     "text": [
      "\t0 \n",
      "\t1 \n",
      "\t1 \n",
      "\t1 \n",
      "\t1 \n",
      "\t1 \n",
      "\t1 \n",
      "----------------------------------------------------------------------------------------------------\n",
      "DATA RANGE:  1.0 1.0\n"
     ]
    },
    {
     "data": {
      "image/png": "[encoded data removed]",
      "text/plain": [
       "<Figure size 158.784x158.784 with 1 Axes>"
      ]
     },
     "metadata": {
      "needs_background": "light"
     },
     "output_type": "display_data"
    }
   ],
   "source": [
    "# top view on neuron\n",
    "length = pw/3\n",
    "width = pw/3\n",
    "fig = plt.figure(constrained_layout=False, figsize=(width,length))\n",
    "gs = fig.add_gridspec(nrows=1, ncols=1, left=0, right=1, wspace=0)\n",
    "ax1 = fig.add_subplot(gs[0,0])\n",
    "L23 = Cell(\n",
    "    hoc_file=\"simneurostim/model/hoc/L23.hoc\",\n",
    "    cortical_depth=cortical_depth,\n",
    "    ChR_soma_density=float(chanrhod_expression),\n",
    "    ChR_distribution=str(chanrhod_distribution),\n",
    "    rm_mech_from_secs=None,\n",
    "    delete_all_secs_except_soma=False\n",
    ")\n",
    "# scale down diameter because plotting scales diameter not correctly (line width scaling and it ends up as way to large)\n",
    "h.soma.diam=1\n",
    "collection_top = L23.plot_foutz2012(\n",
    "    func=lambda x:1, axes='xy',scaling = scaling_neurons, segfunc=False, clim=None,cmap=None,color=neuron_color, shift_x=N1_x, shift_y=N1_y, alpha=0.5)\n",
    "ax1.add_collection(collection_top)\n",
    "# rectangle for scaling\n",
    "#rectangle = plt.Rectangle((500,600), 50, 200,color='tab:gray',alpha=0.8, edgecolor=None)\n",
    "#ax1.add_patch(rectangle)\n",
    "ax1.set_xlim(*cortex_boundaries['x'])\n",
    "ax1.set_ylim(*cortex_boundaries['y'])\n",
    "# turn axes off for neuron and light 6isplay\n",
    "ax1.set_axis_off()\n",
    "ax1.set_aspect('equal')\n",
    "fig.savefig('paper/NEW_FIGURES/FIG3/plots/L23_top.png', dpi=dpi, \n",
    "            facecolor=None, edgecolor=None,  \n",
    "            bbox_inches='tight')\n",
    "plt.show()"
   ]
  },
  {
   "cell_type": "code",
   "execution_count": null,
   "id": "0d8a8b78-09a3-415b-954f-46c9df8f9e2f",
   "metadata": {},
   "outputs": [],
   "source": []
  }
 ],
 "metadata": {
  "kernelspec": {
   "display_name": "Python 3",
   "language": "python",
   "name": "python3"
  },
  "language_info": {
   "codemirror_mode": {
    "name": "ipython",
    "version": 3
   },
   "file_extension": ".py",
   "mimetype": "text/x-python",
   "name": "python",
   "nbconvert_exporter": "python",
   "pygments_lexer": "ipython3",
   "version": "3.6.13"
  }
 },
 "nbformat": 4,
 "nbformat_minor": 5
}
