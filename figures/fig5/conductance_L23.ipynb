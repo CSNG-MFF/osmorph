{
 "cells": [
  {
   "cell_type": "code",
   "execution_count": 44,
   "id": "b7d1c77f",
   "metadata": {},
   "outputs": [],
   "source": [
    "import os\n",
    "os.chdir('/home/david/Projects/optogenetic_whole_cell_activation/morph_impact_on_opt_stim')\n",
    "import numpy as np\n",
    "import pandas as pd\n",
    "from neuron import h\n",
    "from neurostim.cell import Cell\n",
    "from neurostim.light_classes import LightSource, LightStimulation\n",
    "from neurostim.utils import convert_polar_to_cartesian_xz, interpolate\n",
    "from neurostim.polarmaps import get_AP_times\n",
    "import matplotlib.pyplot as plt\n",
    "from matplotlib.colors import LogNorm\n",
    "import seaborn as sns\n",
    "from matplotlib import rc\n",
    "rc('font',**{'family':'sans-serif','sans-serif':['Arial']})\n",
    "\n",
    "def step_round(a, step):\n",
    "    return np.round(np.array(a, dtype=float) / step) * step"
   ]
  },
  {
   "cell_type": "code",
   "execution_count": 2,
   "id": "ddd1fde8-add8-4165-b164-65664d2675dd",
   "metadata": {},
   "outputs": [],
   "source": [
    "# format\n",
    "# dimensions (A4:  8.27 x 11.69 inches)\n",
    "text_frac = 0.8\n",
    "abs_pw = 8.27 # pagewidth\n",
    "abs_pl = 11.69 # pagelength\n",
    "pw = text_frac * abs_pw\n",
    "pl = text_frac * abs_pl\n",
    "# others\n",
    "dpi=600"
   ]
  },
  {
   "cell_type": "code",
   "execution_count": 3,
   "id": "e6a01313-edb2-408c-8d7d-ef4ac78bc69a",
   "metadata": {},
   "outputs": [],
   "source": [
    "# simulate conductances in L5 cell for selected light powers\n",
    "hoc_file = 'L23'\n",
    "plot_path = 'paper/NEW_FIGURES/FIG3/plots/'+hoc_file+'_'\n",
    "\n",
    "#light_powers = [5e-5, 1e-4, 5e-4, 1e-3, 5e-3]\n",
    "light_powers = [1e-4, 1e-3, 5e-3]"
   ]
  },
  {
   "cell_type": "code",
   "execution_count": 4,
   "id": "81cb1a86",
   "metadata": {},
   "outputs": [
    {
     "name": "stdout",
     "output_type": "stream",
     "text": [
      "\t0 \n",
      "\t1 \n",
      "\t1 \n",
      "\t1 \n",
      "\t1 \n",
      "\t1 \n",
      "\t1 \n"
     ]
    }
   ],
   "source": [
    "# model config 1 ---- *** DO NOT RERUN ***\n",
    "# NEURON simulator setup is corrupted if reinitialized in a running kernel, rerun complete notebook\n",
    "\n",
    "# cortical depth of neuron models\n",
    "cortical_depth = {'L23': 400, 'L5': 1170} #um\n",
    "\n",
    "# ChR2 expression distribution and level\n",
    "chanrhod_distribution = 'uniform' \n",
    "chanrhod_soma_density = 13e9\n",
    "\n",
    "# NEURON setup\n",
    "h.load_file(\"stdrun.hoc\")\n",
    "h.cvode_active(1)\n",
    "# load cell and create stimulation object\n",
    "cell = Cell(\n",
    "    hoc_file=\"simneurostim/model/hoc/\" + str(hoc_file) + \".hoc\",\n",
    "    cortical_depth=cortical_depth,\n",
    "    ChR_soma_density=chanrhod_soma_density,\n",
    "    ChR_distribution=str(chanrhod_distribution)\n",
    ")"
   ]
  },
  {
   "cell_type": "code",
   "execution_count": 5,
   "id": "66ed0695",
   "metadata": {},
   "outputs": [
    {
     "name": "stdout",
     "output_type": "stream",
     "text": [
      "simulated 1 lp step\n",
      "simulated 1 lp step\n",
      "simulated 1 lp step\n"
     ]
    }
   ],
   "source": [
    "# model config 2 (can be adapted and rerun without restarting notebook kernel)\n",
    "\n",
    "# light source model and params\n",
    "light_model = 'foutz_et_al2012'\n",
    "fiber_diameter = 200 #um\n",
    "fiber_NA = 0.22\n",
    "# stimulation duration\n",
    "light_duration = 200 # ms\n",
    "# other params\n",
    "light_delay = 1 #ms\n",
    "tot_rec_time = light_delay + light_duration + 10\n",
    "AP_threshold = 0 # mV\n",
    "interpol_dt = 0.1 # ms\n",
    "\n",
    "def stimulate_and_measure(radius, angle, light_power, rec_vars):\n",
    "    # light source initialization\n",
    "    light_x, light_y = convert_polar_to_cartesian_xz(radius, angle)\n",
    "    light_z = 0  # cortical surface\n",
    "    light_pos = (light_x, light_y, light_z)\n",
    "    light_source = LightSource(\n",
    "        model=str(light_model),\n",
    "        position=(light_x, light_y, light_z),\n",
    "        width=float(fiber_diameter),\n",
    "        NA=float(fiber_NA)\n",
    "    )\n",
    "    # stimulation object initialization\n",
    "    light_stim = LightStimulation(\n",
    "        cell=cell,\n",
    "        light_source=light_source,\n",
    "        delay=float(light_delay),\n",
    "        duration=float(light_duration),\n",
    "        light_power=float(light_power),\n",
    "        record_all_segments=False,\n",
    "    )\n",
    "    # simulate\n",
    "    measurement = pd.DataFrame(\n",
    "        light_stim.simulate_and_measure(\n",
    "            tot_rec_time=float(tot_rec_time),\n",
    "            extra_rec_var_names=rec_vars[0],\n",
    "            extra_rec_var_pointers=[eval(item) for item in rec_vars[1]],\n",
    "        )\n",
    "    )\n",
    "    # dealing with drop full row duplicates\n",
    "    # drop completely redundant duplicates\n",
    "    measurement = measurement.drop_duplicates()\n",
    "    # add 1e-12 ms to 2nd entry time point of duplicate entries with the same time but different (e.g. Vm) values\n",
    "    measurement.loc[measurement[\"time [ms]\"].diff() == 0, \"time [ms]\"] += 1e-12\n",
    "    # interpolate simulation results\n",
    "    measurement = interpolate(\n",
    "        df=measurement, interpolation_dt=float(interpol_dt)\n",
    "    )\n",
    "    return measurement\n",
    "\n",
    "# define measurement variables\n",
    "segs = [seg for sec in h.allsec() for seg in sec][:-1] # exclude last seg as it is the light source\n",
    "segcatpointernames = [str(seg) for seg in segs]\n",
    "segcatpointers = ['h.'+str(seg)+'._ref_gcat_chanrhod' for seg in segs]\n",
    "\n",
    "radii = [0,100,200,300,400,500]\n",
    "angles = [0,np.pi/2,np.pi,np.pi*3/2]\n",
    "\n",
    "res = []\n",
    "for light_power in light_powers:\n",
    "    print(\"simulated 1 lp step\")\n",
    "    for radius in radii:\n",
    "        for angle in angles:\n",
    "            measurement = stimulate_and_measure(radius, angle, light_power, rec_vars=[segcatpointernames,segcatpointers])\n",
    "            # convert density conductance into real conductance for each segment\n",
    "            for seg, seg_gcat in zip(segs, segcatpointernames):\n",
    "                measurement[seg_gcat] *= eval('h.'+str(seg)+'.area()') * 1e-8 # eval area of segment and convert from um2 to cm2\n",
    "            t_sec_g = pd.melt(measurement, id_vars=['time [ms]'], value_vars=segcatpointernames).set_index(['variable', 'time [ms]'])\n",
    "            total_sec_g = t_sec_g.groupby('variable').sum()\n",
    "            #total_sec_g['g_normalized'] = total_sec_g / total_sec_g.sum()\n",
    "            total_sec_g['light_power'] = light_power\n",
    "            total_sec_g['radius']=radius\n",
    "            total_sec_g['angle']=angle\n",
    "            res.append(total_sec_g)\n",
    "total_sec_g = pd.concat(res)\n",
    "total_sec_g = total_sec_g.reset_index()\n",
    "#total_sec_g['r_xy']= np.sqrt(np.array([eval('h.'+seg+'.x_chanrhod') for seg in total_sec_g.variable])**2 + np.array([eval('h.'+seg+'.y_chanrhod') for seg in total_sec_g.variable])**2)\n",
    "#total_sec_g['z'] = [eval('h.'+seg+'.z_chanrhod') for seg in total_sec_g.variable]\n",
    "#total_sec_g['g_normalized_times_z'] = total_sec_g.g_normalized * total_sec_g.z\n",
    "#total_sec_g['g_normalized_times_r_xy'] = total_sec_g.g_normalized * total_sec_g.r_xy"
   ]
  },
  {
   "cell_type": "code",
   "execution_count": 6,
   "id": "45026758-3c30-421e-9066-64304a09fb17",
   "metadata": {},
   "outputs": [],
   "source": [
    "#total_sec_g_cp = total_sec_g.copy()"
   ]
  },
  {
   "cell_type": "code",
   "execution_count": 7,
   "id": "b35f5df3-4e6b-4ccd-94f4-c0a0cda19812",
   "metadata": {},
   "outputs": [],
   "source": [
    "#total_sec_g.columns"
   ]
  },
  {
   "cell_type": "code",
   "execution_count": 8,
   "id": "926e7482-f4e3-4aef-a9dd-3847b0016efa",
   "metadata": {},
   "outputs": [],
   "source": [
    "#total_sec_g = total_sec_g[['variable', 'value', 'light_power', 'radius', 'angle']]"
   ]
  },
  {
   "cell_type": "code",
   "execution_count": 9,
   "id": "6341a3ac-62bf-4c23-b12a-ef37ea6d21a1",
   "metadata": {},
   "outputs": [
    {
     "data": {
      "text/html": [
       "<div>\n",
       "<style scoped>\n",
       "    .dataframe tbody tr th:only-of-type {\n",
       "        vertical-align: middle;\n",
       "    }\n",
       "\n",
       "    .dataframe tbody tr th {\n",
       "        vertical-align: top;\n",
       "    }\n",
       "\n",
       "    .dataframe thead th {\n",
       "        text-align: right;\n",
       "    }\n",
       "</style>\n",
       "<table border=\"1\" class=\"dataframe\">\n",
       "  <thead>\n",
       "    <tr style=\"text-align: right;\">\n",
       "      <th></th>\n",
       "      <th>variable</th>\n",
       "      <th>value</th>\n",
       "      <th>light_power</th>\n",
       "      <th>radius</th>\n",
       "      <th>angle</th>\n",
       "    </tr>\n",
       "  </thead>\n",
       "  <tbody>\n",
       "    <tr>\n",
       "      <th>0</th>\n",
       "      <td>a1_1(0.5)</td>\n",
       "      <td>3.420013e-08</td>\n",
       "      <td>0.0001</td>\n",
       "      <td>0</td>\n",
       "      <td>0.000000</td>\n",
       "    </tr>\n",
       "    <tr>\n",
       "      <th>1</th>\n",
       "      <td>a1_11(0.5)</td>\n",
       "      <td>3.942503e-08</td>\n",
       "      <td>0.0001</td>\n",
       "      <td>0</td>\n",
       "      <td>0.000000</td>\n",
       "    </tr>\n",
       "    <tr>\n",
       "      <th>2</th>\n",
       "      <td>a1_111(0.5)</td>\n",
       "      <td>2.570408e-08</td>\n",
       "      <td>0.0001</td>\n",
       "      <td>0</td>\n",
       "      <td>0.000000</td>\n",
       "    </tr>\n",
       "    <tr>\n",
       "      <th>3</th>\n",
       "      <td>a1_1111(0.125)</td>\n",
       "      <td>2.903566e-08</td>\n",
       "      <td>0.0001</td>\n",
       "      <td>0</td>\n",
       "      <td>0.000000</td>\n",
       "    </tr>\n",
       "    <tr>\n",
       "      <th>4</th>\n",
       "      <td>a1_1111(0.375)</td>\n",
       "      <td>2.845305e-08</td>\n",
       "      <td>0.0001</td>\n",
       "      <td>0</td>\n",
       "      <td>0.000000</td>\n",
       "    </tr>\n",
       "    <tr>\n",
       "      <th>...</th>\n",
       "      <td>...</td>\n",
       "      <td>...</td>\n",
       "      <td>...</td>\n",
       "      <td>...</td>\n",
       "      <td>...</td>\n",
       "    </tr>\n",
       "    <tr>\n",
       "      <th>19003</th>\n",
       "      <td>a4_12221(0.833333)</td>\n",
       "      <td>3.793219e-13</td>\n",
       "      <td>0.0050</td>\n",
       "      <td>500</td>\n",
       "      <td>4.712389</td>\n",
       "    </tr>\n",
       "    <tr>\n",
       "      <th>19004</th>\n",
       "      <td>a4_12222(0.125)</td>\n",
       "      <td>3.706895e-14</td>\n",
       "      <td>0.0050</td>\n",
       "      <td>500</td>\n",
       "      <td>4.712389</td>\n",
       "    </tr>\n",
       "    <tr>\n",
       "      <th>19005</th>\n",
       "      <td>a4_12222(0.375)</td>\n",
       "      <td>2.349154e-14</td>\n",
       "      <td>0.0050</td>\n",
       "      <td>500</td>\n",
       "      <td>4.712389</td>\n",
       "    </tr>\n",
       "    <tr>\n",
       "      <th>19006</th>\n",
       "      <td>a4_12222(0.625)</td>\n",
       "      <td>2.570646e-14</td>\n",
       "      <td>0.0050</td>\n",
       "      <td>500</td>\n",
       "      <td>4.712389</td>\n",
       "    </tr>\n",
       "    <tr>\n",
       "      <th>19007</th>\n",
       "      <td>a4_12222(0.875)</td>\n",
       "      <td>7.945443e-15</td>\n",
       "      <td>0.0050</td>\n",
       "      <td>500</td>\n",
       "      <td>4.712389</td>\n",
       "    </tr>\n",
       "  </tbody>\n",
       "</table>\n",
       "<p>19008 rows × 5 columns</p>\n",
       "</div>"
      ],
      "text/plain": [
       "                 variable         value  light_power  radius     angle\n",
       "0               a1_1(0.5)  3.420013e-08       0.0001       0  0.000000\n",
       "1              a1_11(0.5)  3.942503e-08       0.0001       0  0.000000\n",
       "2             a1_111(0.5)  2.570408e-08       0.0001       0  0.000000\n",
       "3          a1_1111(0.125)  2.903566e-08       0.0001       0  0.000000\n",
       "4          a1_1111(0.375)  2.845305e-08       0.0001       0  0.000000\n",
       "...                   ...           ...          ...     ...       ...\n",
       "19003  a4_12221(0.833333)  3.793219e-13       0.0050     500  4.712389\n",
       "19004     a4_12222(0.125)  3.706895e-14       0.0050     500  4.712389\n",
       "19005     a4_12222(0.375)  2.349154e-14       0.0050     500  4.712389\n",
       "19006     a4_12222(0.625)  2.570646e-14       0.0050     500  4.712389\n",
       "19007     a4_12222(0.875)  7.945443e-15       0.0050     500  4.712389\n",
       "\n",
       "[19008 rows x 5 columns]"
      ]
     },
     "execution_count": 9,
     "metadata": {},
     "output_type": "execute_result"
    }
   ],
   "source": [
    "total_sec_g"
   ]
  },
  {
   "cell_type": "code",
   "execution_count": 45,
   "id": "2a39ac95-9ab1-445e-9804-b612ef256d3c",
   "metadata": {},
   "outputs": [
    {
     "name": "stdout",
     "output_type": "stream",
     "text": [
      "(15, 32) (15, 32) (15, 32)\n",
      "69.98218726808349 322.0959533070542\n"
     ]
    },
    {
     "data": {
      "image/png": "[encoded data removed]",
      "text/plain": [
       "<Figure size 47.6352x83.5705 with 1 Axes>"
      ]
     },
     "metadata": {
      "needs_background": "light"
     },
     "output_type": "display_data"
    },
    {
     "name": "stdout",
     "output_type": "stream",
     "text": [
      "(15, 32) (15, 32) (15, 32)\n",
      "69.91265206974059 333.1038084112044\n"
     ]
    },
    {
     "data": {
      "image/png": "[encoded data removed]",
      "text/plain": [
       "<Figure size 47.6352x83.5705 with 1 Axes>"
      ]
     },
     "metadata": {
      "needs_background": "light"
     },
     "output_type": "display_data"
    },
    {
     "name": "stdout",
     "output_type": "stream",
     "text": [
      "(15, 32) (15, 32) (15, 32)\n",
      "70.9200605842066 338.03456449148234\n"
     ]
    },
    {
     "data": {
      "image/png": "[encoded data removed]",
      "text/plain": [
       "<Figure size 47.6352x83.5705 with 1 Axes>"
      ]
     },
     "metadata": {
      "needs_background": "light"
     },
     "output_type": "display_data"
    },
    {
     "data": {
      "image/png": "[encoded data removed]",
      "text/plain": [
       "<Figure size 432x288 with 2 Axes>"
      ]
     },
     "metadata": {
      "needs_background": "light"
     },
     "output_type": "display_data"
    },
    {
     "data": {
      "text/plain": [
       "0.1824545836122594"
      ]
     },
     "execution_count": 45,
     "metadata": {},
     "output_type": "execute_result"
    }
   ],
   "source": [
    "def plot_conductance_map(total_sec_g, vmin, vmax,figsize, normalize_total_conductance=False, r_segmentation=100, z_segmentation=100, mirror_neuron=False):\n",
    "    # colormap of conductance strength according to their position in the morphology (projected on the radial axis)\n",
    "    sec_lp_rad_g_mean = pd.DataFrame(total_sec_g.groupby(['variable','light_power']).value.mean()).reset_index()\n",
    "    sec_lp_rad_g_mean['r_xy'] = np.sqrt(np.array([eval('h.'+seg+'.x_chanrhod') for seg in sec_lp_rad_g_mean.variable])**2 + np.array([eval('h.'+seg+'.y_chanrhod') for seg in sec_lp_rad_g_mean.variable])**2)\n",
    "    sec_lp_rad_g_mean['z'] = [eval('h.'+seg+'.z_chanrhod') for seg in sec_lp_rad_g_mean.variable]\n",
    "    # round to step\n",
    "    step = 100\n",
    "    sec_lp_rad_g_mean['r_xy_round'] = sec_lp_rad_g_mean.r_xy.apply(lambda x: step_round(x, r_segmentation))\n",
    "    sec_lp_rad_g_mean['z_round'] = sec_lp_rad_g_mean.z.apply(lambda x: step_round(x, z_segmentation))\n",
    "    # sum over all r and z with the same value\n",
    "    sec_lp_rad_g_mean = pd.DataFrame(sec_lp_rad_g_mean.groupby([\"light_power\",\"r_xy_round\",\"z_round\"])[\"value\"].sum()).reset_index()\n",
    "    rs = np.arange(0,700+r_segmentation,r_segmentation)\n",
    "    zs = np.arange(-3100,0+z_segmentation,z_segmentation)\n",
    "    rr, zz = np.meshgrid(rs, zs, indexing='ij')\n",
    "    pivots = []\n",
    "    for lp in light_powers:\n",
    "        pivots.append(\n",
    "            sec_lp_rad_g_mean.loc[sec_lp_rad_g_mean.light_power==lp].merge(\n",
    "                pd.DataFrame(data=np.array([rr.flatten(),zz.flatten()]).T, columns=['r_xy_round','z_round']), how='outer').sort_values(\n",
    "                by=['r_xy_round','z_round']).pivot(\"r_xy_round\",\"z_round\",\"value\")\n",
    "        )\n",
    "    for i, lp in enumerate(light_powers):\n",
    "        fig, ax = plt.subplots(figsize=figsize)\n",
    "        if normalize_total_conductance:\n",
    "            print(rr.shape, zz.shape, pivots[i].shape)\n",
    "            pivots[i] /= np.nansum(pivots[i])\n",
    "            if mirror_neuron:\n",
    "                xx2 = np.append(rr[::-1]*-1,rr,axis=0)\n",
    "                zz2 = np.append(zz,zz, axis=0)\n",
    "                b = np.append(pivots[i].values[::-1],pivots[i].values,axis=0)\n",
    "                print(xx2.shape, zz2.shape, b.shape)\n",
    "            else:\n",
    "                xx2=rr\n",
    "                zz2=zz\n",
    "                b=pivots[i]\n",
    "            mappable = ax.pcolormesh(xx2,zz2,b, shading='nearest', cmap='Blues', vmin=vmin, vmax=vmax)\n",
    "            #ax.set_xlim(-750,750)\n",
    "        else:\n",
    "            mappable = ax.pcolormesh(rr,zz,pivots[i], cmap='jet', norm=LogNorm(vmin=vmin, vmax=vmax))\n",
    "            #ax.set_xlim(0,700)\n",
    "        # radial distance of conductance\n",
    "        r_cond = [np.sum(np.nansum(pivot.values,axis=1)/np.sum(np.nansum(pivot.values,axis=1))*np.arange(0,700+r_seg,r_seg)) for i, pivot in enumerate(pivots)][i]\n",
    "        # depth\n",
    "        z_cond = [np.sum(np.nansum(pivot.values,axis=0)/np.sum(np.nansum(pivot.values,axis=1))*np.arange(3100,-z_seg,-z_seg)) for i, pivot in enumerate(pivots)][i]\n",
    "        ax.plot([r_cond], [-z_cond], marker='.',color='tab:red', linestyle='', zorder=10)\n",
    "        print(r_cond,z_cond)\n",
    "        ax.axis('equal')\n",
    "        ax.set_ylim(-1500,0)\n",
    "        ax.set_yticks([-1500,-1000,-500,0])\n",
    "        ax.set_yticklabels(['','1k','','0'])\n",
    "        ax.set_yticks([-250,-750,-1250], minor=True)\n",
    "        ax.grid()\n",
    "        #ax.legend()\n",
    "        #ax.plot(\n",
    "        #ax.set_yticklabels([])\n",
    "        if mirror_neuron:\n",
    "            ax.set_xticks([-500,0,500])\n",
    "            ax.set_xticklabels(['','0','500'])\n",
    "            ax.set_xticks([-250,250], minor=True)\n",
    "        else:\n",
    "            ax.set_xticks([0,500])\n",
    "            ax.set_xticklabels(['0','500'])\n",
    "            ax.set_xticks([250], minor=True)\n",
    "        fig.savefig(plot_path+\"conductance_morphology_\"+str(lp)+\".png\", dpi=dpi, \n",
    "                    facecolor='w', edgecolor='w',  \n",
    "                    bbox_inches='tight')\n",
    "        plt.show()\n",
    "    #fig.suptitle(\"conductances throughout morpology averaged over all light source positions. Light powers: \"+str(light_powers))\n",
    "    #plt.colorbar(mappable, label='summed conductance')\n",
    "    return fig, ax, mappable, pivots\n",
    "#fig, ax, mappable, pivots = plot_conductance_map(total_sec_g, vmin=1e-11, vmax=1e-5, r_segmentation=10, z_segmentation=100)\n",
    "#plt.colorbar(mappable)\n",
    "#plt.show()\n",
    "r_seg = 50\n",
    "z_seg = 100\n",
    "fig2, ax2, mappable2, pivots2 = plot_conductance_map(total_sec_g, vmin=0, vmax=0.1, r_segmentation=r_seg, z_segmentation=z_seg, normalize_total_conductance=True,figsize=(pw/10,pw/5.7))\n",
    "plt.colorbar(mappable2)\n",
    "plt.show()\n",
    "np.nanmax(pivots2[0].values)"
   ]
  },
  {
   "cell_type": "code",
   "execution_count": 43,
   "id": "a906f2c3-98fd-44f8-a8a6-0182618ceade",
   "metadata": {},
   "outputs": [
    {
     "data": {
      "image/png": "[encoded data removed]",
      "text/plain": [
       "<Figure size 432x288 with 2 Axes>"
      ]
     },
     "metadata": {
      "needs_background": "light"
     },
     "output_type": "display_data"
    },
    {
     "data": {
      "image/png": "[encoded data removed]",
      "text/plain": [
       "<Figure size 432x288 with 2 Axes>"
      ]
     },
     "metadata": {
      "needs_background": "light"
     },
     "output_type": "display_data"
    },
    {
     "data": {
      "image/png": "[encoded data removed]",
      "text/plain": [
       "<Figure size 432x288 with 2 Axes>"
      ]
     },
     "metadata": {
      "needs_background": "light"
     },
     "output_type": "display_data"
    }
   ],
   "source": [
    "# spatial conductance profiles (light source location mapped)\n",
    "total_g_light_source_loc_mapped = pd.DataFrame(total_sec_g.groupby(['light_power','radius','angle']).value.sum()).reset_index().rename(columns={'radius': 'radius [um]', 'angle': 'angle [rad]'}).set_index(['light_power','radius [um]','angle [rad]'])\n",
    "import matplotlib as mpl\n",
    "import copy\n",
    "from neurostim.polarmaps import simple_polar_map\n",
    "for lp in light_powers:\n",
    "    fig, ax = plt.subplots(subplot_kw=dict(projection='polar'))\n",
    "    ax, mappable = simple_polar_map(\n",
    "            data=total_g_light_source_loc_mapped.loc[lp].reset_index(),\n",
    "            plot_col='value',\n",
    "            cmap=copy.copy(mpl.cm.get_cmap(\"Blues\")),\n",
    "            ax=ax,\n",
    "            vmin=None,\n",
    "            vmax=None)\n",
    "    plt.colorbar(mappable)\n",
    "    plt.title(str(lp))\n",
    "    plt.show()"
   ]
  }
 ],
 "metadata": {
  "kernelspec": {
   "display_name": "Python 3",
   "language": "python",
   "name": "python3"
  },
  "language_info": {
   "codemirror_mode": {
    "name": "ipython",
    "version": 3
   },
   "file_extension": ".py",
   "mimetype": "text/x-python",
   "name": "python",
   "nbconvert_exporter": "python",
   "pygments_lexer": "ipython3",
   "version": "3.6.13"
  }
 },
 "nbformat": 4,
 "nbformat_minor": 5
}
