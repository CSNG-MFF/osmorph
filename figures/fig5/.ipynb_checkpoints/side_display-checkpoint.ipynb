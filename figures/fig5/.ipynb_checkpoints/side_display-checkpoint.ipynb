{
 "cells": [
  {
   "cell_type": "code",
   "execution_count": 1,
   "id": "8a48708b",
   "metadata": {},
   "outputs": [],
   "source": [
    "import matplotlib.pyplot as plt\n",
    "import numpy as np\n",
    "import pandas as pd\n",
    "import pickle"
   ]
  },
  {
   "cell_type": "code",
   "execution_count": 2,
   "id": "d187ddf2",
   "metadata": {},
   "outputs": [],
   "source": [
    "# format\n",
    "\n",
    "# dimensions (A4:  8.27 x 11.69 inches)\n",
    "text_frac = 0.8\n",
    "abs_pw = 8.27 # pagewidth\n",
    "abs_pl = 11.69 # pagelength\n",
    "pw = text_frac * abs_pw\n",
    "pl = text_frac * abs_pl\n",
    "\n",
    "# others\n",
    "dpi=900"
   ]
  },
  {
   "cell_type": "code",
   "execution_count": 3,
   "id": "4a3875f9",
   "metadata": {},
   "outputs": [
    {
     "data": {
      "image/png": "[encoded data removed]",
      "text/plain": [
       "<Figure size 555.188x331.117 with 1 Axes>"
      ]
     },
     "metadata": {
      "needs_background": "light"
     },
     "output_type": "display_data"
    }
   ],
   "source": [
    "length = 0.1405*pl*3.5\n",
    "width = pw*0.333*3.5\n",
    "fig = plt.figure(constrained_layout=False, figsize=(width,length))\n",
    "gs = fig.add_gridspec(nrows=1, ncols=1, left=0.05, right=0.95,\n",
    "                        wspace=0.05)\n",
    "ax1 = fig.add_subplot(gs[0,0])\n",
    "ax1_ratio = 0.5\n",
    "\n",
    "# fig0 parameters\n",
    "## light and neuron display\n",
    "cortex_boundaries = { \n",
    "    'x': [0,4000],\n",
    "    'z': [0,2000]\n",
    "}\n",
    "L1_x = 2000\n",
    "L2_x = 2000\n",
    "# change neuron parameters in the notebooks generate_LXX_collection.ipynb\n",
    "# light source parameters:\n",
    "parameters = dict(\n",
    "    lightsource1 = dict(\n",
    "        NA = 0.22,\n",
    "        d__um = 200),\n",
    "    lightsource2 = dict(\n",
    "        NA = 0.39,\n",
    "        d__um = 400),\n",
    "    mu_s__per_mm = 7.37,\n",
    "    mu_a__per_mm = 0.1249,\n",
    ")\n",
    "    \n",
    "# light profiles\n",
    "# Foutz optical fiber light source\n",
    "from neurostim.light_propagation_models import foutz_et_al2012\n",
    "xx, zz = np.meshgrid(np.arange(cortex_boundaries['x'][0],cortex_boundaries['x'][1]),\n",
    "                     np.arange(cortex_boundaries['z'][0],cortex_boundaries['z'][1]))\n",
    "L1_prof = foutz_et_al2012(\n",
    "    x=xx-L1_x, y=np.zeros(np.shape(xx)), z=zz, power=1, \n",
    "    width=parameters['lightsource1']['d__um'], NA=parameters['lightsource1']['NA'], \n",
    "    scatter_coefficient=parameters['mu_s__per_mm'], absorbance_coefficient=parameters['mu_a__per_mm'],\n",
    "    spreading=True, scattering=True)\n",
    "\n",
    "# L2_prof = foutz_et_al2012(\n",
    "#     x=xx-L2_x, y=np.zeros(np.shape(xx)), z=zz, power=1, \n",
    "#     width=parameters['lightsource2']['d__um'], NA=parameters['lightsource2']['NA'], \n",
    "#     scatter_coefficient=parameters['mu_s__per_mm'], absorbance_coefficient=parameters['mu_a__per_mm'],\n",
    "#     spreading=True, scattering=True)\n",
    "# add L2_prof to L1_prof to get overall light profile\n",
    "#L1_prof += L2_prof\n",
    "# for LogNorm set all 0 to 1e-10\n",
    "L1_prof[L1_prof==0] = 1e-10\n",
    "\n",
    "# load plots of neuron morphologies\n",
    "with open('L5_neuron_collection.pickle', 'rb') as file:\n",
    "    collectionL5 = pickle.load(file)\n",
    "with open('L23_neuron_collection.pickle', 'rb') as file:\n",
    "    collectionL23 = pickle.load(file)\n",
    "    \n",
    "# normalize light_profile by average output intensity\n",
    "# 1W/cm2 light power / (pi * diam_in_cm/2)**2\n",
    "avrg_output_intensity = 1 / (np.pi * (parameters['lightsource1']['d__um']/2 * 1e-4)**2)\n",
    "L1_prof /= avrg_output_intensity\n",
    "\n",
    "# display 500 um bar for scale\n",
    "L1_prof[1300:1800,3770:3800]=np.max(L1_prof)\n",
    "L1_prof[1770:1800,3300:3800]=np.max(L1_prof)\n",
    "                                    \n",
    "# add cortical layer boundaries\n",
    "cortical_layer_boundaries = [0, 150, 630, 950, 1200, 1520]\n",
    "for bound in cortical_layer_boundaries:\n",
    "    L1_prof[bound:bound+1,:] = np.max(L1_prof)"
   ]
  },
  {
   "cell_type": "code",
   "execution_count": 4,
   "id": "7c237794",
   "metadata": {},
   "outputs": [],
   "source": [
    "from matplotlib.colors import LogNorm, BoundaryNorm\n",
    "from matplotlib.cm import Greys_r as cmap\n",
    "ax1.add_collection(collectionL5)\n",
    "ax1.add_collection(collectionL23)\n",
    "bounds_cmap = [1e-6, 1e-5, 1e-4, 1e-3, 1e-2, 1e-1, 1]\n",
    "mappable = ax1.pcolormesh(xx,zz*-1,L1_prof, shading='nearest', cmap=cmap,\n",
    "              #norm=LogNorm(vmin=6300e-4,vmax=63000)\n",
    "              norm=BoundaryNorm(bounds_cmap,ncolors=cmap.N,extend='both')\n",
    ")\n",
    "              \n",
    "ax1.set_xlim(*cortex_boundaries['x']) \n",
    "ax1.set_ylim(\n",
    "    -1*(cortex_boundaries['x'][1]-cortex_boundaries['x'][0])*ax1_ratio,\n",
    "    0\n",
    ")\n",
    "# turn axes off for neuron and light display\n",
    "ax1.set_axis_off()\n",
    "# print scale\n",
    "#ax1.plot([500,600,600],[500,500,600], lw=10, color='red')"
   ]
  },
  {
   "cell_type": "code",
   "execution_count": 5,
   "id": "53692a9c",
   "metadata": {},
   "outputs": [
    {
     "data": {
      "image/png": "[encoded data removed]",
      "text/plain": [
       "<Figure size 23.8176x331.117 with 1 Axes>"
      ]
     },
     "metadata": {
      "needs_background": "light"
     },
     "output_type": "display_data"
    }
   ],
   "source": [
    "fig.savefig('plots/neuron_light_display.png', dpi=dpi, \n",
    "            facecolor='w', edgecolor='w',  \n",
    "            bbox_inches='tight')\n",
    "\n",
    "cfig, cax= plt.subplots(figsize=(pw/20,length))\n",
    "plt.colorbar(mappable, cax=cax, ticks=bounds_cmap)\n",
    "cax.get_yaxis().set_major_formatter(plt.LogFormatter(10,  labelOnlyBase=False))\n",
    "cfig.savefig('plots/light_cbar.png', dpi=dpi, \n",
    "            facecolor='w', edgecolor='w',  \n",
    "            bbox_inches='tight')\n",
    "plt.show()"
   ]
  }
 ],
 "metadata": {
  "kernelspec": {
   "display_name": "Python 3",
   "language": "python",
   "name": "python3"
  },
  "language_info": {
   "codemirror_mode": {
    "name": "ipython",
    "version": 3
   },
   "file_extension": ".py",
   "mimetype": "text/x-python",
   "name": "python",
   "nbconvert_exporter": "python",
   "pygments_lexer": "ipython3",
   "version": "3.6.13"
  }
 },
 "nbformat": 4,
 "nbformat_minor": 5
}
