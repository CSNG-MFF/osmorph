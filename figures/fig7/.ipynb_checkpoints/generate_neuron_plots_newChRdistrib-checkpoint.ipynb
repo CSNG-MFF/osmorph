{
 "cells": [
  {
   "cell_type": "code",
   "execution_count": 1,
   "id": "d187ddf2",
   "metadata": {},
   "outputs": [],
   "source": [
    "# cd to base directory of this repository to enable the loading of NEURON simulations\n",
    "import os\n",
    "os.chdir('/home/david/Projects/optogenetic_whole_cell_activation/morph_impact_on_opt_stim')\n",
    "import pickle\n",
    "from neurostim.cell import Cell\n",
    "from matplotlib.cm import viridis as cmap2\n",
    "from matplotlib.colors import LogNorm\n",
    "# colors\n",
    "poster_color='#08306bff'\n",
    "c1 = '#3f51b5'\n",
    "c2 = '#f44336'\n",
    "c3 = '#4caf50'\n",
    "c4 = '#ffa000'\n",
    "\n",
    "# plot params\n",
    "scaling_neurons = 0.5\n",
    "\n",
    "# analysis params\n",
    "chanrhod_expression = 13e9\n",
    "clim_L5  = [13e6,13e9]\n",
    "clim_L23 = clim_L5\n",
    "def gen_cell_collection_and_save(hoc_file, ChR2_distribution, ChR_expression, clim, filename, uniform_color=None): \n",
    "    a_cell = Cell(hoc_file, ChR_distribution=ChR2_distribution, ChR_soma_density=ChR_expression)\n",
    "    if 'L23' in hoc_file:\n",
    "        # cell morphology is plotted with LineCollection from matplotlib and \n",
    "        # linewidth is used for the diameter of sections. Because of improper\n",
    "        # scaling, the diameter of the L2/3 soma is displayed unrealistically \n",
    "        # wide and we correct this graphic by scaling it down for this graphics\n",
    "        from neuron import h\n",
    "        h.soma.diam = 8\n",
    "    collection = a_cell.plot_foutz2012(\n",
    "        func=lambda seg:seg.channel_density_chanrhod, axes='xz',scaling = scaling_neurons, segfunc=True, \n",
    "        clim=clim,cmap=cmap2,color=uniform_color, shift_x=0, lognorm=True)\n",
    "    with open(filename, 'wb') as file:\n",
    "      pickle.dump(collection, file)"
   ]
  },
  {
   "cell_type": "code",
   "execution_count": 2,
   "id": "a3014d9e-92c9-459a-a30e-61a3ba807211",
   "metadata": {},
   "outputs": [
    {
     "ename": "SyntaxError",
     "evalue": "'break' outside loop (<ipython-input-2-6aaf1f276005>, line 4)",
     "output_type": "error",
     "traceback": [
      "\u001b[0;36m  File \u001b[0;32m\"<ipython-input-2-6aaf1f276005>\"\u001b[0;36m, line \u001b[0;32m4\u001b[0m\n\u001b[0;31mSyntaxError\u001b[0m\u001b[0;31m:\u001b[0m 'break' outside loop\n"
     ]
    }
   ],
   "source": [
    "break"
   ]
  },
  {
   "cell_type": "code",
   "execution_count": null,
   "id": "a84b2d30-ab31-4060-a5cf-9977868607b5",
   "metadata": {},
   "outputs": [],
   "source": [
    "# L23                                  L5\n",
    "# max                  min             max                  min\n",
    "# 71526620216  strict            0    126591706487  strict             0\n",
    "# 52839548304    soft   9797332034     63814423555    soft   11832256637\n",
    "# 12853706845 uniform  12853706845     13000000536 uniform   13000000536\n"
   ]
  },
  {
   "cell_type": "markdown",
   "id": "3487c8c3",
   "metadata": {},
   "source": [
    "9797332034## execute each plot individually by restarting this notebook and executing the first cell and the respective cell to plot"
   ]
  },
  {
   "cell_type": "code",
   "execution_count": null,
   "id": "4a3875f9",
   "metadata": {},
   "outputs": [],
   "source": [
    "hoc_file = 'simneurostim/model/hoc/L23.hoc'\n",
    "hoc_label = 'L23'\n",
    "ChR2_distribution = 'uniform'\n",
    "gen_cell_collection_and_save(\n",
    "    hoc_file, ChR2_distribution, ChR_expression=chanrhod_expression, clim=clim_L23,\n",
    "    filename='paper/figdata/fig3_expressionplots_'+hoc_label+'_'+ChR2_distribution+'_newChRdistrib.pickle')"
   ]
  },
  {
   "cell_type": "code",
   "execution_count": null,
   "id": "c7e12956",
   "metadata": {},
   "outputs": [],
   "source": [
    "hoc_file = 'simneurostim/model/hoc/L23.hoc'\n",
    "hoc_label = 'L23'\n",
    "ChR2_distribution = 'shemesh_supfig9b_exp_yoff'\n",
    "gen_cell_collection_and_save(\n",
    "    hoc_file, ChR2_distribution, ChR_expression=chanrhod_expression, clim=clim_L23,\n",
    "    filename='paper/figdata/fig3_expressionplots_'+hoc_label+'_'+ChR2_distribution+'_newChRdistrib.pickle')"
   ]
  },
  {
   "cell_type": "code",
   "execution_count": null,
   "id": "87895d69",
   "metadata": {},
   "outputs": [],
   "source": [
    "hoc_file = 'simneurostim/model/hoc/L23.hoc'\n",
    "hoc_label = 'L23'\n",
    "ChR2_distribution = 'shemesh_supfig9b_exp_lin_yoff'\n",
    "gen_cell_collection_and_save(\n",
    "    hoc_file, ChR2_distribution, ChR_expression=chanrhod_expression, clim=clim_L23,\n",
    "    filename='paper/figdata/fig3_expressionplots_'+hoc_label+'_'+ChR2_distribution+'_newChRdistrib.pickle')"
   ]
  },
  {
   "cell_type": "code",
   "execution_count": null,
   "id": "742484db-682f-4ae9-a775-a9b13577fec3",
   "metadata": {},
   "outputs": [],
   "source": [
    "# generate cell plot in complete black to lay under strict targeting plot which is incomplete due to masked sections becasue of lognorm when density=0\n",
    "hoc_file = 'simneurostim/model/hoc/L23.hoc'\n",
    "hoc_label = 'L23black'\n",
    "ChR2_distribution = 'shemesh_supfig9b_exp_lin_yoff'\n",
    "gen_cell_collection_and_save(\n",
    "    hoc_file, ChR2_distribution, ChR_expression=chanrhod_expression, clim=clim_L23, uniform_color='black',\n",
    "    filename='paper/figdata/fig3_expressionplots_'+hoc_label+'_'+ChR2_distribution+'_newChRdistrib.pickle')"
   ]
  },
  {
   "cell_type": "code",
   "execution_count": null,
   "id": "b02b158c",
   "metadata": {},
   "outputs": [],
   "source": [
    "hoc_file = 'simneurostim/model/hoc/L5.hoc'\n",
    "hoc_label = 'L5'\n",
    "ChR2_distribution = 'uniform'\n",
    "gen_cell_collection_and_save(\n",
    "    hoc_file, ChR2_distribution, ChR_expression=chanrhod_expression, clim=clim_L5,\n",
    "    filename='paper/figdata/fig3_expressionplots_'+hoc_label+'_'+ChR2_distribution+'_newChRdistrib.pickle')"
   ]
  },
  {
   "cell_type": "code",
   "execution_count": null,
   "id": "2f4d7eaf",
   "metadata": {},
   "outputs": [],
   "source": [
    "hoc_file = 'simneurostim/model/hoc/L5.hoc'\n",
    "hoc_label = 'L5'\n",
    "ChR2_distribution = 'shemesh_supfig9b_exp_yoff'\n",
    "gen_cell_collection_and_save(\n",
    "    hoc_file, ChR2_distribution, ChR_expression=chanrhod_expression, clim=clim_L5,\n",
    "    filename='paper/figdata/fig3_expressionplots_'+hoc_label+'_'+ChR2_distribution+'_newChRdistrib.pickle')"
   ]
  },
  {
   "cell_type": "code",
   "execution_count": null,
   "id": "910eb518",
   "metadata": {},
   "outputs": [],
   "source": [
    "hoc_file = 'simneurostim/model/hoc/L5.hoc'\n",
    "hoc_label = 'L5'\n",
    "ChR2_distribution = 'shemesh_supfig9b_exp_lin_yoff'\n",
    "gen_cell_collection_and_save(\n",
    "    hoc_file, ChR2_distribution, ChR_expression=chanrhod_expression, clim=clim_L5,\n",
    "    filename='paper/figdata/fig3_expressionplots_'+hoc_label+'_'+ChR2_distribution+'_newChRdistrib.pickle')"
   ]
  },
  {
   "cell_type": "code",
   "execution_count": 3,
   "id": "f9c0bda1-64c0-44ec-bc86-3df3db1d9069",
   "metadata": {},
   "outputs": [
    {
     "name": "stdout",
     "output_type": "stream",
     "text": [
      "\t1 \n",
      "\t1 \n",
      "\t1 \n",
      "\t1 \n",
      "Warning: Parameter cortical_depth not given when cell was initialized. The parameter was set to 1150.000000 um.\n",
      "----------------------------------------------------------------------------------------------------\n",
      "DATA RANGE:  -0.0 13000000000.0\n"
     ]
    }
   ],
   "source": [
    "# generate cell plot in complete black to lay under strict targeting plot which is incomplete due to masked sections becasue of lognorm when density=0\n",
    "hoc_file = 'simneurostim/model/hoc/L5.hoc'\n",
    "hoc_label = 'L5black'\n",
    "ChR2_distribution = 'shemesh_supfig9b_exp_lin_yoff'\n",
    "gen_cell_collection_and_save(\n",
    "    hoc_file, ChR2_distribution, ChR_expression=chanrhod_expression, clim=clim_L5, uniform_color='black',\n",
    "    filename='paper/figdata/fig3_expressionplots_'+hoc_label+'_'+ChR2_distribution+'_newChRdistrib.pickle')"
   ]
  },
  {
   "cell_type": "code",
   "execution_count": null,
   "id": "6f9eac9b",
   "metadata": {},
   "outputs": [],
   "source": [
    "L23 uniform   51414827383\n",
    "L5  uniform   13000000536\n",
    "L23 targeted 286106480864\n",
    "L5  targeted 126591706487\n"
   ]
  },
  {
   "cell_type": "markdown",
   "id": "09389233",
   "metadata": {},
   "source": [
    "## area of L23 neuron"
   ]
  },
  {
   "cell_type": "code",
   "execution_count": null,
   "id": "4271c4c6",
   "metadata": {},
   "outputs": [],
   "source": [
    "from neuron import h\n",
    "area = 0\n",
    "for sec in h.allsec():\n",
    "    for seg in sec:\n",
    "        area += seg.area()\n",
    "area"
   ]
  },
  {
   "cell_type": "markdown",
   "id": "0fa6e8b5",
   "metadata": {},
   "source": [
    "## area of L5 neuron"
   ]
  },
  {
   "cell_type": "code",
   "execution_count": null,
   "id": "be5e6575",
   "metadata": {},
   "outputs": [],
   "source": [
    "from neuron import h\n",
    "area = 0\n",
    "for sec in h.allsec():\n",
    "    for seg in sec:\n",
    "        area += seg.area()\n",
    "area"
   ]
  },
  {
   "cell_type": "code",
   "execution_count": null,
   "id": "ee4ca3c7",
   "metadata": {},
   "outputs": [],
   "source": [
    "from neuron import h\n",
    "h.dend11[0](0.5).channel_density_chanrhod"
   ]
  },
  {
   "cell_type": "code",
   "execution_count": null,
   "id": "80e0d853",
   "metadata": {},
   "outputs": [],
   "source": [
    "list(h.allsec())"
   ]
  },
  {
   "cell_type": "markdown",
   "id": "2803e91f",
   "metadata": {},
   "source": [
    "# print neuron plots in single color (execute separately):"
   ]
  },
  {
   "cell_type": "code",
   "execution_count": null,
   "id": "b3b0d6dd",
   "metadata": {},
   "outputs": [],
   "source": [
    "# cd to base directory of this repository to enable the loading of NEURON simulations\n",
    "import os\n",
    "os.chdir('/home/david/Projects/optogenetic_whole_cell_activation/morph_impact_on_opt_stim')\n",
    "\n",
    "# colors\n",
    "poster_color='#08306bff'\n",
    "c1 = '#3f51b5'\n",
    "c2 = '#f44336'\n",
    "c3 = '#4caf50'\n",
    "c4 = '#ffa000'\n",
    "\n",
    "# plot params\n",
    "scaling_neurons = 1\n",
    "\n",
    "neuron_color = c1\n",
    "\n",
    "import pickle\n",
    "from optostim.cell import Cell\n",
    "L23 = Cell('model/hoc/L23.hoc')\n",
    "collectionL23 = L23.plot_foutz2012(\n",
    "    func=lambda x:1, axes='xz',scaling = scaling_neurons, segfunc=False, clim=None,cmap=None,color=poster_color, shift_x=0)\n",
    "L5 = Cell('model/hoc/L5.hoc')\n",
    "collectionL5 = L5.plot_foutz2012(\n",
    "    func=lambda x:1, axes='xz',scaling = scaling_neurons, segfunc=False, clim=None,cmap=None,color=poster_color, shift_x=0)\n",
    "\n",
    "with open('paper/figdata/L5_1color.pickle', 'wb') as file:\n",
    "      pickle.dump(collectionL5, file)\n",
    "        \n",
    "with open('paper/figdata/L23_1color.pickle', 'wb') as file:\n",
    "      pickle.dump(collectionL23, file)"
   ]
  },
  {
   "cell_type": "markdown",
   "id": "3bd71d23",
   "metadata": {},
   "source": [
    "## neurons in single color from above:"
   ]
  },
  {
   "cell_type": "code",
   "execution_count": null,
   "id": "d43ec965",
   "metadata": {},
   "outputs": [],
   "source": [
    "# cd to base directory of this repository to enable the loading of NEURON simulations\n",
    "import os\n",
    "os.chdir('/home/david/Projects/optogenetic_whole_cell_activation/morph_impact_on_opt_stim')\n",
    "\n",
    "# colors\n",
    "poster_color='#08306bff'\n",
    "c1 = '#3f51b5'\n",
    "c2 = '#f44336'\n",
    "c3 = '#4caf50'\n",
    "c4 = '#ffa000'\n",
    "\n",
    "# plot params\n",
    "scaling_neurons = 1\n",
    "\n",
    "neuron_color = c1\n",
    "\n",
    "import pickle\n",
    "from optostim.cell import Cell\n",
    "L23 = Cell('model/hoc/L23.hoc')\n",
    "collectionL23 = L23.plot_foutz2012(\n",
    "    func=lambda x:1, axes='xy',scaling = scaling_neurons, segfunc=False, clim=None,cmap=None,color=poster_color, shift_x=0)\n",
    "L5 = Cell('model/hoc/L5.hoc')\n",
    "collectionL5 = L5.plot_foutz2012(\n",
    "    func=lambda x:1, axes='xy',scaling = scaling_neurons, segfunc=False, clim=None,cmap=None,color=poster_color, shift_x=0)\n",
    "\n",
    "with open('paper/figdata/L5_1color_xy.pickle', 'wb') as file:\n",
    "      pickle.dump(collectionL5, file)\n",
    "        \n",
    "with open('paper/figdata/L23_1color_xy.pickle', 'wb') as file:\n",
    "      pickle.dump(collectionL23, file)"
   ]
  }
 ],
 "metadata": {
  "kernelspec": {
   "display_name": "Python 3",
   "language": "python",
   "name": "python3"
  },
  "language_info": {
   "codemirror_mode": {
    "name": "ipython",
    "version": 3
   },
   "file_extension": ".py",
   "mimetype": "text/x-python",
   "name": "python",
   "nbconvert_exporter": "python",
   "pygments_lexer": "ipython3",
   "version": "3.6.13"
  }
 },
 "nbformat": 4,
 "nbformat_minor": 5
}
