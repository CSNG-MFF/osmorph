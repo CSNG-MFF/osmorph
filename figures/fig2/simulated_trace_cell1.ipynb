{
 "cells": [
  {
   "cell_type": "code",
   "execution_count": 1,
   "id": "b7d1c77f",
   "metadata": {},
   "outputs": [],
   "source": [
    "import matplotlib\n",
    "matplotlib.use('SVG')\n",
    "# cd to base directory of this repository to enable the loading of NEURON simulations\n",
    "import os\n",
    "os.chdir('/home/david/Projects/osmorph/')\n",
    "import numpy as np\n",
    "import pandas as pd\n",
    "from neuron import h\n",
    "from neurostim.cell import Cell\n",
    "from neurostim.models import L5_catV1\n",
    "from neurostim.stimulator import Stimulator\n",
    "from neurostim.simulation import SimControl\n",
    "from neurostim.utils import convert_polar_to_cartesian_xz, interpolate\n",
    "import matplotlib.pyplot as plt"
   ]
  },
  {
   "cell_type": "code",
   "execution_count": 2,
   "id": "81cb1a86",
   "metadata": {},
   "outputs": [
    {
     "name": "stdout",
     "output_type": "stream",
     "text": [
      "\t1 \n",
      "\t1 \n",
      "\t1 \n",
      "\t1 \n"
     ]
    }
   ],
   "source": [
    "# model config 1 ---- *** DO NOT RERUN ***\n",
    "# NEURON simulator setup is corrupted if reinitialized in a running kernel, rerun complete notebook\n",
    "\n",
    "# NEURON setup\n",
    "h.load_file(\"stdrun.hoc\")\n",
    "h.cvode_active(1)\n",
    "\n",
    "# load cell and create stimulation object\n",
    "cell = Cell(\n",
    "    model = eval('L5_catV1()'),\n",
    "    ChR_soma_density=13e9,\n",
    "    ChR_distribution='uniform'\n",
    ")\n",
    "\n",
    "# init stimulator\n",
    "stimulator = Stimulator(\n",
    "    diameter_um=200,\n",
    "    NA=0.22,\n",
    ")\n",
    "# init simulation\n",
    "simcontrol = SimControl(cell=cell, stimulator=stimulator)"
   ]
  },
  {
   "cell_type": "code",
   "execution_count": 3,
   "id": "13982f96-d31d-4e5f-b640-8be3a108a925",
   "metadata": {},
   "outputs": [],
   "source": [
    "# need to simulate at different intensities:\n",
    "def simulate(intensity):\n",
    "    sim_data = simcontrol.run(\n",
    "        temp_protocol=dict(\n",
    "            duration_ms=250,\n",
    "            delay_ms=290,\n",
    "            total_rec_time_ms=800\n",
    "        ),\n",
    "        stim_location=(0,0,0),\n",
    "        stim_intensity_mWPERmm2=intensity,\n",
    "        rec_vars = [['time [ms]', 'V_soma(0.5) [mV]'],\n",
    "                    ['h._ref_t', 'h.soma(0.5)._ref_v']],\n",
    "        interpol_dt_ms=0.1\n",
    "    )\n",
    "    return sim_data\n",
    "\n",
    "# need to create trace plot\n",
    "def plot(data):\n",
    "    intensities = data.reset_index().intensity.unique()\n",
    "    l_ = len(intensities)\n",
    "    fig, axs = plt.subplots(nrows=len(intensities), figsize=(4,2))\n",
    "    for i, intensity in enumerate(intensities):\n",
    "        measurement = data.loc[intensity]\n",
    "        axs[l_-1-i].plot(measurement['time [ms]'],measurement['V_soma(0.5) [mV]'], \n",
    "                      color='black', lw=0.5)\n",
    "        axs[l_-1-i].set_ylim(-90,50)\n",
    "        axs[l_-1-i].set_xlim(0,800)\n",
    "        # Hide the right and top spines\n",
    "        for pos in ['bottom', 'left', 'right', 'top']:\n",
    "            axs[l_-1-i].spines[pos].set_visible(False)\n",
    "    for ax in axs:\n",
    "        ax.set_xticks([])\n",
    "        ax.set_yticks([])\n",
    "    return fig, axs    "
   ]
  },
  {
   "cell_type": "code",
   "execution_count": 4,
   "id": "10ca3543-c5a4-4a5d-9329-1b44229771c3",
   "metadata": {},
   "outputs": [
    {
     "name": "stdout",
     "output_type": "stream",
     "text": [
      "Experimental data photon intensity steps:\n",
      "Cell 1:\n",
      "[1.0, 50.0, 250.0, 750.0]\n"
     ]
    }
   ],
   "source": [
    "# Photon intensities in experimental data are:\n",
    "photon_intensities_cell1 = [4e14, 2e16, 1e17, 3e17] # panel A top\n",
    "norm_int_cell1 = [i/photon_intensities_cell1[0] for i in photon_intensities_cell1]\n",
    "print(\"Experimental data photon intensity steps:\")\n",
    "print(\"Cell 1:\")\n",
    "print(norm_int_cell1)"
   ]
  },
  {
   "cell_type": "code",
   "execution_count": 5,
   "id": "b6c449d0-60a4-4957-b122-a4c12c428ac4",
   "metadata": {},
   "outputs": [],
   "source": [
    "# scale factor needed to account for different light losses in the experimental setup vs virtual setup underlying the compuatational model\n",
    "# (found through testing to yield similar stimulation characterisitcs)\n",
    "intensity_scale = 1.8\n",
    "intensities1 = np.array(norm_int_cell1) * intensity_scale\n",
    "data = []\n",
    "for intensity in intensities1:\n",
    "    tmp = simulate(intensity)\n",
    "    tmp['intensity'] = intensity\n",
    "    data.append(tmp)\n",
    "plot(pd.concat(data).set_index(['intensity']))\n",
    "plt.savefig('figures/fig2/simulated_traces_1.svg')"
   ]
  },
  {
   "cell_type": "code",
   "execution_count": 6,
   "id": "4a790a70-0ae0-480a-bc28-604a0f91a181",
   "metadata": {},
   "outputs": [
    {
     "name": "stdout",
     "output_type": "stream",
     "text": [
      "intensities1 [cm-2s-1] ------------\n",
      "5.9E+15\n",
      "2.9E+17\n",
      "1.5E+18\n",
      "4.4E+18\n"
     ]
    }
   ],
   "source": [
    "def convert_input_intensity_to_soma_photon_intensity(intensity):\n",
    "    \"\"\" input intensity at source in mW/mm2/s\n",
    "        output intensity at soma in photons/cm2/s\n",
    "    \"\"\"\n",
    "    light_power = intensity * 0.1**2 * np.pi *1e-3 # light power in W\n",
    "    light_source = Stimulator(\n",
    "        diameter_um=200,\n",
    "        NA=0.22,\n",
    "    )\n",
    "    input_power_to_soma_intensity_factor = light_source.calculate_Tx_at_pos(\n",
    "        [0,0,0],[0,0,h.soma(0.5).z_chanrhod])\n",
    "    # photon energy:\n",
    "    h_planck = 6.62607015e-34 #Js\n",
    "    lamda = 450e-9\n",
    "    c = 3e8\n",
    "    E_photon = h_planck * c/lamda\n",
    "    return light_power * input_power_to_soma_intensity_factor / E_photon\n",
    "    \n",
    "\n",
    "print('intensities1 [cm-2s-1]','------------')\n",
    "for i in intensities1:\n",
    "    print('{:.1E}'.format(convert_input_intensity_to_soma_photon_intensity(i)))"
   ]
  },
  {
   "cell_type": "code",
   "execution_count": 1,
   "id": "3e38aa58-54e9-4341-9136-85908694d58d",
   "metadata": {},
   "outputs": [
    {
     "data": {
      "text/plain": [
       "14.75"
      ]
     },
     "execution_count": 1,
     "metadata": {},
     "output_type": "execute_result"
    }
   ],
   "source": [
    "5.9e15/4e14"
   ]
  }
 ],
 "metadata": {
  "kernelspec": {
   "display_name": "Python 3",
   "language": "python",
   "name": "python3"
  },
  "language_info": {
   "codemirror_mode": {
    "name": "ipython",
    "version": 3
   },
   "file_extension": ".py",
   "mimetype": "text/x-python",
   "name": "python",
   "nbconvert_exporter": "python",
   "pygments_lexer": "ipython3",
   "version": "3.6.13"
  }
 },
 "nbformat": 4,
 "nbformat_minor": 5
}
