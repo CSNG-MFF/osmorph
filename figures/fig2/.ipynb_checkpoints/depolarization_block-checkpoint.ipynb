{
 "cells": [
  {
   "cell_type": "code",
   "execution_count": 1,
   "id": "b7d1c77f",
   "metadata": {},
   "outputs": [],
   "source": [
    "# cd to base directory of this repository to enable the loading of NEURON simulations\n",
    "import os\n",
    "os.chdir('/home/david/Projects/optogenetic_whole_cell_activation/morph_impact_on_opt_stim')\n",
    "import numpy as np\n",
    "import pandas as pd\n",
    "from neuron import h\n",
    "from neurostim.cell import Cell\n",
    "from neurostim.light_classes import LightSource, LightStimulation\n",
    "from neurostim.utils import convert_polar_to_cartesian_xz, interpolate\n",
    "from neurostim.polarmaps import get_AP_times\n",
    "import matplotlib.pyplot as plt"
   ]
  },
  {
   "cell_type": "markdown",
   "id": "dae151f5",
   "metadata": {},
   "source": [
    "### Model Configuration\n",
    "* cell type (loaded from \".hoc\" file)\n",
    "    * L5: 'L5.hoc' or L23: 'L23.hoc'\n",
    "* ChR2 distribution inside cell\n",
    "    * uniform: 'uniform'\n",
    "    * soft soma targeting: 'shemesh_supfig9b_exp_yoff'\n",
    "    * strict soma targeting: 'shemesh_supfig9b_exp_lin_yoff'\n",
    "* ChR2 expression level (number ChR2 molecules in neuron's membrane)\n",
    "    * typical number for L5 size (Foutz et al 2012): 10354945, is automatically scaled if 'L23.hoc' is selected\n",
    "* cell depth in cortex (distance cortical surface - soma), [um]\n",
    "    * {'L23': 400, 'L5': 1170}\n",
    "* light model\n",
    "    * currently only feasible model is for optical fiber [Foutz et al 2012]: 'foutz_et_al2012'\n",
    "* optical fiber diameter\n",
    "    * e.g. 25, 50, 100, 200, 400, um\n",
    "* numerical aperture of fiber (changes beam divergence)\n",
    "    * e.g. 0.1, 0.22, 0.39, 0.5\n",
    "* light power [mW]\n",
    "    * e.g. 1e-5 to 1e-2\n",
    "* light duration [ms]\n",
    "    * e.g. 30ms or 200ms\n",
    "* position of light source on the cortical surface relative to soma of the neuron\n",
    "    * radial distance: radius [um]\n",
    "    * angle\n",
    "\n",
    "## other parameters (meta params for simulation, analysis params etc.)\n",
    "* total recording time of simulation\n",
    "* AP threshold: threshold defining an action potential: 0mV\n",
    "* light delay: 1ms (stim onset after simulation start)\n",
    "* interpol_dt: 0.1ms (interpolation time for simulation results as simulation has adaptive steps)"
   ]
  },
  {
   "cell_type": "code",
   "execution_count": 2,
   "id": "81cb1a86",
   "metadata": {},
   "outputs": [
    {
     "name": "stdout",
     "output_type": "stream",
     "text": [
      "\t1 \n",
      "\t1 \n",
      "\t1 \n",
      "\t1 \n"
     ]
    }
   ],
   "source": [
    "# model config 1 ---- *** DO NOT RERUN ***\n",
    "# NEURON simulator setup is corrupted if reinitialized in a running kernel, rerun complete notebook\n",
    "\n",
    "# neuron model\n",
    "hoc_file = 'L5'\n",
    "# cortical depth of neuron models\n",
    "cortical_depth = {'L23': 400, 'L5': 1170} #um\n",
    "\n",
    "# ChR2 expression distribution and level\n",
    "chanrhod_distribution = 'uniform' \n",
    "chanrhod_soma_density = 13e9 # 1/cm2\n",
    "\n",
    "# NEURON setup\n",
    "h.load_file(\"stdrun.hoc\")\n",
    "h.cvode_active(1)\n",
    "# load cell and create stimulation object\n",
    "cell = Cell(\n",
    "    hoc_file=\"simneurostim/model/hoc/\" + str(hoc_file) + \".hoc\",\n",
    "    cortical_depth=cortical_depth,\n",
    "    ChR_soma_density=float(chanrhod_soma_density),\n",
    "    ChR_distribution=str(chanrhod_distribution),\n",
    "    rm_mech_from_secs=None,\n",
    "    delete_all_secs_except_soma=False)"
   ]
  },
  {
   "cell_type": "code",
   "execution_count": 3,
   "id": "01330134",
   "metadata": {},
   "outputs": [],
   "source": [
    "# model config 2 (can be adapted and rerun without restarting notebook kernel)\n",
    "\n",
    "def simulate(light_power, light_duration=250, radius=0, angle=0, fiber_NA=0.22, fiber_diameter=200):\n",
    "\n",
    "    # light source model \n",
    "    light_model = 'foutz_et_al2012'\n",
    "\n",
    "    # other params\n",
    "    light_delay = 350 #ms\n",
    "    tot_rec_time = 800\n",
    "    AP_threshold = 0 # mV\n",
    "    interpol_dt = 0.1 # ms\n",
    "\n",
    "    # light source initialization\n",
    "    light_x, light_y = convert_polar_to_cartesian_xz(radius, angle)\n",
    "    light_z = 0  # cortical surface\n",
    "    light_pos = (light_x, light_y, light_z)\n",
    "    light_source = LightSource(\n",
    "        model=str(light_model),\n",
    "        position=(light_x, light_y, light_z),\n",
    "        width=float(fiber_diameter),\n",
    "        NA=float(fiber_NA)\n",
    "    )\n",
    "    # stimulation object initialization\n",
    "    light_stim = LightStimulation(\n",
    "        cell=cell,\n",
    "        light_source=light_source,\n",
    "        delay=float(light_delay),\n",
    "        duration=float(light_duration),\n",
    "        light_power=float(light_power),\n",
    "        record_all_segments=False,\n",
    "    )\n",
    "    # simulate\n",
    "    measurement = pd.DataFrame(\n",
    "        light_stim.simulate_and_measure(\n",
    "            tot_rec_time=float(tot_rec_time),\n",
    "            extra_rec_var_names=['Ina','Ik','Ica','I_chanrhod','gdens1_chanrhod'],\n",
    "            extra_rec_var_pointers=[h.soma(0.5)._ref_ina, h.soma(0.5)._ref_ik, h.soma(0.5)._ref_ica, \n",
    "                                    h.soma(0.5)._ref_icat_chanrhod, h.soma(0.5)._ref_gdens1_chanrhod]\n",
    "        )\n",
    "    )\n",
    "    # dealing with drop full row duplicates\n",
    "    # drop completely redundant duplicates\n",
    "    measurement = measurement.drop_duplicates()\n",
    "    # add 1e-12 ms to 2nd entry time point of duplicate entries with the same time but different (e.g. Vm) values\n",
    "    measurement.loc[measurement[\"time [ms]\"].diff() == 0, \"time [ms]\"] += 1e-12\n",
    "    # interpolate simulation results\n",
    "    measurement = interpolate(\n",
    "        df=measurement, interpolation_dt=float(interpol_dt)\n",
    "    )\n",
    "    # extract spike times\n",
    "    AP_times = get_AP_times(\n",
    "        df=measurement,\n",
    "        interpol_dt=float(interpol_dt),\n",
    "        t_on=float(light_delay),\n",
    "        AP_threshold=AP_threshold\n",
    "    )\n",
    "    return measurement, AP_times\n",
    "\n",
    "def simulate_and_plot(light_power, light_duration=200, radius=0, angle=0, fiber_NA=0.22, fiber_diameter=200):\n",
    "\n",
    "    measurement, AP_times = simulate(\n",
    "        light_power, light_duration, \n",
    "        radius, angle, \n",
    "        fiber_NA, fiber_diameter)\n",
    "    \n",
    "    def plot_membrane_voltage_currents_spikes(measurement, xlim, ylim):\n",
    "        fig, axs = plt.subplots(2,1,figsize=(15,8))\n",
    "        axs[0].plot(measurement['time [ms]'],measurement['V_soma(0.5)'], label='soma measurement')\n",
    "        axs[0].set_ylabel('V_m [mV]')\n",
    "        axs[0].axhline(-71,label='rest', color='tab:red')\n",
    "        #axs[0].axhline(-90,label='equilibrium - potassium (given in L5.hoc)', color='tab:green')\n",
    "        axs[0].legend()\n",
    "        axs[0].set_ylim(-80,50)\n",
    "\n",
    "        for x in get_AP_times(\n",
    "                df=measurement,\n",
    "                interpol_dt=float(interpol_dt),\n",
    "                t_on=float(light_delay),\n",
    "                AP_threshold=AP_threshold\n",
    "            ):\n",
    "            axs[1].axvline(x, color='tab:brown')\n",
    "        axs[1].plot(measurement['time [ms]'],measurement['Ina'], label='Ina')\n",
    "        axs[1].plot(measurement['time [ms]'],measurement['Ik'], label='Ik')\n",
    "        axs[1].plot(measurement['time [ms]'],measurement['Ica'], label='Ica')\n",
    "        axs[1].plot(measurement['time [ms]'],measurement['I_chanrhod'], label='I_chanrhod')\n",
    "        axs[1].set_xlabel('time [ms]')\n",
    "        axs[1].set_ylabel('current mA/cm2')\n",
    "        [ax.set_xlim(*xlim) for ax in axs]\n",
    "        axs[1].set_ylim(*ylim)\n",
    "        axs[1].legend(loc='center right')\n",
    "        return fig, axs\n",
    "    fig, axs = plot_membrane_voltage_currents_spikes(measurement, xlim=[0,250], ylim=[-0.4,0.4])\n",
    "    axs[0].set_title('elicited spikes (>0mV): '+str(len(AP_times)))\n",
    "    plt.show()\n",
    "\n",
    "    # light power at position in W/cm2\n",
    "    print('light intensity [W/cm2]')\n",
    "    print('-----------------------')\n",
    "    print('soma: 1000 µm: ' ,np.round(light_source.calculate_Tx_at_pos([h.soma(0.5).x_chanrhod, h.soma(0.5).y_chanrhod, h.soma(0.5).z_chanrhod]),3))\n",
    "\n",
    "    print('apical 100 µm: ' ,np.round(light_source.calculate_Tx_at_pos([h.soma(0.5).x_chanrhod, h.soma(0.5).y_chanrhod, 100]),3))\n",
    "\n",
    "    print('average at fiber output: ', light_power/(np.pi*(fiber_diameter*1e-4/2)**2))\n",
    "    return measurement"
   ]
  },
  {
   "cell_type": "code",
   "execution_count": 4,
   "id": "4a790a70-0ae0-480a-bc28-604a0f91a181",
   "metadata": {},
   "outputs": [],
   "source": [
    "#photons/cm2/s\n",
    "# wavelength 450\n",
    "# 8 x 10**16\n",
    "\n",
    "\n",
    "# light intensity at level of the retina\n",
    "def convert_photons_to_intensity(n_photons):\n",
    "    h_planck = 6.62607015e-34 #Js\n",
    "    lamda = 450e-9\n",
    "    c = 3e8\n",
    "    E_photon = h_planck * c/lamda\n",
    "    return n_photons * E_photon\n",
    "\n",
    "def convert_input_power_to_soma_photon_intensity(light_power):\n",
    "    light_source = LightSource(\n",
    "        model='foutz_et_al2012',\n",
    "        position=(0, 0, 0),\n",
    "        width=200,\n",
    "        NA=0.22\n",
    "    )\n",
    "    input_power_to_soma_intensity_factor = light_source.calculate_Tx_at_pos(\n",
    "        [0,0,h.soma(0.5).z_chanrhod])\n",
    "    # photon energy:\n",
    "    h_planck = 6.62607015e-34 #Js\n",
    "    lamda = 450e-9\n",
    "    c = 3e8\n",
    "    E_photon = h_planck * c/lamda\n",
    "    return light_power * input_power_to_soma_intensity_factor / E_photon\n",
    "    \n",
    "\n",
    "photon_intensities = [4e14, 2e16, 1e17, 3e17]"
   ]
  },
  {
   "cell_type": "code",
   "execution_count": 5,
   "id": "d9bc5436-d274-48c5-87a3-6bd6612e83c7",
   "metadata": {},
   "outputs": [],
   "source": [
    "k = 1/3\n",
    "results = dict()\n",
    "simulated_light_powers = dict()\n",
    "for pi in photon_intensities:\n",
    "    lp = k*convert_photons_to_intensity(pi)\n",
    "    simulated_light_powers[pi] = lp\n",
    "    measurement, AP_times = simulate(light_power=lp)\n",
    "    results[pi] = measurement"
   ]
  },
  {
   "cell_type": "code",
   "execution_count": 6,
   "id": "8fce2b40-3b10-4421-bf4a-8ebd3a3cb2a1",
   "metadata": {},
   "outputs": [
    {
     "data": {
      "image/png": "[encoded data removed]",
      "text/plain": [
       "<Figure size 238.176x190.541 with 4 Axes>"
      ]
     },
     "metadata": {
      "needs_background": "light"
     },
     "output_type": "display_data"
    }
   ],
   "source": [
    "# dimensions (A4:  8.27 x 11.69 inches)\n",
    "text_frac = 0.8\n",
    "abs_pw = 8.27 # pagewidth\n",
    "abs_pl = 11.69 # pagelength\n",
    "pw = text_frac * abs_pw\n",
    "pl = text_frac * abs_pl\n",
    "\n",
    "# others\n",
    "dpi=900\n",
    "\n",
    "fig, axs = plt.subplots(4,1,figsize=(pw/2,pw/2.5))\n",
    "for i, pi in enumerate(photon_intensities):\n",
    "    measurement = results[pi]\n",
    "    axs[3-i].plot(measurement['time [ms]'],measurement['V_soma(0.5)'], \n",
    "                  label='soma measurement', color='black', lw=0.5)\n",
    "    #axs[3-i].set_ylabel('V_m [mV]')\n",
    "    axs[3-i].set_ylim(-90,50)\n",
    "    axs[3-i].set_xlim(0,800)\n",
    "    # Hide the right and top spines\n",
    "    axs[3-i].spines['right'].set_visible(False)\n",
    "    axs[3-i].spines['top'].set_visible(False)\n",
    "    axs[3-i].set_yticks([-70,0])\n",
    "    axs[3-i].set_yticks([-90,-80,-60,-50,-40,-30,-20,-10,10,20,30,40,50], minor=True)\n",
    "    axs[3-i].text(0.1, 0.6, '{:.1E}'.format(\n",
    "        convert_input_power_to_soma_photon_intensity(simulated_light_powers[pi])\n",
    "    ), transform=axs[3-i].transAxes)\n",
    "axs[0].set_xticklabels([])\n",
    "axs[1].set_xticklabels([])\n",
    "axs[2].set_xticklabels([])\n",
    "\n",
    "fig.savefig('paper/NEW_FIGURES/FIG_depoblock/simulated_traces.png', dpi=dpi, \n",
    "            facecolor=None, edgecolor=None,  \n",
    "            bbox_inches='tight')"
   ]
  },
  {
   "cell_type": "code",
   "execution_count": 7,
   "id": "a7da0c8b-7db4-42ef-bc90-ec8a804dcc91",
   "metadata": {},
   "outputs": [
    {
     "data": {
      "text/plain": [
       "15.333333333333334"
      ]
     },
     "execution_count": 7,
     "metadata": {},
     "output_type": "execute_result"
    }
   ],
   "source": [
    "4.6e18/(3e17)"
   ]
  },
  {
   "cell_type": "code",
   "execution_count": 8,
   "id": "7bb2ff56-0976-4047-bcc7-f51572aa856f",
   "metadata": {},
   "outputs": [
    {
     "name": "stdout",
     "output_type": "stream",
     "text": [
      "6.13333E+15\n",
      "3.06667E+17\n",
      "1.53333E+18\n",
      "4.60000E+18\n",
      "conversion factor:  15.333333333333332\n"
     ]
    }
   ],
   "source": [
    "for pi in photon_intensities:\n",
    "    print('{:.5E}'.format(pi*k*46))\n",
    "print('conversion factor: ', k*46)    "
   ]
  }
 ],
 "metadata": {
  "kernelspec": {
   "display_name": "Python 3",
   "language": "python",
   "name": "python3"
  },
  "language_info": {
   "codemirror_mode": {
    "name": "ipython",
    "version": 3
   },
   "file_extension": ".py",
   "mimetype": "text/x-python",
   "name": "python",
   "nbconvert_exporter": "python",
   "pygments_lexer": "ipython3",
   "version": "3.6.13"
  }
 },
 "nbformat": 4,
 "nbformat_minor": 5
}
