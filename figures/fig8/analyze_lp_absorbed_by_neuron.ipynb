{
 "cells": [
  {
   "cell_type": "code",
   "execution_count": 15,
   "id": "874eda2c-9dab-45e4-b717-f04605add812",
   "metadata": {},
   "outputs": [],
   "source": [
    "# cd to base directory of this repository to enable the loading of NEURON simulations\n",
    "import os\n",
    "os.chdir('/home/david/Projects/optogenetic_whole_cell_activation/morph_impact_on_opt_stim')\n",
    "from neuron import h\n",
    "from neurostim.cell import Cell\n",
    "from neurostim.light_classes import LightSource, LightStimulation\n",
    "from neurostim.utils import convert_polar_to_cartesian_xz, interpolate\n",
    "from neurostim.polarmaps import get_AP_times, simple_polar_map\n",
    "import pickle\n",
    "import matplotlib.pyplot as plt\n",
    "import numpy as np\n",
    "from matplotlib.colors import BoundaryNorm\n",
    "from matplotlib.cm import jet as cmap\n",
    "import matplotlib\n",
    "from neurostim.light_propagation_models import foutz_et_al2012\n",
    "import pickle\n",
    "import pandas as pd\n",
    "from matplotlib import rc\n",
    "rc('font',**{'family':'sans-serif','sans-serif':['Arial']})\n",
    "\n",
    "# NEURON setup\n",
    "h.load_file(\"stdrun.hoc\")\n",
    "h.cvode_active(1)\n",
    "# load cell and create stimulation object\n",
    "hoc_file = 'L5'\n",
    "chanrhod_expression = 13e9\n",
    "chanrhod_distribution = 'uniform'\n",
    "cortical_depth = {'L5':1170}\n",
    "    \n",
    "cell = Cell(\n",
    "    hoc_file=\"simneurostim/model/hoc/\" + str(hoc_file) + \".hoc\",\n",
    "    cortical_depth=cortical_depth,\n",
    "    ChR_soma_density=float(chanrhod_expression),\n",
    "    ChR_distribution=str(chanrhod_distribution),\n",
    "    rm_mech_from_secs=None,\n",
    "    delete_all_secs_except_soma=False\n",
    ")"
   ]
  },
  {
   "cell_type": "code",
   "execution_count": 11,
   "id": "25275498-bf18-4be6-bbd5-3351f2ee3aaf",
   "metadata": {},
   "outputs": [],
   "source": [
    "# dimensions (A4:  8.27 x 11.69 inches)\n",
    "text_frac = 0.8\n",
    "abs_pw = 8.27 # pagewidth\n",
    "abs_pl = 11.69 # pagelength\n",
    "pw = text_frac * abs_pw\n",
    "pl = text_frac * abs_pl\n",
    "\n",
    "# others\n",
    "dpi=900"
   ]
  },
  {
   "cell_type": "code",
   "execution_count": 9,
   "id": "b7db8e7d-5360-4536-ac6b-10aaf1a50f1d",
   "metadata": {},
   "outputs": [
    {
     "name": "stdout",
     "output_type": "stream",
     "text": [
      "1\n"
     ]
    },
    {
     "name": "stderr",
     "output_type": "stream",
     "text": [
      "/home/david/Software/miniconda3/envs/mioos/lib/python3.6/site-packages/pandas/core/indexing.py:670: SettingWithCopyWarning: \n",
      "A value is trying to be set on a copy of a slice from a DataFrame\n",
      "\n",
      "See the caveats in the documentation: https://pandas.pydata.org/pandas-docs/stable/user_guide/indexing.html#returning-a-view-versus-a-copy\n",
      "  iloc._setitem_with_indexer(indexer, value)\n",
      "/home/david/Software/miniconda3/envs/mioos/lib/python3.6/site-packages/pandas/core/indexing.py:670: SettingWithCopyWarning: \n",
      "A value is trying to be set on a copy of a slice from a DataFrame\n",
      "\n",
      "See the caveats in the documentation: https://pandas.pydata.org/pandas-docs/stable/user_guide/indexing.html#returning-a-view-versus-a-copy\n",
      "  iloc._setitem_with_indexer(indexer, value)\n"
     ]
    },
    {
     "name": "stdout",
     "output_type": "stream",
     "text": [
      "1\n"
     ]
    },
    {
     "name": "stderr",
     "output_type": "stream",
     "text": [
      "/home/david/Software/miniconda3/envs/mioos/lib/python3.6/site-packages/pandas/core/indexing.py:670: SettingWithCopyWarning: \n",
      "A value is trying to be set on a copy of a slice from a DataFrame\n",
      "\n",
      "See the caveats in the documentation: https://pandas.pydata.org/pandas-docs/stable/user_guide/indexing.html#returning-a-view-versus-a-copy\n",
      "  iloc._setitem_with_indexer(indexer, value)\n",
      "/home/david/Software/miniconda3/envs/mioos/lib/python3.6/site-packages/pandas/core/indexing.py:670: SettingWithCopyWarning: \n",
      "A value is trying to be set on a copy of a slice from a DataFrame\n",
      "\n",
      "See the caveats in the documentation: https://pandas.pydata.org/pandas-docs/stable/user_guide/indexing.html#returning-a-view-versus-a-copy\n",
      "  iloc._setitem_with_indexer(indexer, value)\n"
     ]
    },
    {
     "name": "stdout",
     "output_type": "stream",
     "text": [
      "1\n"
     ]
    },
    {
     "name": "stderr",
     "output_type": "stream",
     "text": [
      "/home/david/Software/miniconda3/envs/mioos/lib/python3.6/site-packages/pandas/core/indexing.py:670: SettingWithCopyWarning: \n",
      "A value is trying to be set on a copy of a slice from a DataFrame\n",
      "\n",
      "See the caveats in the documentation: https://pandas.pydata.org/pandas-docs/stable/user_guide/indexing.html#returning-a-view-versus-a-copy\n",
      "  iloc._setitem_with_indexer(indexer, value)\n",
      "/home/david/Software/miniconda3/envs/mioos/lib/python3.6/site-packages/pandas/core/indexing.py:670: SettingWithCopyWarning: \n",
      "A value is trying to be set on a copy of a slice from a DataFrame\n",
      "\n",
      "See the caveats in the documentation: https://pandas.pydata.org/pandas-docs/stable/user_guide/indexing.html#returning-a-view-versus-a-copy\n",
      "  iloc._setitem_with_indexer(indexer, value)\n"
     ]
    }
   ],
   "source": [
    "light_model = 'foutz_et_al2012'\n",
    "light_delay = 10\n",
    "light_duration = 200\n",
    "tot_rec_time = 250\n",
    "\n",
    "diameters = [25, 200, 400]\n",
    "NAs = [0.1, 0.22, 0.5]\n",
    "\n",
    "results = []\n",
    "for diam, NA in zip(diameters,NAs):\n",
    "    print('1')\n",
    "    light_energy_absorbed = []\n",
    "    for radius in np.arange(0,1000,25):\n",
    "        for angle in np.arange(0,2*np.pi,np.pi/8):\n",
    "            # light source initialization\n",
    "            light_x, light_y = convert_polar_to_cartesian_xz(radius, angle)\n",
    "            light_z = 0  # cortical surface\n",
    "            light_pos = (light_x, light_y, light_z)\n",
    "            light_source = LightSource(\n",
    "                model=light_model,\n",
    "                position=(light_x, light_y, light_z),\n",
    "                width=float(diam),\n",
    "                NA=float(NA)\n",
    "            )\n",
    "            # stimulation object initialization\n",
    "            light_stim = LightStimulation(\n",
    "                cell=cell,\n",
    "                light_source=light_source,\n",
    "                delay=1,\n",
    "                duration=200,\n",
    "                light_power=1,\n",
    "                record_all_segments=False,\n",
    "            )\n",
    "            segs, Txs = light_stim.get_segs_Txs()\n",
    "            light_energy_absorbed.append({\n",
    "                'diam': diam,\n",
    "                'NA': NA,\n",
    "                'radius [um]': radius,\n",
    "                'angle [rad]': angle,\n",
    "                'total_light_energy_absorbed': np.sum([seg.area() * Tx for seg, Tx in zip(segs, Txs)]),\n",
    "                'max_seg_light_energy_absorbed': np.max([seg.area() * Tx for seg, Tx in zip(segs, Txs)])\n",
    "            })\n",
    "    lea_df = pd.DataFrame(light_energy_absorbed)\n",
    "    lea_df['total_light_energy_absorbed'] = lea_df['total_light_energy_absorbed'] / lea_df['total_light_energy_absorbed'].max()\n",
    "    lea_df['max_seg_energy_absorbed'] = lea_df['max_seg_light_energy_absorbed'] / lea_df['max_seg_light_energy_absorbed'].max()\n",
    "    lea_df['total_light_energy_absorbed'].loc[lea_df['total_light_energy_absorbed']<=0.001] = np.nan\n",
    "    lea_df['max_seg_energy_absorbed'].loc[lea_df['max_seg_energy_absorbed']<=0.001] = np.nan\n",
    "    results.append(lea_df)"
   ]
  },
  {
   "cell_type": "code",
   "execution_count": 16,
   "id": "bebd59cc-3767-4a8b-9999-22cd781d96f3",
   "metadata": {},
   "outputs": [
    {
     "data": {
      "image/png": "[encoded data removed]",
      "text/plain": [
       "<Figure size 105.856x105.856 with 1 Axes>"
      ]
     },
     "metadata": {},
     "output_type": "display_data"
    },
    {
     "data": {
      "image/png": "[encoded data removed]",
      "text/plain": [
       "<Figure size 105.856x105.856 with 1 Axes>"
      ]
     },
     "metadata": {},
     "output_type": "display_data"
    },
    {
     "data": {
      "image/png": "[encoded data removed]",
      "text/plain": [
       "<Figure size 105.856x105.856 with 1 Axes>"
      ]
     },
     "metadata": {},
     "output_type": "display_data"
    }
   ],
   "source": [
    "for lea_df in results:\n",
    "    # total light energy absorbed by the neuron\n",
    "    fig = plt.figure(constrained_layout=False, figsize=(pw/4.5,pw/4.5))\n",
    "    gs = fig.add_gridspec(nrows=1, ncols=1, left=0.05, right=0.95,\n",
    "                            wspace=0.05)\n",
    "    ax = fig.add_subplot(gs[0,0], projection=\"polar\")\n",
    "    ax, mappable = simple_polar_map(\n",
    "            data=lea_df,\n",
    "            plot_col='total_light_energy_absorbed',\n",
    "            cmap=cmap,\n",
    "            ax=ax,\n",
    "            vmin=0,\n",
    "            vmax=1)\n",
    "    ax.set_xticks([])\n",
    "    ax.set_xticklabels([])\n",
    "    ax.set_yticks([])\n",
    "    ax.set_yticklabels([])\n",
    "    ax.spines['polar'].set_visible(False)\n",
    "    #plt.colorbar(mappable)\n",
    "    #plt.title(str(lp))\n",
    "    #plt.savefig('paper/NEW_FIGURES/FIG2/plots/tmp_total_lea.png', dpi=dpi)\n",
    "    plt.show()"
   ]
  },
  {
   "cell_type": "code",
   "execution_count": null,
   "id": "91e1e6ab-93e9-4f69-9097-39324cd41ec6",
   "metadata": {},
   "outputs": [],
   "source": [
    "# total light energy absorbed by the neuron\n",
    "fig = plt.figure(constrained_layout=False, figsize=(pw/4.5,pw/4.5))\n",
    "gs = fig.add_gridspec(nrows=1, ncols=1, left=0.05, right=0.95,\n",
    "                        wspace=0.05)\n",
    "ax = fig.add_subplot(gs[0,0], projection=\"polar\")\n",
    "ax, mappable = simple_polar_map(\n",
    "        data=lea_df,\n",
    "        plot_col='max_seg_energy_absorbed',\n",
    "        cmap=cmap,\n",
    "        ax=ax,\n",
    "        vmin=0,\n",
    "        vmax=1)\n",
    "ax.set_xticks([])\n",
    "ax.set_xticklabels([])\n",
    "ax.set_yticks([])\n",
    "ax.set_yticklabels([])\n",
    "ax.spines['polar'].set_visible(False)\n",
    "#plt.colorbar(mappable)\n",
    "#plt.title(str(lp))\n",
    "#plt.savefig('paper/NEW_FIGURES/FIG2/plots/tmp_max_seg_lea.png', dpi=dpi)\n",
    "plt.show()"
   ]
  }
 ],
 "metadata": {
  "kernelspec": {
   "display_name": "Python 3",
   "language": "python",
   "name": "python3"
  },
  "language_info": {
   "codemirror_mode": {
    "name": "ipython",
    "version": 3
   },
   "file_extension": ".py",
   "mimetype": "text/x-python",
   "name": "python",
   "nbconvert_exporter": "python",
   "pygments_lexer": "ipython3",
   "version": "3.6.13"
  }
 },
 "nbformat": 4,
 "nbformat_minor": 5
}
