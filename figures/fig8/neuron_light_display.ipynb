{
 "cells": [
  {
   "cell_type": "code",
   "execution_count": 1,
   "id": "8a48708b",
   "metadata": {},
   "outputs": [],
   "source": [
    "import matplotlib.pyplot as plt\n",
    "import numpy as np\n",
    "import pandas as pd\n",
    "from matplotlib import rc\n",
    "rc('font',**{'family':'sans-serif','sans-serif':['Arial']})"
   ]
  },
  {
   "cell_type": "code",
   "execution_count": 2,
   "id": "d187ddf2",
   "metadata": {},
   "outputs": [],
   "source": [
    "# format\n",
    "\n",
    "# dimensions (A4:  8.27 x 11.69 inches)\n",
    "text_frac = 0.8\n",
    "abs_pw = 8.27 # pagewidth\n",
    "abs_pl = 11.69 # pagelength\n",
    "pw = text_frac * abs_pw\n",
    "pl = text_frac * abs_pl\n",
    "\n",
    "# others\n",
    "dpi=600\n",
    "\n",
    "# colors\n",
    "c1 = 'tab:blue'\n",
    "c2 = 'tab:red'"
   ]
  },
  {
   "cell_type": "markdown",
   "id": "1152bb34",
   "metadata": {},
   "source": [
    "# Figure 0"
   ]
  },
  {
   "cell_type": "code",
   "execution_count": 3,
   "id": "e9fe217f",
   "metadata": {},
   "outputs": [
    {
     "data": {
      "image/png": "[encoded data removed]",
      "text/plain": [
       "<Figure size 119.088x269.338 with 1 Axes>"
      ]
     },
     "metadata": {
      "needs_background": "light"
     },
     "output_type": "display_data"
    }
   ],
   "source": [
    "fig = plt.figure(constrained_layout=False, figsize=(pw/4,0.4*pl))\n",
    "gs = fig.add_gridspec(nrows=1, ncols=1, left=0.05, right=0.95,\n",
    "                        wspace=0.05)\n",
    "ax1 = fig.add_subplot(gs[0,0])\n",
    "ax1_ratio = 2"
   ]
  },
  {
   "cell_type": "code",
   "execution_count": 4,
   "id": "4a3875f9",
   "metadata": {},
   "outputs": [
    {
     "name": "stdout",
     "output_type": "stream",
     "text": [
      "\t1 \n",
      "\t1 \n",
      "\t1 \n",
      "\t1 \n",
      "----------------------------------------------------------------------------------------------------\n",
      "DATA RANGE:  1.0 1.0\n",
      "\t0 \n",
      "\t1 \n",
      "\t1 \n",
      "\t1 \n",
      "\t1 \n",
      "\t1 \n",
      "\t1 \n"
     ]
    },
    {
     "name": "stderr",
     "output_type": "stream",
     "text": [
      "/home/david/Projects/optogenetic_whole_cell_activation/morph_impact_on_opt_stim/simneurostim/base-neurostim/neurostim/cell.py:617: RuntimeWarning: invalid value encountered in true_divide\n",
      "  a = (data - clim[0])/(clim[1]-clim[0])\n"
     ]
    },
    {
     "name": "stdout",
     "output_type": "stream",
     "text": [
      "Warning: Parameter cortical_depth not given when cell was initialized. The parameter was set to 400.000000 um.\n",
      "----------------------------------------------------------------------------------------------------\n",
      "DATA RANGE:  1.0 1.0\n"
     ]
    },
    {
     "data": {
      "text/plain": [
       "<matplotlib.collections.LineCollection at 0x7fc4b7e3f550>"
      ]
     },
     "execution_count": 4,
     "metadata": {},
     "output_type": "execute_result"
    }
   ],
   "source": [
    "# fig0 parameters\n",
    "## light and neuron display\n",
    "cortex_boundaries = { \n",
    "    'x': [0,1000],\n",
    "    'z': [0,2000]\n",
    "}\n",
    "cortical_layer_boundaries = [400,800,1200,1600] # L1-2/3, L2/3-4, L4-5, L5-6 (#ToDO: find out real boundaries)\n",
    "L1_x = 500\n",
    "N1_x = 500\n",
    "\n",
    "scaling_neurons = 0.6\n",
    "neuron_color = c1\n",
    "\n",
    "# light source parameter combinations: (NA,diam) 0.1,50;  0.22,50;  0.22,200;  0.39,200;  0.39,400\n",
    "parameters = dict(\n",
    "    lightsource1 = dict(\n",
    "        NA = 0.1,\n",
    "        d__um = 50),\n",
    "    mu_s__per_mm = 7.37,\n",
    "    mu_a__per_mm = 0.1249,\n",
    ")\n",
    "\n",
    "# light profiles\n",
    "# Foutz optical fiber light source\n",
    "from neurostim.light_propagation_models import foutz_et_al2012\n",
    "xx, zz = np.meshgrid(np.arange(cortex_boundaries['x'][0],cortex_boundaries['x'][1]),\n",
    "                     np.arange(cortex_boundaries['z'][0],cortex_boundaries['z'][1]))\n",
    "L1_prof = foutz_et_al2012(\n",
    "    x=xx-L1_x, y=np.zeros(np.shape(xx)), z=zz, power=1, \n",
    "    width=parameters['lightsource1']['d__um'], NA=parameters['lightsource1']['NA'], \n",
    "    scatter_coefficient=parameters['mu_s__per_mm'], absorbance_coefficient=parameters['mu_a__per_mm'],\n",
    "    spreading=True, scattering=True)\n",
    "# for LogNorm set all 0 to 1e-10\n",
    "L1_prof[L1_prof==0] = 1e-10\n",
    "# scale bar\n",
    "#L1_prof[500:550,300:400]=1e10\n",
    "#L1_prof[300:500,750:800]=1e10\n",
    "# normalize light_profile by average output intensity\n",
    "# 1W/cm2 light power / (pi * diam_in_cm/2)**2\n",
    "avrg_output_intensity = 1 / (np.pi * (parameters['lightsource1']['d__um']/2 * 1e-4)**2)\n",
    "L1_prof /= avrg_output_intensity\n",
    "# neuron morphologies\n",
    "# cd to base directory of this repository to enable the loading of NEURON simulations\n",
    "import os\n",
    "os.chdir('/home/david/Projects/optogenetic_whole_cell_activation/morph_impact_on_opt_stim')\n",
    "from neurostim.cell import Cell\n",
    "L5 = Cell('simneurostim/model/hoc/L5.hoc', cortical_depth=dict(L5=1170))\n",
    "collectionL5 = L5.plot_foutz2012(\n",
    "    func=lambda x:1, axes='xz',scaling = scaling_neurons, segfunc=False, clim=None,cmap=None,color=c1, shift_x=N1_x)\n",
    "L23 = Cell('simneurostim/model/hoc/L23.hoc', cortical_depth=None)\n",
    "collectionL23 = L23.plot_foutz2012(\n",
    "    func=lambda x:1, axes='xz',scaling = scaling_neurons, segfunc=False, clim=None,cmap=None,color=c2, shift_x=N1_x)\n",
    "ax1.add_collection(collectionL5)\n",
    "ax1.add_collection(collectionL23)"
   ]
  },
  {
   "cell_type": "code",
   "execution_count": 5,
   "id": "7c237794",
   "metadata": {},
   "outputs": [],
   "source": [
    "from matplotlib.colors import LogNorm, BoundaryNorm\n",
    "from matplotlib.cm import Greys_r as cmap\n",
    "import matplotlib.colors as colors\n",
    "def truncate_colormap(cmap, minval=0.0, maxval=1.0, n=100):\n",
    "    new_cmap = colors.LinearSegmentedColormap.from_list(\n",
    "        'trunc({n},{a:.2f},{b:.2f})'.format(n=cmap.name, a=minval, b=maxval),\n",
    "        cmap(np.linspace(minval, maxval, n)))\n",
    "    return new_cmap\n",
    "cmap = truncate_colormap(cmap, minval=0, maxval=0.6)\n",
    "bounds = [1e-6, 1e-5, 1e-4, 1e-3, 1e-2, 1e-1, 1]\n",
    "norm = BoundaryNorm(bounds,ncolors=cmap.N)\n",
    "mappable = ax1.pcolormesh(xx,zz*-1,L1_prof, shading='nearest',\n",
    "              norm=norm,\n",
    "              cmap=cmap)\n",
    "ax1.set_xlim(*cortex_boundaries['x']) \n",
    "ax1.set_ylim(\n",
    "    -1*(cortex_boundaries['x'][1]-cortex_boundaries['x'][0])*ax1_ratio,\n",
    "    0\n",
    ")\n",
    "# turn axes off for neuron and light display\n",
    "ax1.set_axis_off()"
   ]
  },
  {
   "cell_type": "code",
   "execution_count": 6,
   "id": "53692a9c",
   "metadata": {},
   "outputs": [],
   "source": [
    "fig.savefig('paper/NEW_FIGURES/FIG6/plots/neuron_display_'+ str(parameters['lightsource1']['d__um'])\\\n",
    "            +'_'+ str(parameters['lightsource1']['NA'])+'.png', dpi=dpi, \n",
    "            facecolor='w', edgecolor='w',  \n",
    "            bbox_inches='tight')"
   ]
  },
  {
   "cell_type": "code",
   "execution_count": 7,
   "id": "2e1e6349",
   "metadata": {},
   "outputs": [
    {
     "name": "stdout",
     "output_type": "stream",
     "text": [
      "estimated diameter:  [49] um\n"
     ]
    }
   ],
   "source": [
    "### sanity check if optical fiber actually has given diameter\n",
    "# based on assumption that ~95% of the light power comes out of the surface area of the optical fiber\n",
    "def find_nearest(array, v):\n",
    "    return array[np.argmin(np.abs(array-v))]\n",
    "cumsum = np.cumsum(L1_prof[0,:])\n",
    "x1 = np.arange(1000)[cumsum==find_nearest(cumsum, v=np.max(cumsum)*0.025)]\n",
    "x2 = np.arange(1000)[cumsum==find_nearest(cumsum, v=np.max(cumsum)*0.975)]\n",
    "# plt.plot(cumsum)\n",
    "# plt.axvline(x=x1)\n",
    "# plt.axvline(x=x2)\n",
    "print('estimated diameter: ',x2-x1, 'um')"
   ]
  },
  {
   "cell_type": "code",
   "execution_count": 8,
   "id": "8d4ee96c-589f-4553-a424-3b4aaa138f94",
   "metadata": {},
   "outputs": [
    {
     "data": {
      "image/png": "[encoded data removed]",
      "text/plain": [
       "<Figure size 9.52704x158.784 with 1 Axes>"
      ]
     },
     "metadata": {
      "needs_background": "light"
     },
     "output_type": "display_data"
    }
   ],
   "source": [
    "# colorbar light\n",
    "fig = plt.figure(constrained_layout=False, figsize=(pw/50,pw/3))\n",
    "ax = fig.add_subplot()                           \n",
    "ticks=bounds\n",
    "cbar = fig.colorbar(mappable, cax=ax, ticks=ticks, extend='both')\n",
    "tick_labels = ['{:5.0e}'.format(x) if idx%2==0 else '' for idx,x in enumerate(ticks)]  # unit: mW/cm2\n",
    "cbar.ax.set_yticklabels(tick_labels, rotation=0)\n",
    "fig.savefig('paper/NEW_FIGURES/FIG6/plots/colobar_light_intensity.png', dpi=dpi, \n",
    "            facecolor='w', edgecolor='w',  \n",
    "            bbox_inches='tight')\n",
    "plt.show()"
   ]
  },
  {
   "cell_type": "code",
   "execution_count": null,
   "id": "7c4c0ada-3f87-425f-baf8-063cef5cbfda",
   "metadata": {},
   "outputs": [],
   "source": []
  }
 ],
 "metadata": {
  "kernelspec": {
   "display_name": "Python 3",
   "language": "python",
   "name": "python3"
  },
  "language_info": {
   "codemirror_mode": {
    "name": "ipython",
    "version": 3
   },
   "file_extension": ".py",
   "mimetype": "text/x-python",
   "name": "python",
   "nbconvert_exporter": "python",
   "pygments_lexer": "ipython3",
   "version": "3.6.13"
  }
 },
 "nbformat": 4,
 "nbformat_minor": 5
}
